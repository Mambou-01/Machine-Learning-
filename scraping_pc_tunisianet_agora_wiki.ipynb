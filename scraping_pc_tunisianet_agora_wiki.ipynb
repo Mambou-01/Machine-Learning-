{
  "nbformat": 4,
  "nbformat_minor": 0,
  "metadata": {
    "accelerator": "GPU",
    "colab": {
      "name": "scraping_pc_tunisianet_agora_wiki.ipynb",
      "provenance": [],
      "authorship_tag": "ABX9TyP8tEWVeXRHSR29Mc4WjPw9",
      "include_colab_link": true
    },
    "kernelspec": {
      "display_name": "Python 3",
      "name": "python3"
    },
    "language_info": {
      "name": "python"
    }
  },
  "cells": [
    {
      "cell_type": "markdown",
      "metadata": {
        "id": "view-in-github",
        "colab_type": "text"
      },
      "source": [
        "<a href=\"https://colab.research.google.com/github/Mambou-01/Machine-Learning-/blob/main/scraping_pc_tunisianet_agora_wiki.ipynb\" target=\"_parent\"><img src=\"https://colab.research.google.com/assets/colab-badge.svg\" alt=\"Open In Colab\"/></a>"
      ]
    },
    {
      "cell_type": "code",
      "metadata": {
        "id": "_dNTpM2dJ6qr"
      },
      "source": [
        "from bs4 import BeautifulSoup\n",
        "import requests\n",
        "import pandas as pd"
      ],
      "execution_count": 1,
      "outputs": []
    },
    {
      "cell_type": "code",
      "metadata": {
        "id": "KA9uSHCBLe9t"
      },
      "source": [
        "global articles \n",
        "articles = []"
      ],
      "execution_count": 2,
      "outputs": []
    },
    {
      "cell_type": "markdown",
      "metadata": {
        "id": "UFOs2duNE_L_"
      },
      "source": [
        "#wiki"
      ]
    },
    {
      "cell_type": "code",
      "metadata": {
        "id": "6eA_c51KKozF"
      },
      "source": [
        "def getDetails(element):\n",
        "    page = requests.get(element['url'])\n",
        "    soup = BeautifulSoup(page.text,'html.parser')\n",
        "    element['designation'] = soup.find(\"h1\",{\"class\" : \"h1\"}).text\n",
        "    element['prix'] = soup.find(\"div\",{\"class\" : \"current-price\"}).find(\"span\").attrs['content']\n",
        "    for t,d in zip(soup.find(\"dl\",{\"class\" : \"data-sheet\"}).find_all(\"dt\"),soup.find(\"dl\",{\"class\" : \"data-sheet\"}).find_all(\"dd\")):\n",
        "        if \"Système\" in  t.text.split():\n",
        "          element[\"systeme\"] = d.text\n",
        "        elif \"Processeur\" in  t.text.split():\n",
        "          element[\"processeur\"] = d.text\n",
        "        elif \"Mémoire\" in t.text.split():\n",
        "          element[\"ram\"] = d.text\n",
        "        elif \"Disque\" in t.text.split() :\n",
        "          element[\"disqueDur\"] = d.text\n",
        "        elif \"Graphique\" in t.text.split()  or \"Graphiques\" in t.text.split() :\n",
        "          element[\"CarteGraphique\"] = d.text\n",
        "    return element\n",
        "    \n",
        "    "
      ],
      "execution_count": 3,
      "outputs": []
    },
    {
      "cell_type": "code",
      "metadata": {
        "colab": {
          "base_uri": "https://localhost:8080/"
        },
        "id": "n547FT3_FCeO",
        "outputId": "4a685968-8c26-445e-e663-e4316c42c52c"
      },
      "source": [
        "url = 'https://spacenet.tn/categorie/74-pc-portable'\n",
        "page = requests.get(url)\n",
        "soup = BeautifulSoup(page.text,'html.parser')\n",
        "for article in soup.find_all(\"div\",{\"class\" : \"item col-xs-12 col-sm-6 col-md-6 col-lg-3\"}):\n",
        "  element = {}\n",
        "  element['url'] = article.find(\"a\",{\"class\" : \"thumbnail product-thumbnail\"}).attrs['href']\n",
        "  element['urlImage'] = article.find(\"img\",{\"class\" : \"img-responsive\"}).attrs['src']\n",
        "  print(getDetails(element))\n",
        "\n",
        "\n",
        " "
      ],
      "execution_count": null,
      "outputs": [
        {
          "output_type": "stream",
          "name": "stdout",
          "text": [
            "{'url': 'https://spacenet.tn/pc-portable/44089-pc-portable-lenovo-ideapad-3-intel-celeron-4go-1to-gris-81wq004cfe.html', 'urlImage': 'https://spacenet.tn/73180-home_default/pc-portable-lenovo-ideapad-3-intel-celeron-4go-1to-gris-81wq004cfe.jpg', 'designation': 'Pc Portable Lenovo Ideapad 3 Intel Celeron 4Go 1To Gris (81WQ004CFE)', 'prix': '929', 'systeme': 'Free Dos', 'ram': ' 4 Go', 'CarteGraphique': 'Graphique Intégrée', 'processeur': 'Intel Celeron', 'disqueDur': '1 To'}\n",
            "{'url': 'https://spacenet.tn/pc-portable/44515-pc-portable-asus-vivobook-r12-intel-celeron-n3350-4go-64go-bleu-w202na-gj0094r.html', 'urlImage': 'https://spacenet.tn/75905-home_default/pc-portable-asus-vivobook-r12-intel-celeron-n3350-4go-64go-bleu-w202na-gj0094r.jpg', 'designation': 'Pc Portable Asus Vivobook R12 Intel Celeron N3350  4Go 64Go Bleu (W202NA-GJ0094R)', 'prix': '939', 'disqueDur': '64 Go eMMC', 'systeme': ' Windows 10 Pro', 'ram': ' 4 Go', 'CarteGraphique': 'Graphique Intégrée', 'processeur': 'Intel Celeron'}\n",
            "{'url': 'https://spacenet.tn/pc-portable/42353-pc-portable-asus-x543ma-dual-core-4go-500go-noir-x543ma-gqar21t.html', 'urlImage': 'https://spacenet.tn/64805-home_default/pc-portable-asus-x543ma-dual-core-4go-500go-noir-x543ma-gqar21t.jpg', 'designation': 'Pc Portable ASUS X543MA Dual Core 4Go 1To Noir (X543MA-GQAR21T)', 'prix': '969', 'disqueDur': '1 To', 'systeme': 'Windows 10 Home', 'ram': ' 4 Go', 'processeur': 'Intel Celeron'}\n",
            "{'url': 'https://spacenet.tn/pc-portable/42364-pc-portable-asus-x543ma-dual-core-4go-1to-gris-x543ma-gq1012t.html', 'urlImage': 'https://spacenet.tn/71350-home_default/pc-portable-asus-x543ma-dual-core-4go-1to-gris-x543ma-gq1012t.jpg', 'designation': 'Pc Portable ASUS X543MA Dual Core 4Go 1To Gris (X543MA-GQ1012T)', 'prix': '969', 'systeme': 'Windows 10 Home', 'ram': ' 4 Go', 'CarteGraphique': 'Graphique Intégrée', 'processeur': 'Intel Celeron', 'disqueDur': '1 To'}\n",
            "{'url': 'https://spacenet.tn/pc-portable/44102-pc-portable-hp-15-dw1001nk-dual-core-4-go-1-to-noir-280s8ea.html', 'urlImage': 'https://spacenet.tn/73275-home_default/pc-portable-hp-15-dw1001nk-dual-core-4-go-1-to-noir-280s8ea.jpg', 'designation': 'Pc Portable HP 15-DW1001NK Dual Core 4 Go 1 To Noir (280S8EA)', 'prix': '999', 'disqueDur': '1 To', 'systeme': 'Windows 10 Home', 'ram': ' 4 Go', 'CarteGraphique': 'Graphique Intégrée', 'processeur': 'Intel Celeron'}\n",
            "{'url': 'https://spacenet.tn/pc-portable/39132-pc-portable-hp15-dw1001nkintel-core-celeron-n40204-go1togris27z73ea.html', 'urlImage': 'https://spacenet.tn/50010-home_default/pc-portable-hp15-dw1001nkintel-core-celeron-n40204-go1togris27z73ea.jpg', 'designation': 'Pc Portable HP15-DW1001NK|Intel Core Celeron N4020|4 Go|1To|Gris(27Z73EA)', 'prix': '999', 'disqueDur': '1 To', 'systeme': 'Windows 10 Home', 'ram': ' 4 Go', 'CarteGraphique': 'Graphique Intégrée', 'processeur': 'Intel Celeron'}\n",
            "{'url': 'https://spacenet.tn/pc-portable/44513-pc-portable-asus-e410ma-intel-celeron-4go-128go-bleu-e410ma-bv1182t.html', 'urlImage': 'https://spacenet.tn/75891-home_default/pc-portable-asus-e410ma-intel-celeron-4go-128go-bleu-e410ma-bv1182t.jpg', 'designation': 'Pc Portable Asus E410MA Intel Celeron 4Go 128Go Bleu (E410MA-BV1182T)', 'prix': '1029', 'disqueDur': '128 Go eMMC ', 'systeme': 'Windows 10 Home', 'ram': ' 4 Go', 'CarteGraphique': 'Graphique Intégrée', 'processeur': 'Intel Celeron'}\n",
            "{'url': 'https://spacenet.tn/pc-portable/44214-pc-portable-asus-x543ua-i3-7gen-4go-1to-gris-x543ua-gq3392t.html', 'urlImage': 'https://spacenet.tn/74108-home_default/pc-portable-asus-x543ua-i3-7gen-4go-1to-gris-x543ua-gq3392t.jpg', 'designation': 'Pc Portable Asus X543UA i3 7Gén 4Go 1To Gris (X543UA-GQ3392T)', 'prix': '1239', 'disqueDur': '1 To', 'systeme': 'Windows 10 Home', 'ram': ' 4 Go', 'processeur': 'Intel Core i3'}\n",
            "{'url': 'https://spacenet.tn/pc-portable/44146-pc-portable-asus-vivobook-amd-ryzen-4go-1to-gris-d415da-bv873t.html', 'urlImage': 'https://spacenet.tn/73726-home_default/pc-portable-asus-vivobook-amd-ryzen-4go-1to-gris-d415da-bv873t.jpg', 'designation': 'Pc Portable Asus Vivobook AMD Ryzen 4Go 1To - Gris (D415DA-BV873T)', 'prix': '1259', 'disqueDur': '1 To', 'systeme': 'Windows 10 Home', 'ram': ' 4 Go', 'processeur': 'AMD Ryzen'}\n",
            "{'url': 'https://spacenet.tn/pc-portable/44091-pc-portable-lenovo-ideapad-l3-i3-10gen-4go-1to-noir-81we01axfe.html', 'urlImage': 'https://spacenet.tn/73193-home_default/pc-portable-lenovo-ideapad-l3-i3-10gen-4go-1to-noir-81we01axfe.jpg', 'designation': 'Pc Portable Lenovo Ideapad L3 i3 10Gén 4Go 1To Noir (81WE01AXFE)', 'prix': '1299', 'systeme': 'Windows 10 Home', 'ram': ' 4 Go', 'CarteGraphique': 'Graphique Intégrée', 'processeur': 'Intel Core i3', 'disqueDur': '1 To'}\n",
            "{'url': 'https://spacenet.tn/pc-portable/41798-pc-portable-hp-255-g8-ryzen3-3250u-4go-1to-32p03ea.html', 'urlImage': 'https://spacenet.tn/66884-home_default/pc-portable-hp-255-g8-ryzen3-3250u-4go-1to-32p03ea.jpg', 'designation': 'Pc Portable HP 255 G8 Ryzen3 3250U 4Go 1To (32P03EA)', 'prix': '1349', 'disqueDur': '1 To', 'systeme': 'Free Dos', 'ram': ' 4 Go', 'processeur': 'AMD Ryzen', 'CarteGraphique': 'Graphique Intégrée'}\n",
            "{'url': 'https://spacenet.tn/pc-portables-pro/42139-pc-portable-hp-250-g8-i3-10gen-4go-1to-noir-27k10ea.html', 'urlImage': 'https://spacenet.tn/67034-home_default/pc-portable-hp-250-g8-i3-10gen-4go-1to-noir-27k10ea.jpg', 'designation': 'Pc Portable HP 250 G8 i3 10Gén 4Go 1To Noir (27K10EA)', 'prix': '1349', 'systeme': 'Free Dos', 'ram': ' 4 Go', 'CarteGraphique': 'Graphique Intégrée', 'processeur': 'Intel Core i3', 'disqueDur': '1 To'}\n",
            "{'url': 'https://spacenet.tn/pc-portable/42907-pc-portable-asus-x409fa-i3-10gene-4go-1to-bleu-x409fa-bv596t.html', 'urlImage': 'https://spacenet.tn/67019-home_default/pc-portable-asus-x409fa-i3-10gene-4go-1to-bleu-x409fa-bv596t.jpg', 'designation': 'Pc Portable ASUS X409FA i3\\xa010Géne 4Go 1To Bleu (X409FA-BV596T)', 'prix': '1359', 'systeme': 'Windows 10 Home', 'ram': ' 4 Go', 'CarteGraphique': 'Graphique Intégrée', 'processeur': 'Intel Core i3', 'disqueDur': '1 To'}\n",
            "{'url': 'https://spacenet.tn/pc-portable/44211-pc-portable-asus-x409fa-i3-10gene-4go-1to-silver-x409fa-bv582t.html', 'urlImage': 'https://spacenet.tn/74100-home_default/pc-portable-asus-x409fa-i3-10gene-4go-1to-silver-x409fa-bv582t.jpg', 'designation': 'Pc Portable ASUS X409FA i3\\xa010Géne 4Go 1To Silver (X409FA-BV582T)', 'prix': '1359', 'systeme': 'Windows 10 Home', 'ram': ' 4 Go', 'CarteGraphique': 'Graphique Intégrée', 'processeur': 'Intel Core i3', 'disqueDur': '1 To'}\n",
            "{'url': 'https://spacenet.tn/pc-portable/42357-pc-portable-asus-x509fa-i3-10gen-4go-1to-silver-x509fa-br946t.html', 'urlImage': 'https://spacenet.tn/71352-home_default/pc-portable-asus-x509fa-i3-10gen-4go-1to-silver-x509fa-br946t.jpg', 'designation': 'Pc Portable ASUS X509FA i3 10Gén 4Go 1To - Silver (X509FA-BR946T)', 'prix': '1379', 'disqueDur': '1 To', 'systeme': 'Windows 10 Home', 'ram': ' 4 Go', 'processeur': 'Intel Core i3'}\n",
            "{'url': 'https://spacenet.tn/pc-portable/43268-pc-portable-asus-x509fa-i3-10gen-4go-1to-bleu-x509fa-br976t.html', 'urlImage': 'https://spacenet.tn/68787-home_default/pc-portable-asus-x509fa-i3-10gen-4go-1to-bleu-x509fa-br976t.jpg', 'designation': 'Pc Portable ASUS X509FA i3 10Gén 4Go 1To - Bleu (X509FA-BR976T)', 'prix': '1379', 'disqueDur': '1 To', 'systeme': 'Windows 10 Home', 'ram': ' 4 Go', 'processeur': 'Intel Core i3'}\n",
            "{'url': 'https://spacenet.tn/vente-ordinateur-portable-tunisie/42970-pc-portable-dell-vostro-3500-i3-11gen-4go-1-to-noir.html', 'urlImage': 'https://spacenet.tn/67310-home_default/pc-portable-dell-vostro-3500-i3-11gen-4go-1-to-noir.jpg', 'designation': 'Pc Portable Dell Vostro 3500 i3 11Gén 4Go 1 To Noir', 'prix': '1429', 'systeme': 'Free Dos', 'ram': ' 4 Go', 'CarteGraphique': 'Graphique Intégrée', 'processeur': 'Intel Core i3', 'disqueDur': '1 To'}\n",
            "{'url': 'https://spacenet.tn/pc-portable/43093-pc-portable-asus-x509fa-i3-10gen-8go-1to-silver-x509fa-br946t.html', 'urlImage': 'https://spacenet.tn/71353-home_default/pc-portable-asus-x509fa-i3-10gen-8go-1to-silver-x509fa-br946t.jpg', 'designation': 'Pc Portable ASUS X509FA i3 10Gén 8Go 1To - Silver (X509FA-BR946T)', 'prix': '1439', 'disqueDur': '1 To', 'systeme': 'Windows 10 Home', 'ram': ' 8 Go ', 'processeur': 'Intel Core i3'}\n",
            "{'url': 'https://spacenet.tn/pc-portable/43096-pc-portable-asus-x509fa-i3-10gen-8go-1to-bleu-x509fa-br976t.html', 'urlImage': 'https://spacenet.tn/71356-home_default/pc-portable-asus-x509fa-i3-10gen-8go-1to-bleu-x509fa-br976t.jpg', 'designation': 'Pc Portable ASUS X509FA i3 10Gén 8Go 1To - Bleu (X509FA-BR976T)', 'prix': '1439', 'disqueDur': '1 To', 'systeme': 'Windows 10 Home', 'ram': ' 8 Go ', 'processeur': 'Intel Core i3'}\n",
            "{'url': 'https://spacenet.tn/pc-portables-pro/44103-pc-portable-hp-250-g8-i3-10gen-8go-1to-noir-27k10ea.html', 'urlImage': 'https://spacenet.tn/73283-home_default/pc-portable-hp-250-g8-i3-10gen-8go-1to-noir-27k10ea.jpg', 'designation': 'Pc Portable HP 250 G8 i3 10Gén 8Go 1To Noir (27K10EA)', 'prix': '1429', 'systeme': 'Free Dos', 'ram': ' 8 Go ', 'CarteGraphique': 'Graphique Intégrée', 'processeur': 'Intel Core i3', 'disqueDur': '1 To'}\n"
          ]
        }
      ]
    },
    {
      "cell_type": "code",
      "metadata": {
        "id": "FjWcqNUxVDhI"
      },
      "source": [
        "dataset = pd.DataFrame(articles)\n",
        "dataset.to_csv(\"spacenet.csv\",index=False)"
      ],
      "execution_count": null,
      "outputs": []
    },
    {
      "cell_type": "markdown",
      "metadata": {
        "id": "TbQfSICAbVLm"
      },
      "source": [
        "#Jumia"
      ]
    },
    {
      "cell_type": "code",
      "metadata": {
        "id": "2viLRUmvelcK"
      },
      "source": [
        "def getDetails(element):\n",
        "      try:\n",
        "        page = requests.get(element['url'])\n",
        "        article = BeautifulSoup(page.text,'html.parser')\n",
        "        element['designation'] = article.find(\"h1\",{\"class\" : \"-fs20 -pts -pbxs\"}).text\n",
        "        element['prix'] = article.find(\"span\",{\"class\" : \"-b -ltr -tal -fs24\"}).text\n",
        "        for t in article.find(\"div\",{\"class\" : \"markup -pam\"}).find_all(\"li\"):\n",
        "            \n",
        "              if \"Processeur\" in t.text.split():\n",
        "                element[\"processeur\"] = t.text\n",
        "              elif \"Mémoire\" == t.text.split()[0]:\n",
        "                element[\"ram\"] = t.text\n",
        "              elif \"Disque\" == t.text.split()[0]:\n",
        "                element[\"disqueDur\"] = t.text\n",
        "      except AttributeError:\n",
        "          pass\n",
        "      except IndexError:\n",
        "        pass\n",
        "      return element"
      ],
      "execution_count": 4,
      "outputs": []
    },
    {
      "cell_type": "code",
      "metadata": {
        "id": "sq7SVx1AbUXh",
        "colab": {
          "base_uri": "https://localhost:8080/",
          "height": 1000
        },
        "outputId": "7bd53c01-bd76-435a-e457-682355b754b1"
      },
      "source": [
        "for i in range(2):\n",
        "  if i == 0 :\n",
        "    url_jumia = 'https://www.jumia.com.tn/ordinateurs-tablettes-ordinateurs-portables-traditionnels/'\n",
        "  else:\n",
        "    url_jumia = 'https://www.jumia.com.tn/ordinateurs-tablettes-ordinateurs-portables-traditionnels/?page=2#catalog-listing'\n",
        "\n",
        "  page_jumia = requests.get(url_jumia)\n",
        "  soup_jumia = BeautifulSoup(page_jumia.text,'html.parser')\n",
        "  for article in soup_jumia.find_all(\"article\",{\"class\" : \"prd _fb col c-prd\"}):\n",
        "      element = {}\n",
        "      element['url'] = \"https://www.jumia.com.tn\" + article.find(\"a\",{\"class\" : \"core\"}).attrs['href']\n",
        "      element['urlImage'] = article.find(\"img\",{\"class\" : \"img\"}).attrs['data-src']\n",
        "      print(getDetails(element))\n"
      ],
      "execution_count": 6,
      "outputs": [
        {
          "output_type": "stream",
          "name": "stdout",
          "text": [
            "{'url': 'https://www.jumia.com.tn/hp-pc-hp15-n4020-4m-4g-1t-win10-argent-garantie-1an-483664.html', 'urlImage': 'https://tn.jumia.is/unsafe/fit-in/300x300/filters:fill(white)/product/46/6384/1.jpg?4267', 'designation': 'Hp Pc HP15 - N4020 4M - 4G - 1T - Win10 - Argent - Garantie 1an', 'prix': '999.00 TND', 'processeur': 'Processeur Intel Core Celeron N4020, up to 2.8 GHz, 4 Mo de cache', 'disqueDur': 'Disque dur: 1000 Go'}\n",
            "{'url': 'https://www.jumia.com.tn/asus-pc-x543ma-n4020-4g-1tb-gris-w10-garantie-1an-454892.html', 'urlImage': 'https://tn.jumia.is/unsafe/fit-in/300x300/filters:fill(white)/product/29/8454/1.jpg?0490', 'designation': 'Asus Pc  X543MA - N4020 - 4G- 1Tb - Gris - W10 - Garantie 1an', 'prix': '949.00 TND', 'processeur': 'Processeur Intel N4020', 'ram': 'Mémoire 4G DDR4'}\n",
            "{'url': 'https://www.jumia.com.tn/lenovo-ideapad3-intel-i3-10eme-gen-8g-1tb-garantie-1an-480666.html', 'urlImage': 'https://tn.jumia.is/unsafe/fit-in/300x300/filters:fill(white)/product/66/6084/1.jpg?2027', 'designation': 'Lenovo IdeaPad3 - Intel  I3 10émé Gén - 8G - 1Tb - Garantie 1an', 'prix': '1,369.00 TND', 'processeur': 'Processeur\\xa0Processeur Intel\\nCore I3-1005G1, 3.4 Ghz, 4 Mo De Mémoire Cache', 'ram': 'Mémoire 8 Go\\xa0 (Extension)', 'disqueDur': 'Disque 1Tb'}\n",
            "{'url': 'https://www.jumia.com.tn/lenovo-portable-v15-intel-n4020-4go-1to-garantie-1-an-465791.html', 'urlImage': 'https://tn.jumia.is/unsafe/fit-in/300x300/filters:fill(white)/product/19/7564/1.jpg?4486', 'designation': 'Lenovo Portable - V15 - Intel N4020 - 4Go - 1To - Garantie 1 an', 'prix': '948.00 TND', 'processeur': 'Processeur Intel Dual Core N4020, up to 2.8 GHz, 4 Mo de mémoire cache\\xa0', 'ram': 'Mémoire 4 Go\\xa0', 'disqueDur': 'Disque 1\\xa0To'}\n",
            "{'url': 'https://www.jumia.com.tn/hp-pc-hp15-i3-11eme-gen-4-g-256-ssd-w10-garantie-1an-446444.html', 'urlImage': 'https://tn.jumia.is/unsafe/fit-in/300x300/filters:fill(white)/product/44/4644/1.jpg?1889', 'designation': 'Hp Pc HP15 - I3 11éme Gén - 4 G - 256 SSD - W10 - Garantie 1an', 'prix': '1,549.00 TND', 'disqueDur': 'Disque dur: 256 Go SSD'}\n",
            "{'url': 'https://www.jumia.com.tn/lenovo-ideapad3-i3-10eme-8g-1t-sac-t210-garantie-1an-487551.html', 'urlImage': 'https://tn.jumia.is/unsafe/fit-in/300x300/filters:fill(white)/product/15/5784/1.jpg?8766', 'designation': 'Lenovo IdeaPad3 - I3 10éme - 8G - 1T + Sac T210 - Garantie 1an', 'prix': '1,409.00 TND', 'processeur': 'Processeur\\xa0Processeur Intel\\nCore I3-1005G1, 3.4 Ghz, 4 Mo De Mémoire Cache', 'ram': 'Mémoire 8 Go (Extension)', 'disqueDur': 'Disque 1Tb'}\n",
            "{'url': 'https://www.jumia.com.tn/hp-portable-i3-1005g1-8gb-1tb-sac-hp-essential-top-load-460132.html', 'urlImage': 'https://tn.jumia.is/unsafe/fit-in/300x300/filters:fill(white)/product/23/1064/1.jpg?4487', 'designation': 'Hp Portable  i3-1005G1 - 8Gb - 1Tb + Sac HP Essential Top Load', 'prix': '1,399.00 TND', 'disqueDur': 'Disque dur:\\xa01 To\\xa0'}\n",
            "{'url': 'https://www.jumia.com.tn/lenovo-pack-pc-portable-sacoche-flash-disque-imprimante-garantie-1-an-472582.html', 'urlImage': 'https://tn.jumia.is/unsafe/fit-in/300x300/filters:fill(white)/product/28/5274/1.jpg?8226', 'designation': 'Lenovo Pack pc portable - Sacoche - Flash disque - Imprimante - Garantie 1 an', 'prix': '1,099.00 TND', 'processeur': '\\nProcesseur Intel Celeron Dual Core N4020, up to 2.8 Ghz,\\n', 'ram': '\\nMémoire 4 Go\\xa0\\n', 'disqueDur': '\\nDisque 1 To - Intel HD Graphics\\xa0\\n'}\n",
            "{'url': 'https://www.jumia.com.tn/hp-portable-i3-1005g1-4gb-1tb-sac-hp-essential-top-load-458383.html', 'urlImage': 'https://tn.jumia.is/unsafe/fit-in/300x300/filters:fill(white)/product/38/3854/1.jpg?2907', 'designation': 'Hp Portable - i3-1005G1 - 4Gb - 1Tb + Sac HP Essential Top Load', 'prix': '1,329.00 TND', 'disqueDur': '\\nDisque dur:\\xa01 To\\xa0\\n'}\n",
            "{'url': 'https://www.jumia.com.tn/asus-pc-x543ma-n4020-4g-1tb-souris-asus-gris-w10-466235.html', 'urlImage': 'https://tn.jumia.is/unsafe/fit-in/300x300/filters:fill(white)/product/53/2664/1.jpg?8305', 'designation': 'Asus Pc  X543MA - N4020 - 4G- 1Tb + Souris ASUS - Gris - W10', 'prix': '969.00 TND', 'processeur': 'Processeur Intel N4020', 'ram': 'Mémoire 4G DDR4'}\n",
            "{'url': 'https://www.jumia.com.tn/apple-macbook-air-13-pouces-m1-256-go-clavier-azerty-gris-sideral-garantie-1-an-356883.html', 'urlImage': 'https://tn.jumia.is/unsafe/fit-in/300x300/filters:fill(white)/product/38/8653/1.jpg?5286', 'designation': 'Apple MacBook Air 13 pouces M1 - 256 Go - Clavier Azerty - Gris Sidéral - Garantie 1 an', 'prix': '3,849.00 TND'}\n",
            "{'url': 'https://www.jumia.com.tn/apple-macbook-pro-16-pouces-gris-sideral-clavier-qwerty-garantie-1an-463977.html', 'urlImage': 'https://tn.jumia.is/unsafe/fit-in/300x300/filters:fill(white)/product/77/9364/1.jpg?1926', 'designation': 'Apple MacBook Pro 16 pouces - Gris sidéral - Clavier Qwerty -Garantie 1an', 'prix': '8,760.00 TND', 'processeur': 'Processeur Intel Core\\xa0i7 hexacœur\\xa0de\\xa09 ème génération à\\xa02,6\\xa0GHz'}\n",
            "{'url': 'https://www.jumia.com.tn/apple-macbook-pro-13-pouces-puce-apple-m1-512-go-clavier-azerty-gris-sideral-garantie-1-an-356881.html', 'urlImage': 'https://tn.jumia.is/unsafe/fit-in/300x300/filters:fill(white)/product/18/8653/1.jpg?1526', 'designation': 'Apple MacBook Pro 13 pouces Puce Apple M1 - 512 Go - Clavier Azerty - Gris Sidéral - Garantie 1 an', 'prix': '5,449.00 TND'}\n",
            "{'url': 'https://www.jumia.com.tn/asus-pc-portable-x509fa-i3-10e-1to-4-go-blue-garantie-1an-452921.html', 'urlImage': 'https://tn.jumia.is/unsafe/fit-in/300x300/filters:fill(white)/product/12/9254/1.jpg?5868', 'designation': 'Asus PC Portable X509FA I3 10È 1TO 4 GO Blue / Garantie 1an', 'prix': '1,329.00 TND', 'processeur': 'Processeur : Intel Core i3-10110U (2.10 GHz up to 4.10 GHz, 4Mo Mémoire cache, Dual-Core)\\xa0', 'ram': 'Mémoire RAM: 4 Go\\xa0', 'disqueDur': 'Disque Dur : 1 To\\xa0\\xa0'}\n",
            "{'url': 'https://www.jumia.com.tn/apple-macbook-air-13-pouces-ecran-retina-256-go-space-grey-192046.html', 'urlImage': 'https://tn.jumia.is/unsafe/fit-in/300x300/filters:fill(white)/product/64/0291/1.jpg?1652', 'designation': 'Apple MacBook Air 13 pouces - Ecran retina - 256 Go - Space grey', 'prix': '4,569.00 TND'}\n",
            "{'url': 'https://www.jumia.com.tn/hp-pc-portable-i5-11eme-8go-1tb-windows10-garantie-1an-370790.html', 'urlImage': 'https://tn.jumia.is/unsafe/fit-in/300x300/filters:fill(white)/product/09/7073/1.jpg?2584', 'designation': 'Hp Pc Portable I5-11éme-8GO-1TB-Windows10 -Garantie 1An', 'prix': '1,899.00 TND'}\n",
            "{'url': 'https://www.jumia.com.tn/apple-macbook-air-13-pouces-m1-512-go-gris-sideral-garantie-1-an-356838.html', 'urlImage': 'https://tn.jumia.is/unsafe/fit-in/300x300/filters:fill(white)/product/83/8653/1.jpg?1526', 'designation': 'Apple MacBook Air 13 pouces M1 - 512 Go - Gris Sidéral - Garantie 1 an', 'prix': '4,749.00 TND'}\n",
            "{'url': 'https://www.jumia.com.tn/lenovo-pc-portable-v15-4020-dualcore-4go-1to-silver-garantie-1an-373072.html', 'urlImage': 'https://tn.jumia.is/unsafe/fit-in/300x300/filters:fill(white)/product/27/0373/1.jpg?8327', 'designation': 'Lenovo PC Portable -v15 4020 - DualCore - 4Go - 1To - Silver - Garantie 1An', 'prix': '949.00 TND', 'ram': '\\xa0Mémoire RAM:\\xa04\\xa0Go\\xa0DDR4\\xa0', 'disqueDur': '\\xa0Disque Dur:\\xa01\\xa0To\\xa0'}\n",
            "{'url': 'https://www.jumia.com.tn/hp-portable-i3-11eme-gen-4-g-1tb-win10-garantie-1an-426843.html', 'urlImage': 'https://tn.jumia.is/unsafe/fit-in/300x300/filters:fill(white)/product/34/8624/1.jpg?7248', 'designation': 'Hp Portable - I3 11éme Gén - 4 G - 1Tb - Win10 -Garantie 1an', 'prix': '1,549.00 TND', 'disqueDur': 'Disque dur: 1000 Go'}\n",
            "{'url': 'https://www.jumia.com.tn/hp-pc-15.6-i5-10e-gen-4go-1to-gris-garantie-1an-371252.html', 'urlImage': 'https://tn.jumia.is/unsafe/fit-in/300x300/filters:fill(white)/product/25/2173/1.jpg?6505', 'designation': 'Hp Pc - 15.6\" - i5 10è Gén - 4Go - 1To - Gris - Garantie 1an', 'prix': '1,839.00 TND', 'ram': 'Mémoire Ram: 4 Go DDR4\\xa0', 'disqueDur': 'Disque Dur: 1 To 5400 tours/min\\xa0\\xa0'}\n",
            "{'url': 'https://www.jumia.com.tn/hp-pc-hp15-n4020-4m-8g-1t-win10-argent-garantie-1an-490875.html', 'urlImage': 'https://tn.jumia.is/unsafe/fit-in/300x300/filters:fill(white)/product/57/8094/1.jpg?4566', 'designation': 'Hp Pc HP15 - N4020 4M - 8G - 1T - Win10 - Argent - Garantie 1an', 'prix': '1,099.00 TND', 'processeur': 'Processeur Intel Core Celeron N4020, up to 2.8 GHz, 4 Mo de cache', 'disqueDur': 'Disque dur: 1000 Go'}\n",
            "{'url': 'https://www.jumia.com.tn/apple-macbook-pro-13-pouces-puce-apple-m1-256-go-clavier-azerty-gris-sideral-garantie-1-an-356882.html', 'urlImage': 'https://tn.jumia.is/unsafe/fit-in/300x300/filters:fill(white)/product/28/8653/1.jpg?1528', 'designation': 'Apple MacBook Pro 13 pouces Puce Apple M1 - 256 Go - Clavier Azerty - Gris Sidéral - Garantie 1 an', 'prix': '4,749.00 TND'}\n",
            "{'url': 'https://www.jumia.com.tn/lenovo-pc-portable-v15-n4020-dualcore-4g-1t-garantie-1an-467627.html', 'urlImage': 'https://tn.jumia.is/unsafe/fit-in/300x300/filters:fill(white)/product/72/6764/1.jpg?1105', 'designation': 'Lenovo Pc Portable V15 N4020 Dualcore 4G 1T - Garantie 1an', 'prix': '979.00 TND', 'ram': 'Mémoire RAM: 4 Go de mémoire DDR4-2400 soudée', 'disqueDur': 'Disque Dur: 1 To 5 400 tr/min 2,5″'}\n",
            "{'url': 'https://www.jumia.com.tn/hp-pc-portable-15-dw3014nk-i5-1135g7-8gb-1tb-garantie-1an-479182.html', 'urlImage': 'https://tn.jumia.is/unsafe/fit-in/300x300/filters:fill(white)/product/28/1974/1.jpg?2787', 'designation': 'Hp Pc portable 15-dw3014nk - i5-1135G7 -8GB 1TB  -Garantie 1an', 'prix': '1,859.00 TND', 'ram': 'Mémoire Ram:\\xa08 Go', 'disqueDur': 'Disque Dur: 1 To'}\n",
            "{'url': 'https://www.jumia.com.tn/asus-pc-portable-x543m-n4020-4-g-1tb-win10-garantie-1an-466794.html', 'urlImage': 'https://tn.jumia.is/unsafe/fit-in/300x300/filters:fill(white)/product/49/7664/1.jpg?0086', 'designation': 'Asus Pc portable X543M - N4020 - 4 G - 1Tb - Win10 -Garantie 1an', 'prix': '1,019.00 TND', 'disqueDur': 'Disque dur: 1000 Go'}\n",
            "{'url': 'https://www.jumia.com.tn/apple-macbook-pro-13.3-puce-apple-m1-clavier-qwerty-gris-sideral-garantie-1an-463990.html', 'urlImage': 'https://tn.jumia.is/unsafe/fit-in/300x300/filters:fill(white)/product/09/9364/1.jpg?2407', 'designation': 'Apple MacBook Pro 13.3\" - Puce Apple M1 - Clavier Qwerty - Gris Sidéral -Garantie 1an', 'prix': '5,449.00 TND'}\n",
            "{'url': 'https://www.jumia.com.tn/hp-portable-i5-11ge-8g-256-ssd-nvme-win10-garantie-1an-490078.html', 'urlImage': 'https://tn.jumia.is/unsafe/fit-in/300x300/filters:fill(white)/product/87/0094/1.jpg?1085', 'designation': 'Hp Portable - I5 11Gé - 8G - 256 SSD NVMe - Win10- Garantie 1an', 'prix': '1,889.00 TND', 'ram': 'Mémoire RAM: 8 Go\\xa0DDR4', 'disqueDur': 'Disque dur: 256 SSD NVMe'}\n",
            "{'url': 'https://www.jumia.com.tn/acer-pc-portable-aspire-5-a515-i5-11e-gen-8-go-silver-489148.html', 'urlImage': 'https://tn.jumia.is/unsafe/fit-in/300x300/filters:fill(white)/product/84/1984/1.jpg?8405', 'designation': 'Acer PC Portable  ASPIRE 5 A515 - I5 11É GÉN - 8 GO SILVER', 'prix': '1,999.00 TND', 'processeur': 'Processeur Intel Core I5-1135G7, 11é Gén, Up To 4.2 GHz, 8 Mo De Mémoire Cache\\xa0', 'ram': 'Mémoire 8 Go\\xa0', 'disqueDur': 'Disque 1 To\\xa0'}\n",
            "{'url': 'https://www.jumia.com.tn/asus-portable-i3-10gen-4g-1tb-win10-sac-gratuit-469128.html', 'urlImage': 'https://tn.jumia.is/unsafe/fit-in/300x300/filters:fill(white)/product/82/1964/1.jpg?3768', 'designation': 'Asus Portable  - I3 10gén - 4G - 1Tb - Win10 + Sac Gratuit', 'prix': '1,379.00 TND', 'ram': 'Mémoire RAM: 4 Go\\xa0DDR4\\xa0\\xa0', 'disqueDur': 'Disque Dur:\\xa01 To\\xa0'}\n",
            "{'url': 'https://www.jumia.com.tn/hp-pc-portable-i5-1135g7-8g-1to-mx350-w10-garantie-1an-479567.html', 'urlImage': 'https://tn.jumia.is/unsafe/fit-in/300x300/filters:fill(white)/product/76/5974/1.jpg?1866', 'designation': 'Hp Pc portable  i5-1135G7 - 8g  -1To - mx350  w10 -Garantie 1an', 'prix': '2,029.00 TND', 'processeur': 'Type Processeur\\tQuad Core', 'ram': 'Mémoire Cache\\t8 Mo', 'disqueDur': 'Disque Dur\\t1 To'}\n",
            "{'url': 'https://www.jumia.com.tn/hp-pc-portable-15-dw3000nk-i3-1115g4-8go-1to-w10-garantie-1an-479180.html', 'urlImage': 'https://tn.jumia.is/unsafe/fit-in/300x300/filters:fill(white)/product/08/1974/1.jpg?2667', 'designation': 'Hp Pc portable 15-DW3000NK i3-1115G4 8GO 1To- W10 -Garantie 1an', 'prix': '1,529.00 TND', 'ram': 'Mémoire Ram:4 Go\\xa0 DDR4', 'disqueDur': 'Disque Dur:1To'}\n",
            "{'url': 'https://www.jumia.com.tn/lenovo-ideapad3-i3-10eme-gen-4g-1t-sac-t210-garantie-1an-487550.html', 'urlImage': 'https://tn.jumia.is/unsafe/fit-in/300x300/filters:fill(white)/product/05/5784/1.jpg?8766', 'designation': 'Lenovo IdeaPad3 - I3 10émé Gén - 4G - 1T + Sac T210 - Garantie 1an', 'prix': '1,349.00 TND', 'processeur': 'Processeur\\xa0Processeur Intel\\nCore I3-1005G1, 3.4 Ghz, 4 Mo De Mémoire Cache', 'ram': 'Mémoire 4 Go\\xa0', 'disqueDur': 'Disque 1Tb'}\n",
            "{'url': 'https://www.jumia.com.tn/lenovo-ideapad3-intel-i3-10eme-gen-4g-1tb-garantie-1an-480665.html', 'urlImage': 'https://tn.jumia.is/unsafe/fit-in/300x300/filters:fill(white)/product/56/6084/1.jpg?2027', 'designation': 'Lenovo IdeaPad3 - Intel  I3 10émé Gén - 4G - 1Tb - Garantie 1an', 'prix': '1,319.00 TND', 'processeur': 'Processeur\\xa0Processeur Intel\\nCore I3-1005G1, 3.4 Ghz, 4 Mo De Mémoire Cache', 'ram': 'Mémoire 4 Go\\xa0', 'disqueDur': 'Disque 1Tb'}\n",
            "{'url': 'https://www.jumia.com.tn/hp-pc-portable-i3-11e-gen-4go-1to-gris-garantie-1an-386055.html', 'urlImage': 'https://tn.jumia.is/unsafe/fit-in/300x300/filters:fill(white)/product/55/0683/1.jpg?2065', 'designation': 'Hp Pc portable I3 11è Gén 4Go - 1To - gris -Garantie 1an', 'prix': '1,439.00 TND', 'processeur': 'Processeur\\xa0Intel® Core™ i3-1115G4 (up to 4.1 GHz with Intel® Turbo Boost Technology, 6 MB L3 cache, 2 cores)', 'disqueDur': 'Disque dur 1 to HDD'}\n",
            "{'url': 'https://www.jumia.com.tn/asus-pc-portable-x543u-i3-4go1to-windows10-gris-garantie-1an-479150.html', 'urlImage': 'https://tn.jumia.is/unsafe/fit-in/300x300/filters:fill(white)/product/05/1974/1.jpg?9906', 'designation': 'Asus PC Portable X543U i3 - 4Go/1To/ Windows10 - Gris - Garantie 1an', 'prix': '1,289.00 TND'}\n",
            "{'url': 'https://www.jumia.com.tn/hp-pc-portable-i5-11eme-8go-256ssd-windows10-garantie-1an-429554.html', 'urlImage': 'https://tn.jumia.is/unsafe/fit-in/300x300/filters:fill(white)/product/45/5924/1.jpg?1565', 'designation': 'Hp Pc Portable I5-11éme-8GO-256SSD - Windows10 - Garantie 1An', 'prix': '1,867.00 TND'}\n",
            "{'url': 'https://www.jumia.com.tn/lenovo-thinkbook-i7-11eme-14-8go-1to-2g-nvidia-garantie-1an-481221.html', 'urlImage': 'https://tn.jumia.is/unsafe/fit-in/300x300/filters:fill(white)/product/12/2184/1.jpg?0685', 'designation': 'Lenovo Thinkbook I7-11éme 14\" 8GO-1TO-2G NVIDIA - Garantie 1an', 'prix': '2,448.00 TND', 'disqueDur': '\\xa0Disque dur:\\xa01 To\\xa0'}\n",
            "{'url': 'https://www.jumia.com.tn/dell-pc-portable-vostro-3500-i3-1154-4g-1t-noir-garantie-1an-491414.html', 'urlImage': 'https://tn.jumia.is/unsafe/fit-in/300x300/filters:fill(white)/product/41/4194/1.jpg?2505', 'designation': 'DELL PC - Portable - VOSTRO 3500 - I3 1154 - 4G 1T - Noir - Garantie 1an', 'prix': '1,620.00 TND', 'processeur': '\\xa0Processeur\\xa0Intel Core i3-1115G4\\xa0', 'disqueDur': 'Disque 1 To'}\n",
            "{'url': 'https://www.jumia.com.tn/asus-pc-portable-x543u-i3-4go1to-windows10-gris-garantie-1an-427725.html', 'urlImage': 'https://tn.jumia.is/unsafe/fit-in/300x300/filters:fill(white)/product/52/7724/1.jpg?2186', 'designation': 'Asus PC Portable X543U i3- 4Go/1TO/ Windows10 - Gris - Garantie 1an', 'prix': '1,229.00 TND'}\n",
            "{'url': 'https://www.jumia.com.tn/hp-pc-portable-i5-1135-8g-1t-win10-garantie-1-an-486876.html', 'urlImage': 'https://tn.jumia.is/unsafe/fit-in/300x300/filters:fill(white)/product/67/8684/1.jpg?5006', 'designation': 'Hp PC Portable - I5 1135 8G 1T - WIN10 - Garantie 1 an', 'prix': '2,240.00 TND', 'ram': 'Mémoire Ram:\\xa08 Go', 'disqueDur': 'Disque Dur:\\xa01 To'}\n",
            "{'url': 'https://www.jumia.com.tn/asus-portable-i3-10gen-4g-1tb-win10-gris-garantie-1an-469121.html', 'urlImage': 'https://tn.jumia.is/unsafe/fit-in/300x300/filters:fill(white)/product/12/1964/1.jpg?3586', 'designation': 'Asus Portable  - I3 10gén - 4G - 1Tb - Win10 -Gris - Garantie 1an', 'prix': '1,379.00 TND', 'ram': 'Mémoire RAM: 4 Go\\xa0DDR4\\xa0\\xa0', 'disqueDur': 'Disque Dur:\\xa01 To\\xa0'}\n",
            "{'url': 'https://www.jumia.com.tn/hp-pc-portable-3020nk-i3-1115g4-4g-256g-ssd-w10-garantie-1-an-481534.html', 'urlImage': 'https://tn.jumia.is/unsafe/fit-in/300x300/filters:fill(white)/product/43/5184/1.jpg?7825', 'designation': 'Hp Pc portable 3020nk- i3 1115g4 4g 256g SSD w10 -Garantie 1 an', 'prix': '1,445.00 TND', 'ram': 'Mémoire Ram: 4 Go DDR4', 'disqueDur': 'Disque Dur:\\xa0256 Go'}\n",
            "{'url': 'https://www.jumia.com.tn/acer-pc-portable-aspire-5-a515-i5-11e-gen-8-go-bleu-489142.html', 'urlImage': 'https://tn.jumia.is/unsafe/fit-in/300x300/filters:fill(white)/product/24/1984/1.jpg?7986', 'designation': 'Acer PC Portable  ASPIRE 5 A515 - I5 11É GÉN - 8 GO - Bleu', 'prix': '1,999.00 TND', 'processeur': 'Processeur Intel Core I5-1135G7, 11é Gén, Up To 4.2 GHz, 8 Mo De Mémoire Cache\\xa0', 'ram': 'Mémoire 8 Go\\xa0', 'disqueDur': 'Disque 1 To\\xa0'}\n",
            "{'url': 'https://www.jumia.com.tn/apple-macbook-air-13-pouces-m1-256-go-or-garantie-1-an-357259.html', 'urlImage': 'https://tn.jumia.is/unsafe/fit-in/300x300/filters:fill(white)/product/95/2753/1.jpg?7965', 'designation': 'Apple MacBook Air 13 pouces M1 - 256 Go - Or - Garantie 1 an', 'prix': '3,849.00 TND'}\n",
            "{'url': 'https://www.jumia.com.tn/asus-pc-portable-x543u-i3-4go-1to-w10-gris-garantie-1an-489680.html', 'urlImage': 'https://tn.jumia.is/unsafe/fit-in/300x300/filters:fill(white)/product/08/6984/1.jpg?1667', 'designation': 'Asus PC Portable X543U i3 - 4Go-1To- W10 - Gris - Garantie 1an', 'prix': '1,279.00 TND'}\n",
            "{'url': 'https://www.jumia.com.tn/apple-macbook-air-13.3-pouces-m1-256-go-argent-garantie-1-an-374098.html', 'urlImage': 'https://tn.jumia.is/unsafe/fit-in/300x300/filters:fill(white)/product/89/0473/1.jpg?1625', 'designation': 'Apple MacBook Air 13.3 pouces M1 - 256 Go - Argent - Garantie 1 an', 'prix': '3,849.00 TND'}\n",
            "{'url': 'https://www.jumia.com.tn/portable-v15-n4020-4go-256-ssd-intel-hd-garantie1-an-lenovo-mpg20626.html', 'urlImage': 'https://tn.jumia.is/unsafe/fit-in/300x300/filters:fill(white)/product/15/2264/1.jpg?6226'}\n",
            "{'url': 'https://www.jumia.com.tn/hp-pc-portable-i3-11e-gen-4go-256go-ssd-noir-garantie-1-an-382686.html', 'urlImage': 'https://tn.jumia.is/unsafe/fit-in/300x300/filters:fill(white)/product/68/6283/1.jpg?3499', 'designation': 'Hp Pc portable I3 11è Gén 4Go 256Go SSD - Noir - Garantie 1 an', 'prix': '1,439.00 TND', 'processeur': 'Processeur\\xa0Intel® Core™ i3-1115G4 (up to 4.1 GHz with Intel® Turbo Boost Technology, 6 MB L3 cache, 2 cores)', 'disqueDur': 'Disque 256 Go SSD\\xa0'}\n",
            "{'url': 'https://www.jumia.com.tn/hp-pc-portable-i3-11e-gen-8go-1to-gris-garantie-1an-397433.html', 'urlImage': 'https://tn.jumia.is/unsafe/fit-in/300x300/filters:fill(white)/product/33/4793/1.jpg?8564', 'designation': 'Hp Pc portable I3 11è Gén 8Go - 1To - gris -Garantie 1an', 'prix': '1,529.00 TND', 'processeur': 'Processeur\\xa0Intel® Core™ i3-1115G4 (up to 4.1 GHz with Intel® Turbo Boost Technology, 6 MB L3 cache, 2 cores)', 'disqueDur': 'Disque dur 1 to HDD'}\n",
            "{'url': 'https://www.jumia.com.tn/lenovo-ideapad-130-15ikb-i7-8550u-8go-1-to-noir-garantie-1an-264668.html', 'urlImage': 'https://tn.jumia.is/unsafe/fit-in/300x300/filters:fill(white)/product/86/6462/3.jpg?2529', 'designation': 'Lenovo IdeaPad 130-15IKB- i7 8550U- 8Go -1 To - Noir - Garantie 1an', 'prix': '2,199.00 TND', 'ram': 'Mémoire RAM:\\xa08Go\\xa0DDR4\\xa0', 'disqueDur': 'Disque Dur:\\xa01\\xa0To\\xa0(5400 rpm)'}\n"
          ]
        },
        {
          "output_type": "error",
          "ename": "KeyboardInterrupt",
          "evalue": "ignored",
          "traceback": [
            "\u001b[0;31m---------------------------------------------------------------------------\u001b[0m",
            "\u001b[0;31mTypeError\u001b[0m                                 Traceback (most recent call last)",
            "\u001b[0;32m/usr/local/lib/python3.7/dist-packages/urllib3/connectionpool.py\u001b[0m in \u001b[0;36m_make_request\u001b[0;34m(self, conn, method, url, timeout, chunked, **httplib_request_kw)\u001b[0m\n\u001b[1;32m    376\u001b[0m             \u001b[0;32mtry\u001b[0m\u001b[0;34m:\u001b[0m  \u001b[0;31m# Python 2.7, use buffering of HTTP responses\u001b[0m\u001b[0;34m\u001b[0m\u001b[0;34m\u001b[0m\u001b[0m\n\u001b[0;32m--> 377\u001b[0;31m                 \u001b[0mhttplib_response\u001b[0m \u001b[0;34m=\u001b[0m \u001b[0mconn\u001b[0m\u001b[0;34m.\u001b[0m\u001b[0mgetresponse\u001b[0m\u001b[0;34m(\u001b[0m\u001b[0mbuffering\u001b[0m\u001b[0;34m=\u001b[0m\u001b[0;32mTrue\u001b[0m\u001b[0;34m)\u001b[0m\u001b[0;34m\u001b[0m\u001b[0;34m\u001b[0m\u001b[0m\n\u001b[0m\u001b[1;32m    378\u001b[0m             \u001b[0;32mexcept\u001b[0m \u001b[0mTypeError\u001b[0m\u001b[0;34m:\u001b[0m  \u001b[0;31m# Python 3\u001b[0m\u001b[0;34m\u001b[0m\u001b[0;34m\u001b[0m\u001b[0m\n",
            "\u001b[0;31mTypeError\u001b[0m: getresponse() got an unexpected keyword argument 'buffering'",
            "\nDuring handling of the above exception, another exception occurred:\n",
            "\u001b[0;31mKeyboardInterrupt\u001b[0m                         Traceback (most recent call last)",
            "\u001b[0;32m<ipython-input-6-ef20d4885f1e>\u001b[0m in \u001b[0;36m<module>\u001b[0;34m()\u001b[0m\n\u001b[1;32m     11\u001b[0m       \u001b[0melement\u001b[0m\u001b[0;34m[\u001b[0m\u001b[0;34m'url'\u001b[0m\u001b[0;34m]\u001b[0m \u001b[0;34m=\u001b[0m \u001b[0;34m\"https://www.jumia.com.tn\"\u001b[0m \u001b[0;34m+\u001b[0m \u001b[0marticle\u001b[0m\u001b[0;34m.\u001b[0m\u001b[0mfind\u001b[0m\u001b[0;34m(\u001b[0m\u001b[0;34m\"a\"\u001b[0m\u001b[0;34m,\u001b[0m\u001b[0;34m{\u001b[0m\u001b[0;34m\"class\"\u001b[0m \u001b[0;34m:\u001b[0m \u001b[0;34m\"core\"\u001b[0m\u001b[0;34m}\u001b[0m\u001b[0;34m)\u001b[0m\u001b[0;34m.\u001b[0m\u001b[0mattrs\u001b[0m\u001b[0;34m[\u001b[0m\u001b[0;34m'href'\u001b[0m\u001b[0;34m]\u001b[0m\u001b[0;34m\u001b[0m\u001b[0;34m\u001b[0m\u001b[0m\n\u001b[1;32m     12\u001b[0m       \u001b[0melement\u001b[0m\u001b[0;34m[\u001b[0m\u001b[0;34m'urlImage'\u001b[0m\u001b[0;34m]\u001b[0m \u001b[0;34m=\u001b[0m \u001b[0marticle\u001b[0m\u001b[0;34m.\u001b[0m\u001b[0mfind\u001b[0m\u001b[0;34m(\u001b[0m\u001b[0;34m\"img\"\u001b[0m\u001b[0;34m,\u001b[0m\u001b[0;34m{\u001b[0m\u001b[0;34m\"class\"\u001b[0m \u001b[0;34m:\u001b[0m \u001b[0;34m\"img\"\u001b[0m\u001b[0;34m}\u001b[0m\u001b[0;34m)\u001b[0m\u001b[0;34m.\u001b[0m\u001b[0mattrs\u001b[0m\u001b[0;34m[\u001b[0m\u001b[0;34m'data-src'\u001b[0m\u001b[0;34m]\u001b[0m\u001b[0;34m\u001b[0m\u001b[0;34m\u001b[0m\u001b[0m\n\u001b[0;32m---> 13\u001b[0;31m       \u001b[0mprint\u001b[0m\u001b[0;34m(\u001b[0m\u001b[0mgetDetails\u001b[0m\u001b[0;34m(\u001b[0m\u001b[0melement\u001b[0m\u001b[0;34m)\u001b[0m\u001b[0;34m)\u001b[0m\u001b[0;34m\u001b[0m\u001b[0;34m\u001b[0m\u001b[0m\n\u001b[0m",
            "\u001b[0;32m<ipython-input-4-28cd15370e41>\u001b[0m in \u001b[0;36mgetDetails\u001b[0;34m(element)\u001b[0m\n\u001b[1;32m      1\u001b[0m \u001b[0;32mdef\u001b[0m \u001b[0mgetDetails\u001b[0m\u001b[0;34m(\u001b[0m\u001b[0melement\u001b[0m\u001b[0;34m)\u001b[0m\u001b[0;34m:\u001b[0m\u001b[0;34m\u001b[0m\u001b[0;34m\u001b[0m\u001b[0m\n\u001b[1;32m      2\u001b[0m       \u001b[0;32mtry\u001b[0m\u001b[0;34m:\u001b[0m\u001b[0;34m\u001b[0m\u001b[0;34m\u001b[0m\u001b[0m\n\u001b[0;32m----> 3\u001b[0;31m         \u001b[0mpage\u001b[0m \u001b[0;34m=\u001b[0m \u001b[0mrequests\u001b[0m\u001b[0;34m.\u001b[0m\u001b[0mget\u001b[0m\u001b[0;34m(\u001b[0m\u001b[0melement\u001b[0m\u001b[0;34m[\u001b[0m\u001b[0;34m'url'\u001b[0m\u001b[0;34m]\u001b[0m\u001b[0;34m)\u001b[0m\u001b[0;34m\u001b[0m\u001b[0;34m\u001b[0m\u001b[0m\n\u001b[0m\u001b[1;32m      4\u001b[0m         \u001b[0marticle\u001b[0m \u001b[0;34m=\u001b[0m \u001b[0mBeautifulSoup\u001b[0m\u001b[0;34m(\u001b[0m\u001b[0mpage\u001b[0m\u001b[0;34m.\u001b[0m\u001b[0mtext\u001b[0m\u001b[0;34m,\u001b[0m\u001b[0;34m'html.parser'\u001b[0m\u001b[0;34m)\u001b[0m\u001b[0;34m\u001b[0m\u001b[0;34m\u001b[0m\u001b[0m\n\u001b[1;32m      5\u001b[0m         \u001b[0melement\u001b[0m\u001b[0;34m[\u001b[0m\u001b[0;34m'designation'\u001b[0m\u001b[0;34m]\u001b[0m \u001b[0;34m=\u001b[0m \u001b[0marticle\u001b[0m\u001b[0;34m.\u001b[0m\u001b[0mfind\u001b[0m\u001b[0;34m(\u001b[0m\u001b[0;34m\"h1\"\u001b[0m\u001b[0;34m,\u001b[0m\u001b[0;34m{\u001b[0m\u001b[0;34m\"class\"\u001b[0m \u001b[0;34m:\u001b[0m \u001b[0;34m\"-fs20 -pts -pbxs\"\u001b[0m\u001b[0;34m}\u001b[0m\u001b[0;34m)\u001b[0m\u001b[0;34m.\u001b[0m\u001b[0mtext\u001b[0m\u001b[0;34m\u001b[0m\u001b[0;34m\u001b[0m\u001b[0m\n",
            "\u001b[0;32m/usr/local/lib/python3.7/dist-packages/requests/api.py\u001b[0m in \u001b[0;36mget\u001b[0;34m(url, params, **kwargs)\u001b[0m\n\u001b[1;32m     74\u001b[0m \u001b[0;34m\u001b[0m\u001b[0m\n\u001b[1;32m     75\u001b[0m     \u001b[0mkwargs\u001b[0m\u001b[0;34m.\u001b[0m\u001b[0msetdefault\u001b[0m\u001b[0;34m(\u001b[0m\u001b[0;34m'allow_redirects'\u001b[0m\u001b[0;34m,\u001b[0m \u001b[0;32mTrue\u001b[0m\u001b[0;34m)\u001b[0m\u001b[0;34m\u001b[0m\u001b[0;34m\u001b[0m\u001b[0m\n\u001b[0;32m---> 76\u001b[0;31m     \u001b[0;32mreturn\u001b[0m \u001b[0mrequest\u001b[0m\u001b[0;34m(\u001b[0m\u001b[0;34m'get'\u001b[0m\u001b[0;34m,\u001b[0m \u001b[0murl\u001b[0m\u001b[0;34m,\u001b[0m \u001b[0mparams\u001b[0m\u001b[0;34m=\u001b[0m\u001b[0mparams\u001b[0m\u001b[0;34m,\u001b[0m \u001b[0;34m**\u001b[0m\u001b[0mkwargs\u001b[0m\u001b[0;34m)\u001b[0m\u001b[0;34m\u001b[0m\u001b[0;34m\u001b[0m\u001b[0m\n\u001b[0m\u001b[1;32m     77\u001b[0m \u001b[0;34m\u001b[0m\u001b[0m\n\u001b[1;32m     78\u001b[0m \u001b[0;34m\u001b[0m\u001b[0m\n",
            "\u001b[0;32m/usr/local/lib/python3.7/dist-packages/requests/api.py\u001b[0m in \u001b[0;36mrequest\u001b[0;34m(method, url, **kwargs)\u001b[0m\n\u001b[1;32m     59\u001b[0m     \u001b[0;31m# cases, and look like a memory leak in others.\u001b[0m\u001b[0;34m\u001b[0m\u001b[0;34m\u001b[0m\u001b[0;34m\u001b[0m\u001b[0m\n\u001b[1;32m     60\u001b[0m     \u001b[0;32mwith\u001b[0m \u001b[0msessions\u001b[0m\u001b[0;34m.\u001b[0m\u001b[0mSession\u001b[0m\u001b[0;34m(\u001b[0m\u001b[0;34m)\u001b[0m \u001b[0;32mas\u001b[0m \u001b[0msession\u001b[0m\u001b[0;34m:\u001b[0m\u001b[0;34m\u001b[0m\u001b[0;34m\u001b[0m\u001b[0m\n\u001b[0;32m---> 61\u001b[0;31m         \u001b[0;32mreturn\u001b[0m \u001b[0msession\u001b[0m\u001b[0;34m.\u001b[0m\u001b[0mrequest\u001b[0m\u001b[0;34m(\u001b[0m\u001b[0mmethod\u001b[0m\u001b[0;34m=\u001b[0m\u001b[0mmethod\u001b[0m\u001b[0;34m,\u001b[0m \u001b[0murl\u001b[0m\u001b[0;34m=\u001b[0m\u001b[0murl\u001b[0m\u001b[0;34m,\u001b[0m \u001b[0;34m**\u001b[0m\u001b[0mkwargs\u001b[0m\u001b[0;34m)\u001b[0m\u001b[0;34m\u001b[0m\u001b[0;34m\u001b[0m\u001b[0m\n\u001b[0m\u001b[1;32m     62\u001b[0m \u001b[0;34m\u001b[0m\u001b[0m\n\u001b[1;32m     63\u001b[0m \u001b[0;34m\u001b[0m\u001b[0m\n",
            "\u001b[0;32m/usr/local/lib/python3.7/dist-packages/requests/sessions.py\u001b[0m in \u001b[0;36mrequest\u001b[0;34m(self, method, url, params, data, headers, cookies, files, auth, timeout, allow_redirects, proxies, hooks, stream, verify, cert, json)\u001b[0m\n\u001b[1;32m    528\u001b[0m         }\n\u001b[1;32m    529\u001b[0m         \u001b[0msend_kwargs\u001b[0m\u001b[0;34m.\u001b[0m\u001b[0mupdate\u001b[0m\u001b[0;34m(\u001b[0m\u001b[0msettings\u001b[0m\u001b[0;34m)\u001b[0m\u001b[0;34m\u001b[0m\u001b[0;34m\u001b[0m\u001b[0m\n\u001b[0;32m--> 530\u001b[0;31m         \u001b[0mresp\u001b[0m \u001b[0;34m=\u001b[0m \u001b[0mself\u001b[0m\u001b[0;34m.\u001b[0m\u001b[0msend\u001b[0m\u001b[0;34m(\u001b[0m\u001b[0mprep\u001b[0m\u001b[0;34m,\u001b[0m \u001b[0;34m**\u001b[0m\u001b[0msend_kwargs\u001b[0m\u001b[0;34m)\u001b[0m\u001b[0;34m\u001b[0m\u001b[0;34m\u001b[0m\u001b[0m\n\u001b[0m\u001b[1;32m    531\u001b[0m \u001b[0;34m\u001b[0m\u001b[0m\n\u001b[1;32m    532\u001b[0m         \u001b[0;32mreturn\u001b[0m \u001b[0mresp\u001b[0m\u001b[0;34m\u001b[0m\u001b[0;34m\u001b[0m\u001b[0m\n",
            "\u001b[0;32m/usr/local/lib/python3.7/dist-packages/requests/sessions.py\u001b[0m in \u001b[0;36msend\u001b[0;34m(self, request, **kwargs)\u001b[0m\n\u001b[1;32m    641\u001b[0m \u001b[0;34m\u001b[0m\u001b[0m\n\u001b[1;32m    642\u001b[0m         \u001b[0;31m# Send the request\u001b[0m\u001b[0;34m\u001b[0m\u001b[0;34m\u001b[0m\u001b[0;34m\u001b[0m\u001b[0m\n\u001b[0;32m--> 643\u001b[0;31m         \u001b[0mr\u001b[0m \u001b[0;34m=\u001b[0m \u001b[0madapter\u001b[0m\u001b[0;34m.\u001b[0m\u001b[0msend\u001b[0m\u001b[0;34m(\u001b[0m\u001b[0mrequest\u001b[0m\u001b[0;34m,\u001b[0m \u001b[0;34m**\u001b[0m\u001b[0mkwargs\u001b[0m\u001b[0;34m)\u001b[0m\u001b[0;34m\u001b[0m\u001b[0;34m\u001b[0m\u001b[0m\n\u001b[0m\u001b[1;32m    644\u001b[0m \u001b[0;34m\u001b[0m\u001b[0m\n\u001b[1;32m    645\u001b[0m         \u001b[0;31m# Total elapsed time of the request (approximately)\u001b[0m\u001b[0;34m\u001b[0m\u001b[0;34m\u001b[0m\u001b[0;34m\u001b[0m\u001b[0m\n",
            "\u001b[0;32m/usr/local/lib/python3.7/dist-packages/requests/adapters.py\u001b[0m in \u001b[0;36msend\u001b[0;34m(self, request, stream, timeout, verify, cert, proxies)\u001b[0m\n\u001b[1;32m    447\u001b[0m                     \u001b[0mdecode_content\u001b[0m\u001b[0;34m=\u001b[0m\u001b[0;32mFalse\u001b[0m\u001b[0;34m,\u001b[0m\u001b[0;34m\u001b[0m\u001b[0;34m\u001b[0m\u001b[0m\n\u001b[1;32m    448\u001b[0m                     \u001b[0mretries\u001b[0m\u001b[0;34m=\u001b[0m\u001b[0mself\u001b[0m\u001b[0;34m.\u001b[0m\u001b[0mmax_retries\u001b[0m\u001b[0;34m,\u001b[0m\u001b[0;34m\u001b[0m\u001b[0;34m\u001b[0m\u001b[0m\n\u001b[0;32m--> 449\u001b[0;31m                     \u001b[0mtimeout\u001b[0m\u001b[0;34m=\u001b[0m\u001b[0mtimeout\u001b[0m\u001b[0;34m\u001b[0m\u001b[0;34m\u001b[0m\u001b[0m\n\u001b[0m\u001b[1;32m    450\u001b[0m                 )\n\u001b[1;32m    451\u001b[0m \u001b[0;34m\u001b[0m\u001b[0m\n",
            "\u001b[0;32m/usr/local/lib/python3.7/dist-packages/urllib3/connectionpool.py\u001b[0m in \u001b[0;36murlopen\u001b[0;34m(self, method, url, body, headers, retries, redirect, assert_same_host, timeout, pool_timeout, release_conn, chunked, body_pos, **response_kw)\u001b[0m\n\u001b[1;32m    598\u001b[0m                                                   \u001b[0mtimeout\u001b[0m\u001b[0;34m=\u001b[0m\u001b[0mtimeout_obj\u001b[0m\u001b[0;34m,\u001b[0m\u001b[0;34m\u001b[0m\u001b[0;34m\u001b[0m\u001b[0m\n\u001b[1;32m    599\u001b[0m                                                   \u001b[0mbody\u001b[0m\u001b[0;34m=\u001b[0m\u001b[0mbody\u001b[0m\u001b[0;34m,\u001b[0m \u001b[0mheaders\u001b[0m\u001b[0;34m=\u001b[0m\u001b[0mheaders\u001b[0m\u001b[0;34m,\u001b[0m\u001b[0;34m\u001b[0m\u001b[0;34m\u001b[0m\u001b[0m\n\u001b[0;32m--> 600\u001b[0;31m                                                   chunked=chunked)\n\u001b[0m\u001b[1;32m    601\u001b[0m \u001b[0;34m\u001b[0m\u001b[0m\n\u001b[1;32m    602\u001b[0m             \u001b[0;31m# If we're going to release the connection in ``finally:``, then\u001b[0m\u001b[0;34m\u001b[0m\u001b[0;34m\u001b[0m\u001b[0;34m\u001b[0m\u001b[0m\n",
            "\u001b[0;32m/usr/local/lib/python3.7/dist-packages/urllib3/connectionpool.py\u001b[0m in \u001b[0;36m_make_request\u001b[0;34m(self, conn, method, url, timeout, chunked, **httplib_request_kw)\u001b[0m\n\u001b[1;32m    378\u001b[0m             \u001b[0;32mexcept\u001b[0m \u001b[0mTypeError\u001b[0m\u001b[0;34m:\u001b[0m  \u001b[0;31m# Python 3\u001b[0m\u001b[0;34m\u001b[0m\u001b[0;34m\u001b[0m\u001b[0m\n\u001b[1;32m    379\u001b[0m                 \u001b[0;32mtry\u001b[0m\u001b[0;34m:\u001b[0m\u001b[0;34m\u001b[0m\u001b[0;34m\u001b[0m\u001b[0m\n\u001b[0;32m--> 380\u001b[0;31m                     \u001b[0mhttplib_response\u001b[0m \u001b[0;34m=\u001b[0m \u001b[0mconn\u001b[0m\u001b[0;34m.\u001b[0m\u001b[0mgetresponse\u001b[0m\u001b[0;34m(\u001b[0m\u001b[0;34m)\u001b[0m\u001b[0;34m\u001b[0m\u001b[0;34m\u001b[0m\u001b[0m\n\u001b[0m\u001b[1;32m    381\u001b[0m                 \u001b[0;32mexcept\u001b[0m \u001b[0mException\u001b[0m \u001b[0;32mas\u001b[0m \u001b[0me\u001b[0m\u001b[0;34m:\u001b[0m\u001b[0;34m\u001b[0m\u001b[0;34m\u001b[0m\u001b[0m\n\u001b[1;32m    382\u001b[0m                     \u001b[0;31m# Remove the TypeError from the exception chain in Python 3;\u001b[0m\u001b[0;34m\u001b[0m\u001b[0;34m\u001b[0m\u001b[0;34m\u001b[0m\u001b[0m\n",
            "\u001b[0;32m/usr/lib/python3.7/http/client.py\u001b[0m in \u001b[0;36mgetresponse\u001b[0;34m(self)\u001b[0m\n\u001b[1;32m   1371\u001b[0m         \u001b[0;32mtry\u001b[0m\u001b[0;34m:\u001b[0m\u001b[0;34m\u001b[0m\u001b[0;34m\u001b[0m\u001b[0m\n\u001b[1;32m   1372\u001b[0m             \u001b[0;32mtry\u001b[0m\u001b[0;34m:\u001b[0m\u001b[0;34m\u001b[0m\u001b[0;34m\u001b[0m\u001b[0m\n\u001b[0;32m-> 1373\u001b[0;31m                 \u001b[0mresponse\u001b[0m\u001b[0;34m.\u001b[0m\u001b[0mbegin\u001b[0m\u001b[0;34m(\u001b[0m\u001b[0;34m)\u001b[0m\u001b[0;34m\u001b[0m\u001b[0;34m\u001b[0m\u001b[0m\n\u001b[0m\u001b[1;32m   1374\u001b[0m             \u001b[0;32mexcept\u001b[0m \u001b[0mConnectionError\u001b[0m\u001b[0;34m:\u001b[0m\u001b[0;34m\u001b[0m\u001b[0;34m\u001b[0m\u001b[0m\n\u001b[1;32m   1375\u001b[0m                 \u001b[0mself\u001b[0m\u001b[0;34m.\u001b[0m\u001b[0mclose\u001b[0m\u001b[0;34m(\u001b[0m\u001b[0;34m)\u001b[0m\u001b[0;34m\u001b[0m\u001b[0;34m\u001b[0m\u001b[0m\n",
            "\u001b[0;32m/usr/lib/python3.7/http/client.py\u001b[0m in \u001b[0;36mbegin\u001b[0;34m(self)\u001b[0m\n\u001b[1;32m    317\u001b[0m         \u001b[0;31m# read until we get a non-100 response\u001b[0m\u001b[0;34m\u001b[0m\u001b[0;34m\u001b[0m\u001b[0;34m\u001b[0m\u001b[0m\n\u001b[1;32m    318\u001b[0m         \u001b[0;32mwhile\u001b[0m \u001b[0;32mTrue\u001b[0m\u001b[0;34m:\u001b[0m\u001b[0;34m\u001b[0m\u001b[0;34m\u001b[0m\u001b[0m\n\u001b[0;32m--> 319\u001b[0;31m             \u001b[0mversion\u001b[0m\u001b[0;34m,\u001b[0m \u001b[0mstatus\u001b[0m\u001b[0;34m,\u001b[0m \u001b[0mreason\u001b[0m \u001b[0;34m=\u001b[0m \u001b[0mself\u001b[0m\u001b[0;34m.\u001b[0m\u001b[0m_read_status\u001b[0m\u001b[0;34m(\u001b[0m\u001b[0;34m)\u001b[0m\u001b[0;34m\u001b[0m\u001b[0;34m\u001b[0m\u001b[0m\n\u001b[0m\u001b[1;32m    320\u001b[0m             \u001b[0;32mif\u001b[0m \u001b[0mstatus\u001b[0m \u001b[0;34m!=\u001b[0m \u001b[0mCONTINUE\u001b[0m\u001b[0;34m:\u001b[0m\u001b[0;34m\u001b[0m\u001b[0;34m\u001b[0m\u001b[0m\n\u001b[1;32m    321\u001b[0m                 \u001b[0;32mbreak\u001b[0m\u001b[0;34m\u001b[0m\u001b[0;34m\u001b[0m\u001b[0m\n",
            "\u001b[0;32m/usr/lib/python3.7/http/client.py\u001b[0m in \u001b[0;36m_read_status\u001b[0;34m(self)\u001b[0m\n\u001b[1;32m    278\u001b[0m \u001b[0;34m\u001b[0m\u001b[0m\n\u001b[1;32m    279\u001b[0m     \u001b[0;32mdef\u001b[0m \u001b[0m_read_status\u001b[0m\u001b[0;34m(\u001b[0m\u001b[0mself\u001b[0m\u001b[0;34m)\u001b[0m\u001b[0;34m:\u001b[0m\u001b[0;34m\u001b[0m\u001b[0;34m\u001b[0m\u001b[0m\n\u001b[0;32m--> 280\u001b[0;31m         \u001b[0mline\u001b[0m \u001b[0;34m=\u001b[0m \u001b[0mstr\u001b[0m\u001b[0;34m(\u001b[0m\u001b[0mself\u001b[0m\u001b[0;34m.\u001b[0m\u001b[0mfp\u001b[0m\u001b[0;34m.\u001b[0m\u001b[0mreadline\u001b[0m\u001b[0;34m(\u001b[0m\u001b[0m_MAXLINE\u001b[0m \u001b[0;34m+\u001b[0m \u001b[0;36m1\u001b[0m\u001b[0;34m)\u001b[0m\u001b[0;34m,\u001b[0m \u001b[0;34m\"iso-8859-1\"\u001b[0m\u001b[0;34m)\u001b[0m\u001b[0;34m\u001b[0m\u001b[0;34m\u001b[0m\u001b[0m\n\u001b[0m\u001b[1;32m    281\u001b[0m         \u001b[0;32mif\u001b[0m \u001b[0mlen\u001b[0m\u001b[0;34m(\u001b[0m\u001b[0mline\u001b[0m\u001b[0;34m)\u001b[0m \u001b[0;34m>\u001b[0m \u001b[0m_MAXLINE\u001b[0m\u001b[0;34m:\u001b[0m\u001b[0;34m\u001b[0m\u001b[0;34m\u001b[0m\u001b[0m\n\u001b[1;32m    282\u001b[0m             \u001b[0;32mraise\u001b[0m \u001b[0mLineTooLong\u001b[0m\u001b[0;34m(\u001b[0m\u001b[0;34m\"status line\"\u001b[0m\u001b[0;34m)\u001b[0m\u001b[0;34m\u001b[0m\u001b[0;34m\u001b[0m\u001b[0m\n",
            "\u001b[0;32m/usr/lib/python3.7/socket.py\u001b[0m in \u001b[0;36mreadinto\u001b[0;34m(self, b)\u001b[0m\n\u001b[1;32m    587\u001b[0m         \u001b[0;32mwhile\u001b[0m \u001b[0;32mTrue\u001b[0m\u001b[0;34m:\u001b[0m\u001b[0;34m\u001b[0m\u001b[0;34m\u001b[0m\u001b[0m\n\u001b[1;32m    588\u001b[0m             \u001b[0;32mtry\u001b[0m\u001b[0;34m:\u001b[0m\u001b[0;34m\u001b[0m\u001b[0;34m\u001b[0m\u001b[0m\n\u001b[0;32m--> 589\u001b[0;31m                 \u001b[0;32mreturn\u001b[0m \u001b[0mself\u001b[0m\u001b[0;34m.\u001b[0m\u001b[0m_sock\u001b[0m\u001b[0;34m.\u001b[0m\u001b[0mrecv_into\u001b[0m\u001b[0;34m(\u001b[0m\u001b[0mb\u001b[0m\u001b[0;34m)\u001b[0m\u001b[0;34m\u001b[0m\u001b[0;34m\u001b[0m\u001b[0m\n\u001b[0m\u001b[1;32m    590\u001b[0m             \u001b[0;32mexcept\u001b[0m \u001b[0mtimeout\u001b[0m\u001b[0;34m:\u001b[0m\u001b[0;34m\u001b[0m\u001b[0;34m\u001b[0m\u001b[0m\n\u001b[1;32m    591\u001b[0m                 \u001b[0mself\u001b[0m\u001b[0;34m.\u001b[0m\u001b[0m_timeout_occurred\u001b[0m \u001b[0;34m=\u001b[0m \u001b[0;32mTrue\u001b[0m\u001b[0;34m\u001b[0m\u001b[0;34m\u001b[0m\u001b[0m\n",
            "\u001b[0;32m/usr/lib/python3.7/ssl.py\u001b[0m in \u001b[0;36mrecv_into\u001b[0;34m(self, buffer, nbytes, flags)\u001b[0m\n\u001b[1;32m   1069\u001b[0m                   \u001b[0;34m\"non-zero flags not allowed in calls to recv_into() on %s\"\u001b[0m \u001b[0;34m%\u001b[0m\u001b[0;34m\u001b[0m\u001b[0;34m\u001b[0m\u001b[0m\n\u001b[1;32m   1070\u001b[0m                   self.__class__)\n\u001b[0;32m-> 1071\u001b[0;31m             \u001b[0;32mreturn\u001b[0m \u001b[0mself\u001b[0m\u001b[0;34m.\u001b[0m\u001b[0mread\u001b[0m\u001b[0;34m(\u001b[0m\u001b[0mnbytes\u001b[0m\u001b[0;34m,\u001b[0m \u001b[0mbuffer\u001b[0m\u001b[0;34m)\u001b[0m\u001b[0;34m\u001b[0m\u001b[0;34m\u001b[0m\u001b[0m\n\u001b[0m\u001b[1;32m   1072\u001b[0m         \u001b[0;32melse\u001b[0m\u001b[0;34m:\u001b[0m\u001b[0;34m\u001b[0m\u001b[0;34m\u001b[0m\u001b[0m\n\u001b[1;32m   1073\u001b[0m             \u001b[0;32mreturn\u001b[0m \u001b[0msuper\u001b[0m\u001b[0;34m(\u001b[0m\u001b[0;34m)\u001b[0m\u001b[0;34m.\u001b[0m\u001b[0mrecv_into\u001b[0m\u001b[0;34m(\u001b[0m\u001b[0mbuffer\u001b[0m\u001b[0;34m,\u001b[0m \u001b[0mnbytes\u001b[0m\u001b[0;34m,\u001b[0m \u001b[0mflags\u001b[0m\u001b[0;34m)\u001b[0m\u001b[0;34m\u001b[0m\u001b[0;34m\u001b[0m\u001b[0m\n",
            "\u001b[0;32m/usr/lib/python3.7/ssl.py\u001b[0m in \u001b[0;36mread\u001b[0;34m(self, len, buffer)\u001b[0m\n\u001b[1;32m    927\u001b[0m         \u001b[0;32mtry\u001b[0m\u001b[0;34m:\u001b[0m\u001b[0;34m\u001b[0m\u001b[0;34m\u001b[0m\u001b[0m\n\u001b[1;32m    928\u001b[0m             \u001b[0;32mif\u001b[0m \u001b[0mbuffer\u001b[0m \u001b[0;32mis\u001b[0m \u001b[0;32mnot\u001b[0m \u001b[0;32mNone\u001b[0m\u001b[0;34m:\u001b[0m\u001b[0;34m\u001b[0m\u001b[0;34m\u001b[0m\u001b[0m\n\u001b[0;32m--> 929\u001b[0;31m                 \u001b[0;32mreturn\u001b[0m \u001b[0mself\u001b[0m\u001b[0;34m.\u001b[0m\u001b[0m_sslobj\u001b[0m\u001b[0;34m.\u001b[0m\u001b[0mread\u001b[0m\u001b[0;34m(\u001b[0m\u001b[0mlen\u001b[0m\u001b[0;34m,\u001b[0m \u001b[0mbuffer\u001b[0m\u001b[0;34m)\u001b[0m\u001b[0;34m\u001b[0m\u001b[0;34m\u001b[0m\u001b[0m\n\u001b[0m\u001b[1;32m    930\u001b[0m             \u001b[0;32melse\u001b[0m\u001b[0;34m:\u001b[0m\u001b[0;34m\u001b[0m\u001b[0;34m\u001b[0m\u001b[0m\n\u001b[1;32m    931\u001b[0m                 \u001b[0;32mreturn\u001b[0m \u001b[0mself\u001b[0m\u001b[0;34m.\u001b[0m\u001b[0m_sslobj\u001b[0m\u001b[0;34m.\u001b[0m\u001b[0mread\u001b[0m\u001b[0;34m(\u001b[0m\u001b[0mlen\u001b[0m\u001b[0;34m)\u001b[0m\u001b[0;34m\u001b[0m\u001b[0;34m\u001b[0m\u001b[0m\n",
            "\u001b[0;31mKeyboardInterrupt\u001b[0m: "
          ]
        }
      ]
    },
    {
      "cell_type": "markdown",
      "metadata": {
        "id": "2xq0cKdORYJh"
      },
      "source": [
        "#Agora"
      ]
    },
    {
      "cell_type": "code",
      "metadata": {
        "id": "1iXhVbeCTs3W"
      },
      "source": [
        "def getDetails(element):\n",
        "  page = requests.get(element['url'])\n",
        "  article = BeautifulSoup(page.text,'html.parser')\n",
        "  element['designation'] = article.find(\"h1\",{\"class\" : \"h1 namne_details\"}).text\n",
        "  element['prix'] = article.find(\"span\",{\"itemprop\" : \"price\"}).text\n",
        "  for t,d in zip(article.find(\"dl\",{\"class\" : \"data-sheet\"}).find_all(\"dt\"),article.find(\"dl\",{\"class\" : \"data-sheet\"}).find_all(\"dd\")):\n",
        "      if t.text == \"Systeme D'exploitation\":\n",
        "        element[\"systeme\"] = d.text\n",
        "      elif t.text == \"Processeur\":\n",
        "        element[\"processeur\"] = d.text\n",
        "      elif t.text == \"Memoire\":\n",
        "        element[\"ram\"] = d.text\n",
        "      elif t.text == \"Disque Dur\":\n",
        "        element[\"disqueDur\"] = d.text\n",
        "      elif t.text == \"Disque Dur\":\n",
        "        element[\"disqueDur\"] = d.text\n",
        "      elif t.text == \"Carte Graphique\":\n",
        "        element[\"CarteGraphique\"] = d.text\n",
        "  return element\n",
        "  "
      ],
      "execution_count": null,
      "outputs": []
    },
    {
      "cell_type": "code",
      "metadata": {
        "colab": {
          "base_uri": "https://localhost:8080/"
        },
        "id": "A32Qw2gORr5v",
        "outputId": "ce41a9c1-5139-4d06-c542-60a4a261590f"
      },
      "source": [
        "url_agora = \"https://agora.tn/fr/12-pc-portable?n=36\"\n",
        "agora = requests.get(url_agora)\n",
        "soup_agora = BeautifulSoup(agora.text,'html.parser')\n",
        "\n",
        "\n",
        "for article in soup_agora.find_all(\"div\",{\"class\" : \"item-product col-xs-12 col-sm-6 col-md-6 col-lg-4\"}):\n",
        "  element = {}\n",
        "  element['url'] = article.find('a',{\"class\" : \"thumbnail product-thumbnail\"}).attrs['href']\n",
        "  element['urlImage'] = article.find('img').attrs['src']\n",
        "  \n",
        "  element = getDetails(element)\n",
        "  print(element)\n",
        "  articles.append(element)\n"
      ],
      "execution_count": null,
      "outputs": [
        {
          "output_type": "stream",
          "name": "stdout",
          "text": [
            "{'url': 'https://agora.tn/fr/pc-portable/6484-pc-portable-vegabook-plus-14-quad-core-4go-64go-silver.html', 'urlImage': 'https://agora.tn/fr/31490-home_default/pc-portable-vegabook-plus-14-quad-core-4go-64go-silver.jpg', 'designation': 'PC Portable VEGABOOK Plus 14 Quad Core 4Go 64Go - Silver', 'prix': '475,000\\xa0TND', 'systeme': 'Windows ', 'processeur': 'Intel Atom', 'ram': '4 Go', 'disqueDur': '64 Go EMMC', 'CarteGraphique': 'Graphique Intégrée'}\n",
            "{'url': 'https://agora.tn/fr/pc-portable/9397-pc-portable-asus-x543ma-n4020-4go1to156w10-gris.html', 'urlImage': 'https://agora.tn/fr/32530-home_default/pc-portable-asus-x543ma-n4020-4go1to156w10-gris.jpg', 'designation': 'PC PORTABLE ASUS X543MA N4020 /4GO/1TO/15.6\"/W10 -Gris', 'prix': '975,000\\xa0TND', 'systeme': 'Windows ', 'processeur': 'Intel Celeron-Dual Core', 'ram': '4 Go', 'disqueDur': '1 To', 'CarteGraphique': 'Graphique Intégrée'}\n",
            "{'url': 'https://agora.tn/fr/pc-portable/9609-pc-portable-asus-x509fa-i3-10110u4g1towind10-156-silver.html', 'urlImage': 'https://agora.tn/fr/33660-home_default/pc-portable-asus-x509fa-i3-10110u4g1towind10-156-silver.jpg', 'designation': \"PC PORTABLE ASUS X509FA I3-10110U/4G/1TO/WIND10 / 15.6''  SILVER\", 'prix': '1\\xa0339,000\\xa0TND', 'systeme': 'Windows ', 'processeur': 'Intel Core i3', 'ram': '4 Go', 'disqueDur': '1 To', 'CarteGraphique': 'Graphique Intégrée'}\n",
            "{'url': 'https://agora.tn/fr/pc-portable/9394-pc-portable-asus-x509fa-i3-10gen-4g1twind10-bleu.html', 'urlImage': 'https://agora.tn/fr/33661-home_default/pc-portable-asus-x509fa-i3-10gen-4g1twind10-bleu.jpg', 'designation': 'PC PORTABLE ASUS X509FA I3-10Gén /4G/1T/WIND10 - BLEU', 'prix': '1\\xa0339,000\\xa0TND', 'systeme': 'Windows ', 'processeur': 'Intel Core i3', 'ram': '4 Go', 'disqueDur': '1 To', 'CarteGraphique': 'Graphique Intégrée'}\n",
            "{'url': 'https://agora.tn/fr/pc-portable/9393-pc-portable-asus-x509fa-i3-10gen-4g1twind10-gris.html', 'urlImage': 'https://agora.tn/fr/33662-home_default/pc-portable-asus-x509fa-i3-10gen-4g1twind10-gris.jpg', 'designation': 'PC PORTABLE ASUS X509FA I3-10Gén /4G/1T/WIND10 - GRIS', 'prix': '1\\xa0339,000\\xa0TND', 'systeme': 'Windows ', 'processeur': 'Intel Core i3', 'ram': '4 Go', 'disqueDur': '1 To', 'CarteGraphique': 'Graphique Intégrée'}\n",
            "{'url': 'https://agora.tn/fr/pc-portable/9454-pc-portable-hp-250-g8-i3-10gen-4gb-1to-156-sacoche-hp.html', 'urlImage': 'https://agora.tn/fr/32080-home_default/pc-portable-hp-250-g8-i3-10gen-4gb-1to-156-sacoche-hp.jpg', 'designation': \"PC PORTABLE  HP 255 G8 Ryzen3 3250U/4G/1TR/15.6''/FD  + Sacoche\", 'prix': '1\\xa0389,000\\xa0TND', 'systeme': 'FreeDos', 'processeur': 'AMD RYZEN', 'ram': '4 Go', 'disqueDur': '1 To', 'CarteGraphique': 'Graphique Intégrée'}\n",
            "{'url': 'https://agora.tn/fr/pc-portable/7989-pc-portable-asus-s509ja-i3-1005-4g-1to-w10-156-silver.html', 'urlImage': 'https://agora.tn/fr/32561-home_default/pc-portable-asus-s509ja-i3-1005-4g-1to-w10-156-silver.jpg', 'designation': 'PC PORTABLE ASUS S509JA I3-1005 - 4G - 1To - W10 - 15.6 SILVER', 'prix': '1\\xa0395,000\\xa0TND', 'systeme': 'Windows ', 'processeur': 'Intel Core i3', 'ram': '4 Go', 'disqueDur': '1 To', 'CarteGraphique': 'Graphique Intégrée'}\n",
            "{'url': 'https://agora.tn/fr/pc-portable/9287-pc-portable-asus-x515ja-i3-1005g1-4g1twin10-silver.html', 'urlImage': 'https://agora.tn/fr/32547-home_default/pc-portable-asus-x515ja-i3-1005g1-4g1twin10-silver.jpg', 'designation': 'PC PORTABLE ASUS X515JA i3-1005G1 4G / 1T / WIN10 SILVER', 'prix': '1\\xa0399,000\\xa0TND', 'systeme': 'Windows ', 'processeur': 'Intel Core i3', 'ram': '4 Go', 'disqueDur': '1 To', 'CarteGraphique': 'Graphique Intégrée'}\n",
            "{'url': 'https://agora.tn/fr/pc-portable/9139-pc-portable-hp-15-dw3000nk-i3-1115g44g1twin10156-argent.html', 'urlImage': 'https://agora.tn/fr/30919-home_default/pc-portable-hp-15-dw3000nk-i3-1115g44g1twin10156-argent.jpg', 'designation': \"PC PORTABLE HP 15-dw3000nk I3-1115G4/4G/1T/WIN10/15.6'' ARGENT + Souris\", 'prix': '1\\xa0399,000\\xa0TND', 'systeme': 'Windows ', 'processeur': 'Intel Core i3', 'ram': '4 Go', 'disqueDur': '1 To', 'CarteGraphique': 'Graphique Intégrée'}\n",
            "{'url': 'https://agora.tn/fr/pc-portable/9399-pc-portable-hp-250-g8-i3-10gen-4gb-1to-156-sacoche-hp.html', 'urlImage': 'https://agora.tn/fr/32524-home_default/pc-portable-hp-250-g8-i3-10gen-4gb-1to-156-sacoche-hp.jpg', 'designation': 'PC PORTABLE HP 250 G8 i3-10Gén /4GB /1TO/ 15.6\"+ SACOCHE HP', 'prix': '1\\xa0425,000\\xa0TND', 'systeme': 'Windows ', 'processeur': 'Intel Core i3', 'ram': '4 Go', 'disqueDur': '1 To', 'CarteGraphique': 'Graphique Intégrée'}\n",
            "{'url': 'https://agora.tn/fr/pc-portable/9487-chaise-new-confort-mesh.html', 'urlImage': 'https://agora.tn/fr/32177-home_default/chaise-new-confort-mesh.jpg', 'designation': \"PC PORTABLE DELL VOSTRO 3500 i3-1115G4 / 4Go / 1To /15.6''\", 'prix': '1\\xa0449,000\\xa0TND', 'systeme': 'Ubuntu', 'processeur': 'Intel Core i3', 'ram': '4 Go', 'disqueDur': '1 To', 'CarteGraphique': 'Graphique Intégrée'}\n",
            "{'url': 'https://agora.tn/fr/pc-portable/9716-pc-portable-acer-extensa-i3-1115-4go1tocg-2go-mx350-156-.html', 'urlImage': 'https://agora.tn/fr/33067-home_default/pc-portable-acer-extensa-i3-1115-4go1tocg-2go-mx350-156-.jpg', 'designation': \"PC PORTABLE ACER EXTENSA I3-1115 4Go/1To/CG 2Go MX350 / 15.6''\", 'prix': '1\\xa0499,000\\xa0TND', 'systeme': 'FreeDos', 'processeur': 'Intel Core i3', 'ram': '4 Go', 'disqueDur': '1 To', 'CarteGraphique': 'Nvidia GeForce'}\n",
            "{'url': 'https://agora.tn/fr/pc-portable/9140-pc-portable-hp-15-dw3018nk-i3-1115g44g1twin10156-noir-souris.html', 'urlImage': 'https://agora.tn/fr/32551-home_default/pc-portable-hp-15-dw3018nk-i3-1115g44g1twin10156-noir-souris.jpg', 'designation': \"PC PORTABLE HP 15-dw3018nk I3-1115G4/4G/1T/WIN10/15.6'' NOIR + Souris\", 'prix': '1\\xa0529,000\\xa0TND', 'systeme': 'Windows ', 'processeur': 'Intel Core i3', 'ram': '4 Go', 'disqueDur': '1 To', 'CarteGraphique': 'Graphique Intégrée'}\n",
            "{'url': 'https://agora.tn/fr/pc-portable/9488-pc-portable-hp-255-g8-ryzen-5-4go-1to-gris-32p04ea-sac-a-dos-.html', 'urlImage': 'https://agora.tn/fr/32507-home_default/pc-portable-hp-255-g8-ryzen-5-4go-1to-gris-32p04ea-sac-a-dos-.jpg', 'designation': 'PC PORTABLE HP 255 G8 RYZEN 5 4GO 1TO - GRIS (32P04EA) + sac a dos', 'prix': '1\\xa0549,000\\xa0TND', 'systeme': 'FreeDos', 'processeur': 'AMD RYZEN', 'ram': '4 Go', 'disqueDur': '1 To', 'CarteGraphique': 'Graphique Intégrée'}\n",
            "{'url': 'https://agora.tn/fr/pc-portable/9722-pc-portable-hp-15-dw3019nk-i3-1115g44g256ssdwin10156-silver.html', 'urlImage': 'https://agora.tn/fr/33109-home_default/pc-portable-hp-15-dw3019nk-i3-1115g44g256ssdwin10156-silver.jpg', 'designation': \"PC PORTABLE HP 15-dw3019nk I3-1115G4/4G/256SSD/WIN10/15.6'' SILVER\", 'prix': '1\\xa0590,000\\xa0TND', 'systeme': 'Windows ', 'processeur': 'Intel Core i3', 'ram': '4 Go', 'disqueDur': '256 Go SSD', 'CarteGraphique': 'Graphique Intégrée'}\n",
            "{'url': 'https://agora.tn/fr/pc-portable/9142-pc-portable-hp-15-dw3000nk-i3-1115g44g1twin10156-argent.html', 'urlImage': 'https://agora.tn/fr/30939-home_default/pc-portable-hp-15-dw3000nk-i3-1115g44g1twin10156-argent.jpg', 'designation': \"PC PORTABLE HP 15-dw3020nk I3-1115G4/4G/256SSD/WIN10/15.6'' BLACK\", 'prix': '1\\xa0590,000\\xa0TND', 'systeme': 'Windows ', 'processeur': 'Intel Core i3', 'ram': '4 Go', 'disqueDur': '256 Go SSD', 'CarteGraphique': 'Graphique Intégrée'}\n",
            "{'url': 'https://agora.tn/fr/pc-portable/9735-pc-portable-acer-extensa-i5-1135g7-8go1tocg-2go-mx350-156-.html', 'urlImage': 'https://agora.tn/fr/33225-home_default/pc-portable-acer-extensa-i5-1135g7-8go1tocg-2go-mx350-156-.jpg', 'designation': \"PC PORTABLE ACER  EXTENSA I5-1135G7 8Go/1To/CG 2Go MX350 / 15.6''\", 'prix': '1\\xa0878,000\\xa0TND', 'systeme': 'FreeDos', 'processeur': 'Intel Core i5', 'ram': '8 Go', 'disqueDur': '1 To', 'CarteGraphique': 'Nvidia GeForce'}\n",
            "{'url': 'https://agora.tn/fr/pc-portable/9489-pc-portable-hp-250-g8-i5-10gen-4go-1to-noir-2x7j6ea.html', 'urlImage': 'https://agora.tn/fr/32502-home_default/pc-portable-hp-250-g8-i5-10gen-4go-1to-noir-2x7j6ea.jpg', 'designation': 'PC PORTABLE HP 250 G8 I5 10GÉN 4GO 1TO - NOIR (2X7J6EA) + Housse', 'prix': '1\\xa0879,000\\xa0TND', 'systeme': 'FreeDos', 'processeur': 'Intel Core i5', 'ram': '4 Go', 'disqueDur': '1 To', 'CarteGraphique': 'Graphique Intégrée'}\n",
            "{'url': 'https://agora.tn/fr/pc-portable/9250-pc-portable-hp-15-dw3015nk-i5-11e-gen-8go-256go-ssd-gris-2r0m7ea.html', 'urlImage': 'https://agora.tn/fr/31328-home_default/pc-portable-hp-15-dw3015nk-i5-11e-gen-8go-256go-ssd-gris-2r0m7ea.jpg', 'designation': 'PC PORTABLE HP 15-DW3015NK I5 11È GÉN 8GO 256GO SSD - GRIS (2R0M7EA)', 'prix': '1\\xa0939,000\\xa0TND', 'systeme': 'Windows ', 'processeur': 'Intel Core i5', 'ram': '8 Go', 'disqueDur': '256 Go SSD', 'CarteGraphique': 'Graphique Intégrée'}\n",
            "{'url': 'https://agora.tn/fr/pc-portable/8866-pc-portable-hp-15-dw3013nk-i5-11e-gen-8go-1to-win10-noir.html', 'urlImage': 'https://agora.tn/fr/30099-home_default/pc-portable-hp-15-dw3013nk-i5-11e-gen-8go-1to-win10-noir.jpg', 'designation': 'PC PORTABLE HP 15-DW3013NK I5 11É GÉN 8GO 1TO WIN10 NOIR', 'prix': '1\\xa0939,000\\xa0TND', 'systeme': 'Windows ', 'processeur': 'Intel Core i5', 'ram': '8 Go', 'disqueDur': '1 To', 'CarteGraphique': 'Graphique Intégrée'}\n",
            "{'url': 'https://agora.tn/fr/pc-portable/8865-pc-portable-hp-15-dw3013nk-i5-11e-gen-8go-1to-win10-gris.html', 'urlImage': 'https://agora.tn/fr/30095-home_default/pc-portable-hp-15-dw3013nk-i5-11e-gen-8go-1to-win10-gris.jpg', 'designation': 'PC PORTABLE HP 15-DW3013NK I5 11É GÉN 8GO 1TO WIN10 GRIS', 'prix': '1\\xa0939,000\\xa0TND', 'systeme': 'Windows ', 'processeur': 'Intel Core i5', 'ram': '8 Go', 'disqueDur': '1 To', 'CarteGraphique': 'Graphique Intégrée'}\n",
            "{'url': 'https://agora.tn/fr/vente-tv/9882-televiseur-samsung-tu7000-55-uhd-4k-smart.html', 'urlImage': 'https://agora.tn/fr/33672-home_default/televiseur-samsung-tu7000-55-uhd-4k-smart.jpg', 'designation': 'PC PORTABLE LENOVO L3 I5-1135G7 8GO/1TO/15.6\"/GREY', 'prix': '1\\xa0959,000\\xa0TND', 'processeur': 'Intel Core i5', 'ram': '8 Go', 'disqueDur': '1 To', 'CarteGraphique': 'Graphique Intégrée'}\n",
            "{'url': 'https://agora.tn/fr/pc-portable/9610-pc-portable-dell-vostro-3500-i5-1135g7-4go1to-cg-2go-mx330156-.html', 'urlImage': 'https://agora.tn/fr/32669-home_default/pc-portable-dell-vostro-3500-i5-1135g7-4go1to-cg-2go-mx330156-.jpg', 'designation': \"PC PORTABLE DELL VOSTRO 3500 i5-1135G7 /4GO/1TO /CG 2Go MX330/15.6''\", 'prix': '1\\xa0999,000\\xa0TND', 'systeme': 'FreeDos', 'processeur': 'Intel Core i5', 'ram': '4 Go', 'disqueDur': '1 To', 'CarteGraphique': 'Nvidia GeForce'}\n",
            "{'url': 'https://agora.tn/fr/pc-portable/9277-pc-portable-hp-15-dw3009nk-i5-11gen-8go-1tb-gris.html', 'urlImage': 'https://agora.tn/fr/31452-home_default/pc-portable-hp-15-dw3009nk-i5-11gen-8go-1tb-gris.jpg', 'designation': 'PC PORTABLE HP 15-dw3009nk I5-11GÉN 8GO 1TB Gris', 'prix': '1\\xa0999,000\\xa0TND', 'systeme': 'Windows ', 'processeur': 'Intel Core i5', 'ram': '8 Go', 'disqueDur': '1 To', 'CarteGraphique': 'Graphique Intégrée'}\n",
            "{'url': 'https://agora.tn/fr/pc-portable/9057-pc-portable-dell-vostro-3500-i5-1135g78go256go-cg-2go-mx330.html', 'urlImage': 'https://agora.tn/fr/32560-home_default/pc-portable-dell-vostro-3500-i5-1135g78go256go-cg-2go-mx330.jpg', 'designation': 'PC PORTABLE DELL VOSTRO 3500 i5-1135G7 / 8Go / 256Go CG 2Go MX330', 'prix': '2\\xa0139,000\\xa0TND', 'systeme': 'FreeDos', 'processeur': 'Intel Core i5', 'ram': '8 Go', 'disqueDur': '256 Go SSD', 'CarteGraphique': 'Nvidia GeForce'}\n",
            "{'url': 'https://agora.tn/fr/pc-portable/9715-pc-portable-acer-extensa-i7-1165-8go1tocg-2go-mx350-156-.html', 'urlImage': 'https://agora.tn/fr/33070-home_default/pc-portable-acer-extensa-i7-1165-8go1tocg-2go-mx350-156-.jpg', 'designation': \"PC PORTABLE ACER EXTENSA I7-1165 8Go/1To/CG 2Go MX350 / 15.6''\", 'prix': '2\\xa0175,000\\xa0TND', 'systeme': 'FreeDos', 'processeur': 'Intel Core i7', 'ram': '8 Go', 'disqueDur': '1 To', 'CarteGraphique': 'Nvidia GeForce'}\n",
            "{'url': 'https://agora.tn/fr/pc-portable/9594-pc-portable-hp-15-dw3007nk-i5-1135-8go1to-128g-ssdcg-2gow10-silver.html', 'urlImage': 'https://agora.tn/fr/32633-home_default/pc-portable-hp-15-dw3007nk-i5-1135-8go1to-128g-ssdcg-2gow10-silver.jpg', 'designation': 'PC PORTABLE HP 15-DW3006NK I5-1135 8GO/1To +128G SSD/CG 2GO/W10 SILVER', 'prix': '2\\xa0199,000\\xa0TND', 'systeme': 'Windows ', 'processeur': 'Intel Core i5', 'ram': '8 Go', 'disqueDur': '1 To', 'CarteGraphique': 'Nvidia GeForce'}\n",
            "{'url': 'https://agora.tn/fr/pc-portable/9736-pc-portable-acer-extensa-i7-1165g7-12go1tocg-2go-mx350-156-.html', 'urlImage': 'https://agora.tn/fr/33231-home_default/pc-portable-acer-extensa-i7-1165g7-12go1tocg-2go-mx350-156-.jpg', 'designation': \"PC PORTABLE ACER EXTENSA I7-1165G7 12Go/1To/CG 2Go MX350 / 15.6''\", 'prix': '2\\xa0229,000\\xa0TND', 'systeme': 'FreeDos', 'processeur': 'Intel Core i7', 'ram': '12 Go', 'disqueDur': '1 To', 'CarteGraphique': 'Nvidia GeForce'}\n",
            "{'url': 'https://agora.tn/fr/pc-portable/9834-pc-portable-asus-x515ep-i5-1135g78go512g-ssdcg-mx330-2gwin10156-grey.html', 'urlImage': 'https://agora.tn/fr/33373-home_default/pc-portable-asus-x515ep-i5-1135g78go512g-ssdcg-mx330-2gwin10156-grey.jpg', 'designation': \"PC PORTABLE ASUS X515EP I5-1135G7/8GO/512G SSD/CG MX330 2G/WIN10/15.6'' SILVER\", 'prix': '2\\xa0299,000\\xa0TND', 'systeme': 'Windows ', 'processeur': 'Intel Core i5', 'ram': '8 Go', 'disqueDur': '512 Go SSD', 'CarteGraphique': 'Nvidia GeForce'}\n",
            "{'url': 'https://agora.tn/fr/pc-portable/9833-pc-portable-asus-x515ep-i5-1135g78go512g-ssdcg-mx330-2gwin10156-grey.html', 'urlImage': 'https://agora.tn/fr/33367-home_default/pc-portable-asus-x515ep-i5-1135g78go512g-ssdcg-mx330-2gwin10156-grey.jpg', 'designation': \"PC PORTABLE ASUS X515EP I5-1135G7/8GO/512G SSD/CG MX330 2G/WIN10/15.6'' GREY\", 'prix': '2\\xa0299,000\\xa0TND', 'systeme': 'Windows ', 'processeur': 'Intel Core i5', 'ram': '8 Go', 'disqueDur': '512 Go SSD', 'CarteGraphique': 'Nvidia GeForce'}\n",
            "{'url': 'https://agora.tn/fr/pc-portable-gamer/9867-pc-portable-asus-tuf506-i5-11gen-8go512g-ssdrtx3050-win10.html', 'urlImage': 'https://agora.tn/fr/33530-home_default/pc-portable-asus-tuf506-i5-11gen-8go512g-ssdrtx3050-win10.jpg', 'designation': 'PC PORTABLE ASUS G513IH R7-4800H 8GO/512G SSD/GTX1650 4G/W10/15.6\"', 'prix': '2\\xa0979,000\\xa0TND', 'systeme': 'Windows ', 'processeur': 'AMD RYZEN', 'ram': '8 Go', 'disqueDur': '512 Go SSD', 'CarteGraphique': 'Nvidia GeForce'}\n",
            "{'url': 'https://agora.tn/fr/accueil/9868-pc-portable-asus-tuf506-i5-11gen-8go512g-ssdrtx3050-win10.html', 'urlImage': 'https://agora.tn/fr/33536-home_default/pc-portable-asus-tuf506-i5-11gen-8go512g-ssdrtx3050-win10.jpg', 'designation': 'PC PORTABLE ASUS UM425UG R7-5700U 16GO/512G SSD/MX450 2G/W10/14\"FHD', 'prix': '3\\xa0299,000\\xa0TND', 'systeme': 'Windows ', 'processeur': 'AMD RYZEN', 'ram': '16 Go', 'disqueDur': '512 Go SSD', 'CarteGraphique': 'Nvidia GeForce'}\n",
            "{'url': 'https://agora.tn/fr/pc-portable-gamer/9860-pc-portable-asus-tuf506-i5-11gen-8go512g-ssdrtx3050-win10.html', 'urlImage': 'https://agora.tn/fr/33495-home_default/pc-portable-asus-tuf506-i5-11gen-8go512g-ssdrtx3050-win10.jpg', 'designation': 'PC PORTABLE ASUS TUF506 I5-11400H 8GO/512G SSD/RTX3050 TI 4G/W10/15.6\"', 'prix': '3\\xa0399,000\\xa0TND', 'systeme': 'Windows ', 'processeur': 'Intel Core i5', 'ram': '8 Go', 'disqueDur': '512 Go SSD', 'CarteGraphique': 'Nvidia GeForce'}\n",
            "{'url': 'https://agora.tn/fr/pc-portable-gamer/9865-pc-portable-asus-tuf506-i5-11gen-8go512g-ssdrtx3050-win10.html', 'urlImage': 'https://agora.tn/fr/33519-home_default/pc-portable-asus-tuf506-i5-11gen-8go512g-ssdrtx3050-win10.jpg', 'designation': 'PC PORTABLE ASUS G513QE R9-5900HX 8GO/512G SSD/RTX3050 TI 4G/W10/15.6\"', 'prix': '3\\xa0619,000\\xa0TND', 'systeme': 'Windows ', 'processeur': 'AMD RYZEN', 'ram': '8 Go', 'disqueDur': '512 Go SSD', 'CarteGraphique': 'Nvidia GeForce'}\n",
            "{'url': 'https://agora.tn/fr/pc-portable-gamer/9866-pc-portable-asus-tuf506-i5-11gen-8go512g-ssdrtx3050-win10.html', 'urlImage': 'https://agora.tn/fr/33525-home_default/pc-portable-asus-tuf506-i5-11gen-8go512g-ssdrtx3050-win10.jpg', 'designation': 'PC PORTABLE ASUS FX516PE I7-11370H 16GO/512G SSD/RTX3050 TI 4G/W10/15.6\"', 'prix': '4\\xa0065,000\\xa0TND', 'systeme': 'Windows ', 'processeur': 'Intel Core i7', 'ram': '16 Go', 'disqueDur': '512 Go SSD', 'CarteGraphique': 'Nvidia GeForce'}\n",
            "{'url': 'https://agora.tn/fr/accueil/9869-pc-portable-asus-tuf506-i5-11gen-8go512g-ssdrtx3050-win10.html', 'urlImage': 'https://agora.tn/fr/33544-home_default/pc-portable-asus-tuf506-i5-11gen-8go512g-ssdrtx3050-win10.jpg', 'designation': 'PC PORTABLE ASUS FLIP UX363EA I7-1165 16GO/512G SSD/W10/OLED 13.3\" TOUCH', 'prix': '4\\xa0090,000\\xa0TND', 'systeme': 'Windows ', 'processeur': 'Intel Core i7', 'ram': '16 Go', 'disqueDur': '512 Go SSD', 'CarteGraphique': 'Graphique Intégrée'}\n"
          ]
        }
      ]
    },
    {
      "cell_type": "code",
      "metadata": {
        "id": "g7qkGEocYW6W"
      },
      "source": [
        "dataset = pd.DataFrame(articles)\n",
        "dataset.to_csv(\"agora.csv\",index=False)"
      ],
      "execution_count": null,
      "outputs": []
    },
    {
      "cell_type": "markdown",
      "metadata": {
        "id": "KQ3PyJpiRPvR"
      },
      "source": [
        "#Tunisianet\n"
      ]
    },
    {
      "cell_type": "code",
      "metadata": {
        "id": "G6lk33jBNDQl"
      },
      "source": [
        "def getcharacteristics(element):\n",
        "  page = requests.get(element['url'])\n",
        "  soup = BeautifulSoup(page.text,'html.parser')\n",
        "  element[\"designation\"] = soup.find(\"h1\",{\"class\" : \"h1\"}).text\n",
        "  element[\"prix\"] = soup.find(\"span\",{\"itemprop\" : \"price\"}).attrs['content']\n",
        "  for t,d in zip(soup.find(\"dl\",{\"class\" : \"data-sheet\"}).find_all(\"dt\"),soup.find(\"dl\",{\"class\" : \"data-sheet\"}).find_all(\"dd\")):\n",
        "      if t.text == \"Système D'exploitation\":\n",
        "        element[\"systeme\"] = d.text\n",
        "      elif t.text == \"Processeur\":\n",
        "        element[\"processeur\"] = d.text\n",
        "      elif t.text == \"Mémoire\":\n",
        "        element[\"ram\"] = d.text\n",
        "      elif t.text == \"Disque Dur\":\n",
        "        element[\"disqueDur\"] = d.text\n",
        "      elif t.text == \"Disque Dur\":\n",
        "        element[\"disqueDur\"] = d.text\n",
        "      elif t.text == \"Réf Carte graphique\":\n",
        "        element[\"CarteGraphique\"] = d.text\n",
        "  return element"
      ],
      "execution_count": 7,
      "outputs": []
    },
    {
      "cell_type": "code",
      "metadata": {
        "colab": {
          "base_uri": "https://localhost:8080/",
          "height": 1000
        },
        "id": "M5_0yxkFK_yX",
        "outputId": "3870450c-65c3-43e8-bec8-a0748f2137b9"
      },
      "source": [
        "for i in range(19):\n",
        "  if i == 0 :\n",
        "    url = \"https://www.tunisianet.com.tn/301-pc-portable-tunisie\"\n",
        "  else:\n",
        "    url = \"https://www.tunisianet.com.tn/301-pc-portable-tunisie?page=\"+str(i)\n",
        "  page = requests.get(url)\n",
        "  soup = BeautifulSoup(page.text,'html.parser')\n",
        "  \n",
        "  for article in soup.find_all(\"article\",{\"class\" : \"product-miniature js-product-miniature col-xs-12 propadding\"}):\n",
        "    element = {}\n",
        "    element[\"url\"] = article.find(\"a\",{\"class\" : \"thumbnail product-thumbnail first-img\"}).attrs['href']\n",
        "    element[\"urlImage\"] = article.find(\"img\",{\"class\" : \"center-block img-responsive\"}).attrs['src']\n",
        "    element = getcharacteristics(element)\n",
        "    print(element)\n",
        "    articles.append( element)\n",
        "dataset = pd.DataFrame(articles)\n",
        "dataset.to_csv(\"tunisianet.csv\",index=False)\n"
      ],
      "execution_count": 9,
      "outputs": [
        {
          "output_type": "stream",
          "name": "stdout",
          "text": [
            "{'url': 'https://www.tunisianet.com.tn/pc-portable-tunisie/48873-pc-portable-vegabook-plus-14-quad-core-4-go-silver-50-dt-bon-d-achat.html', 'urlImage': 'https://www.tunisianet.com.tn/198862-home/pc-portable-vegabook-plus-14-quad-core-4-go-silver-50-dt-bon-d-achat.jpg', 'designation': 'Pc portable Vegabook Plus 14 / Quad Core / 4 Go / Silver', 'prix': '499', 'processeur': 'Intel Atom', 'ram': '4 Go', 'disqueDur': '64 Go eMMC', 'CarteGraphique': 'Intel HD Graphics'}\n",
            "{'url': 'https://www.tunisianet.com.tn/pc-portable-tunisie/51363-pc-portable-lenovo-v15-iil-i5-10e-gen-4-go-82C500TAFE.html', 'urlImage': 'https://www.tunisianet.com.tn/214534-home/pc-portable-lenovo-v15-iil-i5-10e-gen-4-go-82C500TAFE.jpg', 'designation': 'Pc Portable Lenovo V15 IGL / Dual Core / 4 Go', 'prix': '899', 'processeur': 'Intel Celeron Dual Core', 'ram': '4 Go', 'disqueDur': '1 To', 'CarteGraphique': 'Intel UHD Graphics 600'}\n",
            "{'url': 'https://www.tunisianet.com.tn/pc-portable-tunisie/50111-pc-portable-asus-x543ma-gq1012t-dual-core-4-go-gris-antivirus-bitdefender.html', 'urlImage': 'https://www.tunisianet.com.tn/205963-home/pc-portable-asus-x543ma-gq1012t-dual-core-4-go-gris-antivirus-bitdefender.jpg', 'designation': 'Pc portable Asus X543MA-GQ1012T / Dual Core / 4 Go / Gris + Antivirus Bitdefender', 'prix': '969', 'processeur': 'Intel Celeron Dual Core', 'ram': '4 Go', 'disqueDur': '1 To', 'CarteGraphique': 'Intel HD Graphics'}\n",
            "{'url': 'https://www.tunisianet.com.tn/pc-portable-tunisie/51234-pc-portable-asus-x543ma-dual-core-4-go-silver-antivirus-bitdefender.html', 'urlImage': 'https://www.tunisianet.com.tn/214077-home/pc-portable-asus-x543ma-dual-core-4-go-silver-antivirus-bitdefender.jpg', 'designation': 'Pc portable Asus X543MA / Dual Core / 4 Go / Silver + Antivirus Bitdefender', 'prix': '969', 'processeur': 'Intel Celeron Dual Core', 'ram': '4 Go', 'disqueDur': '1 To', 'CarteGraphique': 'Intel HD Graphics'}\n",
            "{'url': 'https://www.tunisianet.com.tn/pc-portable-tunisie/52830-pc-portable-lenovo-ideapad-3-15igl05-dual-core-4-go-noir.html', 'urlImage': 'https://www.tunisianet.com.tn/224338-home/pc-portable-lenovo-ideapad-3-15igl05-dual-core-4-go-noir.jpg', 'designation': 'Pc Portable Lenovo IdeaPad 3 15IGL05 / Dual Core / 4 Go / Noir', 'prix': '979', 'processeur': 'Intel Celeron Dual Core', 'ram': '4 Go', 'disqueDur': '1 To', 'CarteGraphique': 'Intel UHD Graphics'}\n",
            "{'url': 'https://www.tunisianet.com.tn/pc-portable-tunisie/47112-pc-portable-hp-15-dw1001nk-dual-core-4-go.html', 'urlImage': 'https://www.tunisianet.com.tn/190057-home/pc-portable-hp-15-dw1001nk-dual-core-4-go.jpg', 'designation': 'Pc Portable HP 15-dw1001nk / Dual Core / 4 Go', 'prix': '999', 'processeur': 'Intel Celeron Dual Core', 'ram': '4 Go', 'disqueDur': '1 To', 'CarteGraphique': 'Intel UHD Graphics 600'}\n",
            "{'url': 'https://www.tunisianet.com.tn/pc-portable-tunisie/47114-pc-portable-hp-15-dw1000nk-dual-core-4-go.html', 'urlImage': 'https://www.tunisianet.com.tn/190072-home/pc-portable-hp-15-dw1000nk-dual-core-4-go.jpg', 'designation': 'Pc Portable HP 15-dw1000nk / Dual Core / 4 Go', 'prix': '999', 'processeur': 'Intel Celeron Dual Core', 'ram': '4 Go', 'disqueDur': '1 To', 'CarteGraphique': 'Intel UHD Graphics 600'}\n",
            "{'url': 'https://www.tunisianet.com.tn/pc-portable-tunisie/47115-pc-portable-hp-15-dw1000nk-dual-core-8-go.html', 'urlImage': 'https://www.tunisianet.com.tn/190077-home/pc-portable-hp-15-dw1000nk-dual-core-8-go.jpg', 'designation': 'Pc Portable HP 15-dw1000nk / Dual Core / 8 Go', 'prix': '1053', 'processeur': 'Intel Celeron Dual Core', 'ram': '8 Go', 'disqueDur': '1 To', 'CarteGraphique': 'Intel UHD Graphics 600'}\n",
            "{'url': 'https://www.tunisianet.com.tn/pc-portable-tunisie/47113-pc-portable-hp-15-dw1001nk-dual-core-4-go.html', 'urlImage': 'https://www.tunisianet.com.tn/190062-home/pc-portable-hp-15-dw1001nk-dual-core-4-go.jpg', 'designation': 'Pc Portable HP 15-dw1001nk / Dual Core / 8 Go', 'prix': '1059', 'processeur': 'Intel Celeron Dual Core', 'ram': '8 Go', 'disqueDur': '1 To', 'CarteGraphique': 'Intel UHD Graphics 600'}\n",
            "{'url': 'https://www.tunisianet.com.tn/pc-portable-tunisie/51643-pc-portable-hp-15-dw1000nk-dual-core-16-go.html', 'urlImage': 'https://www.tunisianet.com.tn/216910-home/pc-portable-hp-15-dw1000nk-dual-core-16-go.jpg', 'designation': 'Pc Portable HP 15-dw1000nk / Dual Core / 16 Go', 'prix': '1133', 'processeur': 'Intel Celeron Dual Core', 'ram': '16 Go', 'disqueDur': '1 To', 'CarteGraphique': 'Intel UHD Graphics 600'}\n",
            "{'url': 'https://www.tunisianet.com.tn/pc-portable-tunisie/51644-pc-portable-hp-15-dw1001nk-dual-core-16-go.html', 'urlImage': 'https://www.tunisianet.com.tn/216915-home/pc-portable-hp-15-dw1001nk-dual-core-16-go.jpg', 'designation': 'Pc Portable HP 15-dw1001nk / Dual Core / 16 Go', 'prix': '1133', 'processeur': 'Intel Celeron Dual Core', 'ram': '16 Go', 'disqueDur': '1 To', 'CarteGraphique': 'Intel UHD Graphics 600'}\n",
            "{'url': 'https://www.tunisianet.com.tn/pc-portable-tunisie/53033-pc-portable-asus-vivobook-e410ma-quad-core-4-go-noir.html', 'urlImage': 'https://www.tunisianet.com.tn/225855-home/pc-portable-asus-vivobook-e410ma-quad-core-4-go-noir.jpg', 'designation': 'Pc portable Asus Vivobook E410MA / Quad Core / 4 Go / Noir', 'prix': '1199', 'processeur': 'Intel Pentium Quad  Core', 'ram': '4 Go', 'disqueDur': '128 Go SSD', 'CarteGraphique': 'Intel UHD Graphics'}\n",
            "{'url': 'https://www.tunisianet.com.tn/pc-portable-tunisie/52353-pc-portable-asus-vivobook-max-x543ua-i3-7e-gen-4-go-gris.html', 'urlImage': 'https://www.tunisianet.com.tn/221286-home/pc-portable-asus-vivobook-max-x543ua-i3-7e-gen-4-go-gris.jpg', 'designation': 'Pc portable Asus VivoBook Max X543UA / i3 7è Gén / 4 Go / Gris', 'prix': '1249', 'processeur': 'Intel Core i3', 'ram': '4 Go', 'disqueDur': '1 To', 'CarteGraphique': 'Intel HD Graphics'}\n",
            "{'url': 'https://www.tunisianet.com.tn/pc-portable-tunisie/52905-pc-portable-asus-d415da-bv873t-amd-ryzen-3-3250u-4-go-windows-10-gris-antivirus-bitdefender-internet-security-offert.html', 'urlImage': 'https://www.tunisianet.com.tn/225038-home/pc-portable-asus-d415da-bv873t-amd-ryzen-3-3250u-4-go-windows-10-gris-antivirus-bitdefender-internet-security-offert.jpg', 'designation': 'PC Portable Asus D415DA-BV873T / AMD Ryzen 3 3250U  / 4 Go / Windows 10 / Gris + Antivirus Bitdefender Internet Security offert', 'prix': '1259', 'processeur': 'AMD Ryzen 3 ', 'ram': '4 Go', 'disqueDur': '1 To', 'CarteGraphique': 'AMD Radeon Graphics'}\n",
            "{'url': 'https://www.tunisianet.com.tn/pc-portable-tunisie/51255-pc-portable-asus-m509da-amd-ryzen-3-4-go-silver-antivirus-bitdefender.html', 'urlImage': 'https://www.tunisianet.com.tn/213896-home/pc-portable-asus-m509da-amd-ryzen-3-4-go-silver-antivirus-bitdefender.jpg', 'designation': 'Pc Portable Asus M509DA / AMD Ryzen 3 / 4 Go / Silver + Antivirus Bitdefender', 'prix': '1269', 'processeur': 'AMD Ryzen 3 ', 'ram': '4 Go', 'disqueDur': '1 To', 'CarteGraphique': 'Intel HD Graphics'}\n",
            "{'url': 'https://www.tunisianet.com.tn/pc-portable-tunisie/52354-pc-portable-asus-vivobook-max-x543ua-i3-7e-gen-8-go-gris.html', 'urlImage': 'https://www.tunisianet.com.tn/221291-home/pc-portable-asus-vivobook-max-x543ua-i3-7e-gen-8-go-gris.jpg', 'designation': 'Pc portable Asus VivoBook Max X543UA / i3 7è Gén / 8 Go / Gris', 'prix': '1309', 'processeur': 'Intel Core i3', 'ram': '8 Go', 'disqueDur': '1 To', 'CarteGraphique': 'Intel HD Graphics'}\n",
            "{'url': 'https://www.tunisianet.com.tn/pc-portable-tunisie/52355-pc-portable-asus-vivobook-max-x543ua-i3-7e-gen-12-go-gris.html', 'urlImage': 'https://www.tunisianet.com.tn/221296-home/pc-portable-asus-vivobook-max-x543ua-i3-7e-gen-12-go-gris.jpg', 'designation': 'Pc portable Asus VivoBook Max X543UA / i3 7è Gén / 12 Go / Gris', 'prix': '1348', 'processeur': 'Intel Core i3', 'ram': '12 Go', 'disqueDur': '1 To', 'CarteGraphique': 'Intel HD Graphics'}\n",
            "{'url': 'https://www.tunisianet.com.tn/pc-portable-tunisie/52815-pc-portable-lenovo-ideapad-3-15iil05-i3-10e-gen-4-go-noir.html', 'urlImage': 'https://www.tunisianet.com.tn/224241-home/pc-portable-lenovo-ideapad-3-15iil05-i3-10e-gen-4-go-noir.jpg', 'designation': 'Pc Portable Lenovo IdeaPad 3 15IIL05  / i3 10è Gén / 4 Go / Noir', 'prix': '1349', 'processeur': 'Intel Core i3', 'ram': '4 Go', 'disqueDur': '1 To', 'CarteGraphique': 'Intel UHD Graphics'}\n",
            "{'url': 'https://www.tunisianet.com.tn/pc-portable-tunisie/51591-pc-portable-lenovo-ideapad-3-15iml05-i3-10e-gen-8-go-win-10-gris.html', 'urlImage': 'https://www.tunisianet.com.tn/216481-home/pc-portable-lenovo-ideapad-3-15iml05-i3-10e-gen-8-go-win-10-gris.jpg', 'designation': 'PC portable Lenovo IdeaPad 3 15IML05 / i3 10é Gén / 8 Go / Win 10 / Gris', 'prix': '1369', 'processeur': 'Intel Core i3', 'ram': '8 Go', 'disqueDur': '1 To', 'CarteGraphique': 'Intel UHD Graphics'}\n",
            "{'url': 'https://www.tunisianet.com.tn/pc-portable-tunisie/51594-pc-portable-lenovo-ideapad-3-15iml05-i3-10e-gen-8-go-win-10-noir.html', 'urlImage': 'https://www.tunisianet.com.tn/216494-home/pc-portable-lenovo-ideapad-3-15iml05-i3-10e-gen-8-go-win-10-noir.jpg', 'designation': 'PC portable Lenovo IdeaPad 3 15IML05 / i3 10é Gén / 8 Go / Win 10 / Noir', 'prix': '1369', 'processeur': 'Intel Core i3', 'ram': '8 Go', 'disqueDur': '1 To', 'CarteGraphique': 'Intel UHD Graphics'}\n",
            "{'url': 'https://www.tunisianet.com.tn/pc-portable-tunisie/43106-portable-lenovo-ideapad-s145-15iil-i3-10e-gen-8-go-silver-souris-sans-fil-lenovo-c300.html', 'urlImage': 'https://www.tunisianet.com.tn/169468-home/portable-lenovo-ideapad-s145-15iil-i3-10e-gen-8-go-silver-souris-sans-fil-lenovo-c300.jpg', 'designation': 'Portable Lenovo Ideapad S145-15IIL / i3 10é Gén / 8 Go / Silver', 'prix': '1369', 'processeur': 'Intel Core i3', 'ram': '8 Go', 'disqueDur': '1 To', 'CarteGraphique': 'Intel UHD Graphics'}\n",
            "{'url': 'https://www.tunisianet.com.tn/pc-portable-tunisie/52447-pc-portable-asus-vivobook-x509fa-i3-10e-gen-4-go-silver.html', 'urlImage': 'https://www.tunisianet.com.tn/221848-home/pc-portable-asus-vivobook-x509fa-i3-10e-gen-4-go-silver.jpg', 'designation': 'Pc portable Asus VivoBook X509FA / i3 10è Gén / 4 Go / Silver', 'prix': '1379', 'processeur': 'Intel Core i3', 'ram': '4 Go', 'disqueDur': '1 To', 'CarteGraphique': 'Intel HD Graphics'}\n",
            "{'url': 'https://www.tunisianet.com.tn/pc-portable-tunisie/52906-pc-portable-asus-vivobook-x409fa-i3-10e-gen-4-go-silver-antivirus-bitdefender-internet-security-offert.html', 'urlImage': 'https://www.tunisianet.com.tn/225049-home/pc-portable-asus-vivobook-x409fa-i3-10e-gen-4-go-silver-antivirus-bitdefender-internet-security-offert.jpg', 'designation': 'Pc portable Asus VivoBook X409FA / i3 10è Gén / 4 Go / Silver + Antivirus Bitdefender Internet Security offert', 'prix': '1399', 'processeur': 'Intel Core i3', 'ram': '4 Go', 'disqueDur': '1 To', 'CarteGraphique': 'Intel HD Graphics'}\n",
            "{'url': 'https://www.tunisianet.com.tn/pc-portable-tunisie/51252-pc-portable-asus-vivobook-x509fa-i3-10e-gen-4-go-gris-antivirus-bitdefender.html', 'urlImage': 'https://www.tunisianet.com.tn/213875-home/pc-portable-asus-vivobook-x509fa-i3-10e-gen-4-go-gris-antivirus-bitdefender.jpg', 'designation': 'Pc portable Asus VivoBook X509FA / i3 10è Gén / 4 Go / Gris + Antivirus Bitdefender', 'prix': '1399', 'processeur': 'Intel Core i3', 'ram': '4 Go', 'disqueDur': '1 To', 'CarteGraphique': 'Intel HD Graphics'}\n",
            "{'url': 'https://www.tunisianet.com.tn/pc-portable-tunisie/48873-pc-portable-vegabook-plus-14-quad-core-4-go-silver-50-dt-bon-d-achat.html', 'urlImage': 'https://www.tunisianet.com.tn/198862-home/pc-portable-vegabook-plus-14-quad-core-4-go-silver-50-dt-bon-d-achat.jpg', 'designation': 'Pc portable Vegabook Plus 14 / Quad Core / 4 Go / Silver', 'prix': '499', 'processeur': 'Intel Atom', 'ram': '4 Go', 'disqueDur': '64 Go eMMC', 'CarteGraphique': 'Intel HD Graphics'}\n",
            "{'url': 'https://www.tunisianet.com.tn/pc-portable-tunisie/51363-pc-portable-lenovo-v15-iil-i5-10e-gen-4-go-82C500TAFE.html', 'urlImage': 'https://www.tunisianet.com.tn/214534-home/pc-portable-lenovo-v15-iil-i5-10e-gen-4-go-82C500TAFE.jpg', 'designation': 'Pc Portable Lenovo V15 IGL / Dual Core / 4 Go', 'prix': '899', 'processeur': 'Intel Celeron Dual Core', 'ram': '4 Go', 'disqueDur': '1 To', 'CarteGraphique': 'Intel UHD Graphics 600'}\n",
            "{'url': 'https://www.tunisianet.com.tn/pc-portable-tunisie/50111-pc-portable-asus-x543ma-gq1012t-dual-core-4-go-gris-antivirus-bitdefender.html', 'urlImage': 'https://www.tunisianet.com.tn/205963-home/pc-portable-asus-x543ma-gq1012t-dual-core-4-go-gris-antivirus-bitdefender.jpg', 'designation': 'Pc portable Asus X543MA-GQ1012T / Dual Core / 4 Go / Gris + Antivirus Bitdefender', 'prix': '969', 'processeur': 'Intel Celeron Dual Core', 'ram': '4 Go', 'disqueDur': '1 To', 'CarteGraphique': 'Intel HD Graphics'}\n",
            "{'url': 'https://www.tunisianet.com.tn/pc-portable-tunisie/51234-pc-portable-asus-x543ma-dual-core-4-go-silver-antivirus-bitdefender.html', 'urlImage': 'https://www.tunisianet.com.tn/214077-home/pc-portable-asus-x543ma-dual-core-4-go-silver-antivirus-bitdefender.jpg', 'designation': 'Pc portable Asus X543MA / Dual Core / 4 Go / Silver + Antivirus Bitdefender', 'prix': '969', 'processeur': 'Intel Celeron Dual Core', 'ram': '4 Go', 'disqueDur': '1 To', 'CarteGraphique': 'Intel HD Graphics'}\n",
            "{'url': 'https://www.tunisianet.com.tn/pc-portable-tunisie/52830-pc-portable-lenovo-ideapad-3-15igl05-dual-core-4-go-noir.html', 'urlImage': 'https://www.tunisianet.com.tn/224338-home/pc-portable-lenovo-ideapad-3-15igl05-dual-core-4-go-noir.jpg', 'designation': 'Pc Portable Lenovo IdeaPad 3 15IGL05 / Dual Core / 4 Go / Noir', 'prix': '979', 'processeur': 'Intel Celeron Dual Core', 'ram': '4 Go', 'disqueDur': '1 To', 'CarteGraphique': 'Intel UHD Graphics'}\n",
            "{'url': 'https://www.tunisianet.com.tn/pc-portable-tunisie/47112-pc-portable-hp-15-dw1001nk-dual-core-4-go.html', 'urlImage': 'https://www.tunisianet.com.tn/190057-home/pc-portable-hp-15-dw1001nk-dual-core-4-go.jpg', 'designation': 'Pc Portable HP 15-dw1001nk / Dual Core / 4 Go', 'prix': '999', 'processeur': 'Intel Celeron Dual Core', 'ram': '4 Go', 'disqueDur': '1 To', 'CarteGraphique': 'Intel UHD Graphics 600'}\n",
            "{'url': 'https://www.tunisianet.com.tn/pc-portable-tunisie/47114-pc-portable-hp-15-dw1000nk-dual-core-4-go.html', 'urlImage': 'https://www.tunisianet.com.tn/190072-home/pc-portable-hp-15-dw1000nk-dual-core-4-go.jpg', 'designation': 'Pc Portable HP 15-dw1000nk / Dual Core / 4 Go', 'prix': '999', 'processeur': 'Intel Celeron Dual Core', 'ram': '4 Go', 'disqueDur': '1 To', 'CarteGraphique': 'Intel UHD Graphics 600'}\n",
            "{'url': 'https://www.tunisianet.com.tn/pc-portable-tunisie/47115-pc-portable-hp-15-dw1000nk-dual-core-8-go.html', 'urlImage': 'https://www.tunisianet.com.tn/190077-home/pc-portable-hp-15-dw1000nk-dual-core-8-go.jpg', 'designation': 'Pc Portable HP 15-dw1000nk / Dual Core / 8 Go', 'prix': '1053', 'processeur': 'Intel Celeron Dual Core', 'ram': '8 Go', 'disqueDur': '1 To', 'CarteGraphique': 'Intel UHD Graphics 600'}\n",
            "{'url': 'https://www.tunisianet.com.tn/pc-portable-tunisie/47113-pc-portable-hp-15-dw1001nk-dual-core-4-go.html', 'urlImage': 'https://www.tunisianet.com.tn/190062-home/pc-portable-hp-15-dw1001nk-dual-core-4-go.jpg', 'designation': 'Pc Portable HP 15-dw1001nk / Dual Core / 8 Go', 'prix': '1059', 'processeur': 'Intel Celeron Dual Core', 'ram': '8 Go', 'disqueDur': '1 To', 'CarteGraphique': 'Intel UHD Graphics 600'}\n",
            "{'url': 'https://www.tunisianet.com.tn/pc-portable-tunisie/51643-pc-portable-hp-15-dw1000nk-dual-core-16-go.html', 'urlImage': 'https://www.tunisianet.com.tn/216910-home/pc-portable-hp-15-dw1000nk-dual-core-16-go.jpg', 'designation': 'Pc Portable HP 15-dw1000nk / Dual Core / 16 Go', 'prix': '1133', 'processeur': 'Intel Celeron Dual Core', 'ram': '16 Go', 'disqueDur': '1 To', 'CarteGraphique': 'Intel UHD Graphics 600'}\n",
            "{'url': 'https://www.tunisianet.com.tn/pc-portable-tunisie/51644-pc-portable-hp-15-dw1001nk-dual-core-16-go.html', 'urlImage': 'https://www.tunisianet.com.tn/216915-home/pc-portable-hp-15-dw1001nk-dual-core-16-go.jpg', 'designation': 'Pc Portable HP 15-dw1001nk / Dual Core / 16 Go', 'prix': '1133', 'processeur': 'Intel Celeron Dual Core', 'ram': '16 Go', 'disqueDur': '1 To', 'CarteGraphique': 'Intel UHD Graphics 600'}\n",
            "{'url': 'https://www.tunisianet.com.tn/pc-portable-tunisie/53033-pc-portable-asus-vivobook-e410ma-quad-core-4-go-noir.html', 'urlImage': 'https://www.tunisianet.com.tn/225855-home/pc-portable-asus-vivobook-e410ma-quad-core-4-go-noir.jpg', 'designation': 'Pc portable Asus Vivobook E410MA / Quad Core / 4 Go / Noir', 'prix': '1199', 'processeur': 'Intel Pentium Quad  Core', 'ram': '4 Go', 'disqueDur': '128 Go SSD', 'CarteGraphique': 'Intel UHD Graphics'}\n",
            "{'url': 'https://www.tunisianet.com.tn/pc-portable-tunisie/52353-pc-portable-asus-vivobook-max-x543ua-i3-7e-gen-4-go-gris.html', 'urlImage': 'https://www.tunisianet.com.tn/221286-home/pc-portable-asus-vivobook-max-x543ua-i3-7e-gen-4-go-gris.jpg', 'designation': 'Pc portable Asus VivoBook Max X543UA / i3 7è Gén / 4 Go / Gris', 'prix': '1249', 'processeur': 'Intel Core i3', 'ram': '4 Go', 'disqueDur': '1 To', 'CarteGraphique': 'Intel HD Graphics'}\n",
            "{'url': 'https://www.tunisianet.com.tn/pc-portable-tunisie/52905-pc-portable-asus-d415da-bv873t-amd-ryzen-3-3250u-4-go-windows-10-gris-antivirus-bitdefender-internet-security-offert.html', 'urlImage': 'https://www.tunisianet.com.tn/225038-home/pc-portable-asus-d415da-bv873t-amd-ryzen-3-3250u-4-go-windows-10-gris-antivirus-bitdefender-internet-security-offert.jpg', 'designation': 'PC Portable Asus D415DA-BV873T / AMD Ryzen 3 3250U  / 4 Go / Windows 10 / Gris + Antivirus Bitdefender Internet Security offert', 'prix': '1259', 'processeur': 'AMD Ryzen 3 ', 'ram': '4 Go', 'disqueDur': '1 To', 'CarteGraphique': 'AMD Radeon Graphics'}\n",
            "{'url': 'https://www.tunisianet.com.tn/pc-portable-tunisie/51255-pc-portable-asus-m509da-amd-ryzen-3-4-go-silver-antivirus-bitdefender.html', 'urlImage': 'https://www.tunisianet.com.tn/213896-home/pc-portable-asus-m509da-amd-ryzen-3-4-go-silver-antivirus-bitdefender.jpg', 'designation': 'Pc Portable Asus M509DA / AMD Ryzen 3 / 4 Go / Silver + Antivirus Bitdefender', 'prix': '1269', 'processeur': 'AMD Ryzen 3 ', 'ram': '4 Go', 'disqueDur': '1 To', 'CarteGraphique': 'Intel HD Graphics'}\n",
            "{'url': 'https://www.tunisianet.com.tn/pc-portable-tunisie/52354-pc-portable-asus-vivobook-max-x543ua-i3-7e-gen-8-go-gris.html', 'urlImage': 'https://www.tunisianet.com.tn/221291-home/pc-portable-asus-vivobook-max-x543ua-i3-7e-gen-8-go-gris.jpg', 'designation': 'Pc portable Asus VivoBook Max X543UA / i3 7è Gén / 8 Go / Gris', 'prix': '1309', 'processeur': 'Intel Core i3', 'ram': '8 Go', 'disqueDur': '1 To', 'CarteGraphique': 'Intel HD Graphics'}\n",
            "{'url': 'https://www.tunisianet.com.tn/pc-portable-tunisie/52355-pc-portable-asus-vivobook-max-x543ua-i3-7e-gen-12-go-gris.html', 'urlImage': 'https://www.tunisianet.com.tn/221296-home/pc-portable-asus-vivobook-max-x543ua-i3-7e-gen-12-go-gris.jpg', 'designation': 'Pc portable Asus VivoBook Max X543UA / i3 7è Gén / 12 Go / Gris', 'prix': '1348', 'processeur': 'Intel Core i3', 'ram': '12 Go', 'disqueDur': '1 To', 'CarteGraphique': 'Intel HD Graphics'}\n",
            "{'url': 'https://www.tunisianet.com.tn/pc-portable-tunisie/52815-pc-portable-lenovo-ideapad-3-15iil05-i3-10e-gen-4-go-noir.html', 'urlImage': 'https://www.tunisianet.com.tn/224241-home/pc-portable-lenovo-ideapad-3-15iil05-i3-10e-gen-4-go-noir.jpg', 'designation': 'Pc Portable Lenovo IdeaPad 3 15IIL05  / i3 10è Gén / 4 Go / Noir', 'prix': '1349', 'processeur': 'Intel Core i3', 'ram': '4 Go', 'disqueDur': '1 To', 'CarteGraphique': 'Intel UHD Graphics'}\n",
            "{'url': 'https://www.tunisianet.com.tn/pc-portable-tunisie/51591-pc-portable-lenovo-ideapad-3-15iml05-i3-10e-gen-8-go-win-10-gris.html', 'urlImage': 'https://www.tunisianet.com.tn/216481-home/pc-portable-lenovo-ideapad-3-15iml05-i3-10e-gen-8-go-win-10-gris.jpg', 'designation': 'PC portable Lenovo IdeaPad 3 15IML05 / i3 10é Gén / 8 Go / Win 10 / Gris', 'prix': '1369', 'processeur': 'Intel Core i3', 'ram': '8 Go', 'disqueDur': '1 To', 'CarteGraphique': 'Intel UHD Graphics'}\n",
            "{'url': 'https://www.tunisianet.com.tn/pc-portable-tunisie/51594-pc-portable-lenovo-ideapad-3-15iml05-i3-10e-gen-8-go-win-10-noir.html', 'urlImage': 'https://www.tunisianet.com.tn/216494-home/pc-portable-lenovo-ideapad-3-15iml05-i3-10e-gen-8-go-win-10-noir.jpg', 'designation': 'PC portable Lenovo IdeaPad 3 15IML05 / i3 10é Gén / 8 Go / Win 10 / Noir', 'prix': '1369', 'processeur': 'Intel Core i3', 'ram': '8 Go', 'disqueDur': '1 To', 'CarteGraphique': 'Intel UHD Graphics'}\n",
            "{'url': 'https://www.tunisianet.com.tn/pc-portable-tunisie/43106-portable-lenovo-ideapad-s145-15iil-i3-10e-gen-8-go-silver-souris-sans-fil-lenovo-c300.html', 'urlImage': 'https://www.tunisianet.com.tn/169468-home/portable-lenovo-ideapad-s145-15iil-i3-10e-gen-8-go-silver-souris-sans-fil-lenovo-c300.jpg', 'designation': 'Portable Lenovo Ideapad S145-15IIL / i3 10é Gén / 8 Go / Silver', 'prix': '1369', 'processeur': 'Intel Core i3', 'ram': '8 Go', 'disqueDur': '1 To', 'CarteGraphique': 'Intel UHD Graphics'}\n",
            "{'url': 'https://www.tunisianet.com.tn/pc-portable-tunisie/52447-pc-portable-asus-vivobook-x509fa-i3-10e-gen-4-go-silver.html', 'urlImage': 'https://www.tunisianet.com.tn/221848-home/pc-portable-asus-vivobook-x509fa-i3-10e-gen-4-go-silver.jpg', 'designation': 'Pc portable Asus VivoBook X509FA / i3 10è Gén / 4 Go / Silver', 'prix': '1379', 'processeur': 'Intel Core i3', 'ram': '4 Go', 'disqueDur': '1 To', 'CarteGraphique': 'Intel HD Graphics'}\n",
            "{'url': 'https://www.tunisianet.com.tn/pc-portable-tunisie/52906-pc-portable-asus-vivobook-x409fa-i3-10e-gen-4-go-silver-antivirus-bitdefender-internet-security-offert.html', 'urlImage': 'https://www.tunisianet.com.tn/225049-home/pc-portable-asus-vivobook-x409fa-i3-10e-gen-4-go-silver-antivirus-bitdefender-internet-security-offert.jpg', 'designation': 'Pc portable Asus VivoBook X409FA / i3 10è Gén / 4 Go / Silver + Antivirus Bitdefender Internet Security offert', 'prix': '1399', 'processeur': 'Intel Core i3', 'ram': '4 Go', 'disqueDur': '1 To', 'CarteGraphique': 'Intel HD Graphics'}\n",
            "{'url': 'https://www.tunisianet.com.tn/pc-portable-tunisie/51252-pc-portable-asus-vivobook-x509fa-i3-10e-gen-4-go-gris-antivirus-bitdefender.html', 'urlImage': 'https://www.tunisianet.com.tn/213875-home/pc-portable-asus-vivobook-x509fa-i3-10e-gen-4-go-gris-antivirus-bitdefender.jpg', 'designation': 'Pc portable Asus VivoBook X509FA / i3 10è Gén / 4 Go / Gris + Antivirus Bitdefender', 'prix': '1399', 'processeur': 'Intel Core i3', 'ram': '4 Go', 'disqueDur': '1 To', 'CarteGraphique': 'Intel HD Graphics'}\n",
            "{'url': 'https://www.tunisianet.com.tn/pc-portable-tunisie/51254-pc-portable-asus-vivobook-x509fa-i3-10e-gen-4-go-bleu-antivirus-bitdefender.html', 'urlImage': 'https://www.tunisianet.com.tn/213893-home/pc-portable-asus-vivobook-x509fa-i3-10e-gen-4-go-bleu-antivirus-bitdefender.jpg', 'designation': 'Pc portable Asus VivoBook X509FA / i3 10è Gén / 4 Go / Bleu + Antivirus Bitdefender', 'prix': '1399', 'processeur': 'Intel Core i3', 'ram': '4 Go', 'disqueDur': '1 To', 'CarteGraphique': 'Intel HD Graphics'}\n",
            "{'url': 'https://www.tunisianet.com.tn/pc-portable-tunisie/52714-pc-portable-lenovo-ideapad-3-15iml05-i3-10e-gen-4-go-win-10-gris.html', 'urlImage': 'https://www.tunisianet.com.tn/223529-home/pc-portable-lenovo-ideapad-3-15iml05-i3-10e-gen-4-go-win-10-gris.jpg', 'designation': 'PC portable Lenovo IdeaPad 3 15IML05 / i3 10é Gén / 4 Go / Win 10 / Gris', 'prix': '1399', 'processeur': 'Intel Core i3', 'ram': '4 Go', 'disqueDur': '1 To', 'CarteGraphique': 'Intel UHD Graphics'}\n",
            "{'url': 'https://www.tunisianet.com.tn/pc-portable-tunisie/52819-pc-portable-lenovo-ideapad-3-15iil05-i3-10e-gen-8-go-noir.html', 'urlImage': 'https://www.tunisianet.com.tn/224257-home/pc-portable-lenovo-ideapad-3-15iil05-i3-10e-gen-8-go-noir.jpg', 'designation': 'Pc Portable Lenovo IdeaPad 3 15IIL05  / i3 10è Gén / 8 Go / Noir', 'prix': '1409', 'processeur': 'Intel Core i3', 'ram': '8 Go', 'disqueDur': '1 To', 'CarteGraphique': 'Intel UHD Graphics'}\n",
            "{'url': 'https://www.tunisianet.com.tn/pc-portable-tunisie/52356-pc-portable-asus-vivobook-max-x543ua-i3-7e-gen-20-go-gris.html', 'urlImage': 'https://www.tunisianet.com.tn/221301-home/pc-portable-asus-vivobook-max-x543ua-i3-7e-gen-20-go-gris.jpg', 'designation': 'Pc portable Asus VivoBook Max X543UA / i3 7è Gén / 20 Go / Gris', 'prix': '1428', 'processeur': 'Intel Core i3', 'ram': '20 Go', 'disqueDur': '1 To', 'CarteGraphique': 'Intel HD Graphics'}\n",
            "{'url': 'https://www.tunisianet.com.tn/pc-portable-tunisie/52458-pc-portable-asus-vivobook-x509fa-i3-10e-gen-8-go-silver.html', 'urlImage': 'https://www.tunisianet.com.tn/221932-home/pc-portable-asus-vivobook-x509fa-i3-10e-gen-8-go-silver.jpg', 'designation': 'Pc portable Asus VivoBook X509FA / i3 10è Gén / 8 Go / Silver', 'prix': '1439', 'processeur': 'Intel Core i3', 'ram': '8 Go', 'disqueDur': '1 To', 'CarteGraphique': 'Intel HD Graphics'}\n",
            "{'url': 'https://www.tunisianet.com.tn/pc-portable-tunisie/52820-pc-portable-lenovo-ideapad-3-15iil05-i3-10e-gen-12-go-noir.html', 'urlImage': 'https://www.tunisianet.com.tn/224261-home/pc-portable-lenovo-ideapad-3-15iil05-i3-10e-gen-12-go-noir.jpg', 'designation': 'Pc Portable Lenovo IdeaPad 3 15IIL05  / i3 10è Gén / 12 Go / Noir', 'prix': '1448', 'processeur': 'Intel Core i3', 'ram': '12 Go', 'disqueDur': '1 To', 'CarteGraphique': 'Intel UHD Graphics'}\n",
            "{'url': 'https://www.tunisianet.com.tn/pc-portable-tunisie/49789-pc-portable-dell-vostro-3500-i3-11e-gen-4-go-noir.html', 'urlImage': 'https://www.tunisianet.com.tn/204314-home/pc-portable-dell-vostro-3500-i3-11e-gen-4-go-noir.jpg', 'designation': 'Pc Portable Dell Vostro 3500 / i3 11è Gén / 4 Go / Noir + Antivirus Bitdefender Internet Security Gratuit', 'prix': '1449', 'processeur': 'Intel Core i3', 'ram': '4 Go', 'disqueDur': '1 To', 'CarteGraphique': 'Intel HD Graphics'}\n",
            "{'url': 'https://www.tunisianet.com.tn/pc-portable-tunisie/51587-pc-portable-lenovo-ideapad-3-15iml05-i3-10e-gen-4-go-mx130-noir.html', 'urlImage': 'https://www.tunisianet.com.tn/216463-home/pc-portable-lenovo-ideapad-3-15iml05-i3-10e-gen-4-go-mx130-noir.jpg', 'designation': 'PC portable Lenovo IdeaPad 3 15IML05 / i3 10é Gén / 4 Go / MX130 / Noir', 'prix': '1449', 'processeur': 'Intel Core i3', 'ram': '4 Go', 'disqueDur': '1 To', 'CarteGraphique': 'NVIDIA GeForce MX130, 2 Go de mémoire GDDR5 dédiée'}\n",
            "{'url': 'https://www.tunisianet.com.tn/pc-portable-tunisie/50254-pc-portable-dell-vostro-3500-i3-11e-gen-4-go-1-to-noir.html', 'urlImage': 'https://www.tunisianet.com.tn/206972-home/pc-portable-dell-vostro-3500-i3-11e-gen-4-go-1-to-noir.jpg', 'designation': 'Pc Portable Dell Vostro 3500 / i3 11è Gén / 4 Go / 1 To / Noir + Antivirus Bitdefender Internet Security Gratuit', 'prix': '1449', 'processeur': 'Intel Core i3', 'ram': '4 Go', 'disqueDur': '1 To', 'CarteGraphique': 'Intel HD Graphics'}\n",
            "{'url': 'https://www.tunisianet.com.tn/pc-portable-tunisie/52719-pc-portable-lenovo-ideapad-3-15iml05-i3-10e-gen-8-go-win-10-gris.html', 'urlImage': 'https://www.tunisianet.com.tn/223576-home/pc-portable-lenovo-ideapad-3-15iml05-i3-10e-gen-8-go-win-10-gris.jpg', 'designation': 'PC portable Lenovo IdeaPad 3 15IML05 / i3 10é Gén / 8 Go / Win 10 / Gris', 'prix': '1459', 'processeur': 'Intel Core i3', 'ram': '8 Go', 'disqueDur': '1 To', 'CarteGraphique': 'Intel UHD Graphics'}\n",
            "{'url': 'https://www.tunisianet.com.tn/pc-portable-tunisie/52296-pc-portable-asus-vivobook-x509fa-i3-10e-gen-8-go-bleu-antivirus-bitdefender.html', 'urlImage': 'https://www.tunisianet.com.tn/220834-home/pc-portable-asus-vivobook-x509fa-i3-10e-gen-8-go-bleu-antivirus-bitdefender.jpg', 'designation': 'Pc portable Asus VivoBook X509FA / i3 10è Gén / 8 Go / Bleu + Antivirus Bitdefender', 'prix': '1459', 'processeur': 'Intel Core i3', 'ram': '8 Go', 'disqueDur': '1 To', 'CarteGraphique': 'Intel HD Graphics'}\n",
            "{'url': 'https://www.tunisianet.com.tn/pc-portable-tunisie/52299-pc-portable-asus-vivobook-x509fa-i3-10e-gen-8-go-gris-antivirus-bitdefender.html', 'urlImage': 'https://www.tunisianet.com.tn/220846-home/pc-portable-asus-vivobook-x509fa-i3-10e-gen-8-go-gris-antivirus-bitdefender.jpg', 'designation': 'Pc portable Asus VivoBook X509FA / i3 10è Gén / 8 Go / Gris + Antivirus Bitdefender', 'prix': '1459', 'processeur': 'Intel Core i3', 'ram': '8 Go', 'disqueDur': '1 To', 'CarteGraphique': 'Intel HD Graphics'}\n",
            "{'url': 'https://www.tunisianet.com.tn/pc-portable-tunisie/52459-pc-portable-asus-vivobook-x509fa-i3-10e-gen-12-go-silver.html', 'urlImage': 'https://www.tunisianet.com.tn/221936-home/pc-portable-asus-vivobook-x509fa-i3-10e-gen-12-go-silver.jpg', 'designation': 'Pc portable Asus VivoBook X509FA / i3 10è Gén / 12 Go / Silver', 'prix': '1478', 'processeur': 'Intel Core i3', 'ram': '12 Go', 'disqueDur': '1 To', 'CarteGraphique': 'Intel HD Graphics'}\n",
            "{'url': 'https://www.tunisianet.com.tn/pc-portable-tunisie/52300-pc-portable-asus-vivobook-x509fa-i3-10e-gen-12-go-gris-antivirus-bitdefender.html', 'urlImage': 'https://www.tunisianet.com.tn/220851-home/pc-portable-asus-vivobook-x509fa-i3-10e-gen-12-go-gris-antivirus-bitdefender.jpg', 'designation': 'Pc portable Asus VivoBook X509FA / i3 10è Gén / 12 Go / Gris + Antivirus Bitdefender', 'prix': '1498', 'processeur': 'Intel Core i3', 'ram': '12 Go', 'disqueDur': '1 To', 'CarteGraphique': 'Intel HD Graphics'}\n",
            "{'url': 'https://www.tunisianet.com.tn/pc-portable-tunisie/52297-pc-portable-asus-vivobook-x509fa-i3-10e-gen-12-go-bleu-antivirus-bitdefender.html', 'urlImage': 'https://www.tunisianet.com.tn/220838-home/pc-portable-asus-vivobook-x509fa-i3-10e-gen-12-go-bleu-antivirus-bitdefender.jpg', 'designation': 'Pc portable Asus VivoBook X509FA / i3 10è Gén / 12 Go / Bleu + Antivirus Bitdefender', 'prix': '1498', 'processeur': 'Intel Core i3', 'ram': '12 Go', 'disqueDur': '1 To', 'CarteGraphique': 'Intel HD Graphics'}\n",
            "{'url': 'https://www.tunisianet.com.tn/pc-portable-tunisie/52720-pc-portable-lenovo-ideapad-3-15iml05-i3-10e-gen-12-go-win-10-gris.html', 'urlImage': 'https://www.tunisianet.com.tn/223581-home/pc-portable-lenovo-ideapad-3-15iml05-i3-10e-gen-12-go-win-10-gris.jpg', 'designation': 'PC portable Lenovo IdeaPad 3 15IML05 / i3 10é Gén / 12 Go / Win 10 / Gris', 'prix': '1498', 'processeur': 'Intel Core i3', 'ram': '12 Go', 'disqueDur': '1 To', 'CarteGraphique': 'Intel UHD Graphics'}\n",
            "{'url': 'https://www.tunisianet.com.tn/pc-portable-tunisie/49790-pc-portable-dell-vostro-3500-i3-11e-gen-8-go-noir.html', 'urlImage': 'https://www.tunisianet.com.tn/204320-home/pc-portable-dell-vostro-3500-i3-11e-gen-8-go-noir.jpg', 'designation': 'Pc Portable Dell Vostro 3500 / i3 11è Gén / 8 Go / Noir + Antivirus Bitdefender Internet Security Gratuit', 'prix': '1509', 'processeur': 'Intel Core i3', 'ram': '8 Go', 'disqueDur': '1 To', 'CarteGraphique': 'Intel HD Graphics'}\n",
            "{'url': 'https://www.tunisianet.com.tn/pc-portable-tunisie/50257-pc-portable-dell-vostro-3500-i3-11e-gen-8-go-1-to-noir.html', 'urlImage': 'https://www.tunisianet.com.tn/206981-home/pc-portable-dell-vostro-3500-i3-11e-gen-8-go-1-to-noir.jpg', 'designation': 'Pc Portable Dell Vostro 3500 / i3 11è Gén / 8 Go / 1 To / Noir + Antivirus Bitdefender Internet Security Gratuit', 'prix': '1509', 'processeur': 'Intel Core i3', 'ram': '8 Go', 'disqueDur': '1 To', 'CarteGraphique': 'Intel HD Graphics'}\n",
            "{'url': 'https://www.tunisianet.com.tn/pc-portable-tunisie/52821-pc-portable-lenovo-ideapad-3-15iil05-i3-10e-gen-20-go-noir.html', 'urlImage': 'https://www.tunisianet.com.tn/224265-home/pc-portable-lenovo-ideapad-3-15iil05-i3-10e-gen-20-go-noir.jpg', 'designation': 'Pc Portable Lenovo IdeaPad 3 15IIL05  / i3 10è Gén / 20 Go / Noir', 'prix': '1528', 'processeur': 'Intel Core i3', 'ram': '20 Go', 'disqueDur': '1 To', 'CarteGraphique': 'Intel UHD Graphics'}\n",
            "{'url': 'https://www.tunisianet.com.tn/pc-portable-tunisie/46644-pc-portable-hp-15-dw3018nk-i3-11e-gen-4-go-noir.html', 'urlImage': 'https://www.tunisianet.com.tn/187967-home/pc-portable-hp-15-dw3018nk-i3-11e-gen-4-go-noir.jpg', 'designation': 'Pc portable HP 15-dw3018nk / i3 11è Gén / 4 Go / Noir + Antivirus Bitdefender Internet Security Gratuit', 'prix': '1539', 'processeur': 'Intel Core i3', 'ram': '4 Go', 'disqueDur': '1 To', 'CarteGraphique': 'Intel UHD Graphics'}\n",
            "{'url': 'https://www.tunisianet.com.tn/pc-portable-tunisie/46643-pc-portable-hp-15-dw3017nk-i3-11e-gen-4-go-gris.html', 'urlImage': 'https://www.tunisianet.com.tn/187957-home/pc-portable-hp-15-dw3017nk-i3-11e-gen-4-go-gris.jpg', 'designation': 'Pc portable HP 15-dw3017nk / i3 11è Gén / 4 Go / Gris + Antivirus Bitdefender Internet Security Gratuit', 'prix': '1539', 'processeur': 'Intel Core i3', 'ram': '4 Go', 'disqueDur': '1 To', 'CarteGraphique': 'Intel UHD Graphics'}\n",
            "{'url': 'https://www.tunisianet.com.tn/pc-portable-tunisie/52526-pc-portable-acer-extensa-15-i3-11e-gen-4-go.html', 'urlImage': 'https://www.tunisianet.com.tn/222506-home/pc-portable-acer-extensa-15-i3-11e-gen-4-go.jpg', 'designation': 'Pc Portable Acer EXTENSA 15 / i3 11è Gén / 4 Go', 'prix': '1539', 'processeur': 'Intel Core i3', 'ram': '4 Go', 'disqueDur': '1 To', 'CarteGraphique': 'Nvidia Geforce MX350, 2 Go de Mémoire Dédiée'}\n",
            "{'url': 'https://www.tunisianet.com.tn/pc-portable-tunisie/52460-pc-portable-asus-vivobook-x509fa-i3-10e-gen-20-go-silver.html', 'urlImage': 'https://www.tunisianet.com.tn/221940-home/pc-portable-asus-vivobook-x509fa-i3-10e-gen-20-go-silver.jpg', 'designation': 'Pc portable Asus VivoBook X509FA / i3 10è Gén / 20 Go / Silver', 'prix': '1558', 'processeur': 'Intel Core i3', 'ram': '20 Go', 'disqueDur': '1 To', 'CarteGraphique': 'Intel HD Graphics'}\n",
            "{'url': 'https://www.tunisianet.com.tn/pc-portable-tunisie/48058-pc-portable-hp-15-dw300nk-i3-11e-gen-4-go-silver.html', 'urlImage': 'https://www.tunisianet.com.tn/194596-home/pc-portable-hp-15-dw300nk-i3-11e-gen-4-go-silver.jpg', 'designation': 'Pc portable HP 15-dw300nk / i3 11è Gén / 4 Go / Silver + Antivirus Bitdefender Internet Security Gratuit', 'prix': '1559', 'processeur': 'Intel Core i3', 'ram': '4 Go', 'disqueDur': '1 To', 'CarteGraphique': 'Intel UHD Graphics'}\n",
            "{'url': 'https://www.tunisianet.com.tn/pc-portable-tunisie/46645-pc-portable-hp-15-dw3019nk-i3-11e-gen-4-go-noir.html', 'urlImage': 'https://www.tunisianet.com.tn/187973-home/pc-portable-hp-15-dw3019nk-i3-11e-gen-4-go-noir.jpg', 'designation': 'Pc portable HP 15-dw3019nk / i3 11è Gén / 4 Go / Noir + Antivirus Bitdefender Internet Security Gratuit', 'prix': '1559', 'processeur': 'Intel Core i3', 'ram': '4 Go', 'disqueDur': '256 Go SSD', 'CarteGraphique': 'Intel UHD Graphics'}\n",
            "{'url': 'https://www.tunisianet.com.tn/pc-portable-tunisie/46704-pc-portable-hp-15-dw3001nk-i3-11e-gen-4-go-silver.html', 'urlImage': 'https://www.tunisianet.com.tn/188275-home/pc-portable-hp-15-dw3001nk-i3-11e-gen-4-go-silver.jpg', 'designation': 'Pc portable HP 15-dw3001nk / i3 11è Gén / 4 Go / Silver + Antivirus Bitdefender Internet Security Gratuit', 'prix': '1559', 'processeur': 'Intel Core i3', 'ram': '4 Go', 'disqueDur': '256 Go SSD', 'CarteGraphique': 'Intel UHD Graphics'}\n",
            "{'url': 'https://www.tunisianet.com.tn/pc-portable-tunisie/52721-pc-portable-lenovo-ideapad-3-15iml05-i3-10e-gen-20-go-win-10-gris.html', 'urlImage': 'https://www.tunisianet.com.tn/223586-home/pc-portable-lenovo-ideapad-3-15iml05-i3-10e-gen-20-go-win-10-gris.jpg', 'designation': 'PC portable Lenovo IdeaPad 3 15IML05 / i3 10é Gén / 20 Go / Win 10 / Gris', 'prix': '1578', 'processeur': 'Intel Core i3', 'ram': '20 Go', 'disqueDur': '1 To', 'CarteGraphique': 'Intel UHD Graphics'}\n",
            "{'url': 'https://www.tunisianet.com.tn/pc-portable-tunisie/52298-pc-portable-asus-vivobook-x509fa-i3-10e-gen-20-go-bleu-antivirus-bitdefender.html', 'urlImage': 'https://www.tunisianet.com.tn/220842-home/pc-portable-asus-vivobook-x509fa-i3-10e-gen-20-go-bleu-antivirus-bitdefender.jpg', 'designation': 'Pc portable Asus VivoBook X509FA / i3 10è Gén / 20 Go / Bleu + Antivirus Bitdefender', 'prix': '1578', 'processeur': 'Intel Core i3', 'ram': '20 Go', 'disqueDur': '1 To', 'CarteGraphique': 'Intel HD Graphics'}\n",
            "{'url': 'https://www.tunisianet.com.tn/pc-portable-tunisie/52301-pc-portable-asus-vivobook-x509fa-i3-10e-gen-20-go-gris-antivirus-bitdefender.html', 'urlImage': 'https://www.tunisianet.com.tn/220856-home/pc-portable-asus-vivobook-x509fa-i3-10e-gen-20-go-gris-antivirus-bitdefender.jpg', 'designation': 'Pc portable Asus VivoBook X509FA / i3 10è Gén / 20 Go / Gris + Antivirus Bitdefender', 'prix': '1578', 'processeur': 'Intel Core i3', 'ram': '20 Go', 'disqueDur': '1 To', 'CarteGraphique': 'Intel HD Graphics'}\n",
            "{'url': 'https://www.tunisianet.com.tn/pc-portable-tunisie/50481-pc-portable-lenovo-ideapad-l3-i5-10e-gen-8-go-silver.html', 'urlImage': 'https://www.tunisianet.com.tn/208858-home/pc-portable-lenovo-ideapad-l3-i5-10e-gen-8-go-silver.jpg', 'designation': 'Pc portable Lenovo Ideapad L3 / i5 10é Gén / 8 Go / Silver', 'prix': '1589', 'processeur': 'Intel Core i5', 'ram': '8 Go', 'disqueDur': '1 To', 'CarteGraphique': 'Intel UHD Graphics'}\n",
            "{'url': 'https://www.tunisianet.com.tn/pc-portable-tunisie/49791-pc-portable-dell-vostro-3500-i3-11e-gen-16-go-noir.html', 'urlImage': 'https://www.tunisianet.com.tn/204326-home/pc-portable-dell-vostro-3500-i3-11e-gen-16-go-noir.jpg', 'designation': 'Pc Portable Dell Vostro 3500 / i3 11è Gén / 16 Go / Noir + Antivirus Bitdefender Internet Security Gratuit', 'prix': '1593', 'processeur': 'Intel Core i3', 'ram': '16 Go', 'disqueDur': '1 To', 'CarteGraphique': 'Intel HD Graphics'}\n",
            "{'url': 'https://www.tunisianet.com.tn/pc-portable-tunisie/50258-pc-portable-dell-vostro-3500-i3-11e-gen-16-go-1-to-noir.html', 'urlImage': 'https://www.tunisianet.com.tn/206987-home/pc-portable-dell-vostro-3500-i3-11e-gen-16-go-1-to-noir.jpg', 'designation': 'Pc Portable Dell Vostro 3500 / i3 11è Gén / 16 Go / 1 To / Noir + Antivirus Bitdefender Internet Security Gratuit', 'prix': '1593', 'processeur': 'Intel Core i3', 'ram': '16 Go', 'disqueDur': '1 To', 'CarteGraphique': 'Intel HD Graphics'}\n",
            "{'url': 'https://www.tunisianet.com.tn/pc-portable-tunisie/52556-pc-portable-acer-extensa-15-i3-11e-gen-8-go.html', 'urlImage': 'https://www.tunisianet.com.tn/222678-home/pc-portable-acer-extensa-15-i3-11e-gen-8-go.jpg', 'designation': 'Pc Portable Acer EXTENSA 15 / i3 11è Gén / 8 Go', 'prix': '1599', 'processeur': 'Intel Core i3', 'ram': '8 Go', 'disqueDur': '1 To', 'CarteGraphique': 'Nvidia Geforce MX350, 2 Go de Mémoire Dédiée'}\n",
            "{'url': 'https://www.tunisianet.com.tn/pc-portable-tunisie/46860-pc-portable-hp-15-dw3017nk-i3-11e-gen-8-go-gris.html', 'urlImage': 'https://www.tunisianet.com.tn/188926-home/pc-portable-hp-15-dw3017nk-i3-11e-gen-8-go-gris.jpg', 'designation': 'Pc portable HP 15-dw3017nk / i3 11è Gén / 8 Go / Gris + Antivirus Bitdefender Internet Security Gratuit', 'prix': '1599', 'processeur': 'Intel Core i3', 'ram': '8 Go', 'disqueDur': '1 To', 'CarteGraphique': 'Intel UHD Graphics'}\n",
            "{'url': 'https://www.tunisianet.com.tn/pc-portable-tunisie/46656-pc-portable-hp-15-dw3018nk-i3-11e-gen-8-go-noir.html', 'urlImage': 'https://www.tunisianet.com.tn/188043-home/pc-portable-hp-15-dw3018nk-i3-11e-gen-8-go-noir.jpg', 'designation': 'Pc portable HP 15-dw3018nk / i3 11è Gén / 8 Go / Noir + Antivirus Bitdefender Internet Security Gratuit', 'prix': '1599', 'processeur': 'Intel Core i3', 'ram': '8 Go', 'disqueDur': '1 To', 'CarteGraphique': 'Intel UHD Graphics'}\n",
            "{'url': 'https://www.tunisianet.com.tn/pc-portable-tunisie/46705-pc-portable-hp-15-dw3001nk-i3-11e-gen-8-go-silver.html', 'urlImage': 'https://www.tunisianet.com.tn/188278-home/pc-portable-hp-15-dw3001nk-i3-11e-gen-8-go-silver.jpg', 'designation': 'Pc portable HP 15-dw3001nk / i3 11è Gén / 8 Go / Silver + Antivirus Bitdefender Internet Security Gratuit', 'prix': '1619', 'processeur': 'Intel Core i3', 'ram': '8 Go', 'disqueDur': '256 Go SSD', 'CarteGraphique': 'Intel UHD Graphics'}\n",
            "{'url': 'https://www.tunisianet.com.tn/pc-portable-tunisie/46653-pc-portable-hp-15-dw3019nk-i3-11e-gen-8-go-noir.html', 'urlImage': 'https://www.tunisianet.com.tn/188025-home/pc-portable-hp-15-dw3019nk-i3-11e-gen-8-go-noir.jpg', 'designation': 'Pc portable HP 15-dw3019nk / i3 11è Gén / 8 Go / Noir + Antivirus Bitdefender Internet Security Gratuit', 'prix': '1619', 'processeur': 'Intel Core i3', 'ram': '8 Go', 'disqueDur': '256 Go SSD', 'CarteGraphique': 'Intel UHD Graphics'}\n",
            "{'url': 'https://www.tunisianet.com.tn/pc-portable-tunisie/48061-pc-portable-hp-15-dw300nk-i3-11e-gen-8-go-silver.html', 'urlImage': 'https://www.tunisianet.com.tn/194605-home/pc-portable-hp-15-dw300nk-i3-11e-gen-8-go-silver.jpg', 'designation': 'Pc portable HP 15-dw300nk / i3 11è Gén / 8 Go / Silver + Antivirus Bitdefender Internet Security Gratuit', 'prix': '1619', 'processeur': 'Intel Core i3', 'ram': '8 Go', 'disqueDur': '1 To', 'CarteGraphique': 'Intel UHD Graphics'}\n",
            "{'url': 'https://www.tunisianet.com.tn/pc-portable-tunisie/52675-pc-portable-hp-15s-fq2002nk-i3-11e-gen-4-go-silver.html', 'urlImage': 'https://www.tunisianet.com.tn/223298-home/pc-portable-hp-15s-fq2002nk-i3-11e-gen-4-go-silver.jpg', 'designation': 'Pc Portable HP 15s-fq2002nk / i3 11è Gén / 4 Go / Silver + Antivirus Bitdefender Internet Security Gratuit', 'prix': '1629', 'processeur': 'Intel Core i3', 'ram': '4 Go', 'disqueDur': '256 Go SSD', 'CarteGraphique': 'Intel UHD Graphics'}\n",
            "{'url': 'https://www.tunisianet.com.tn/pc-portable-tunisie/52557-pc-portable-acer-extensa-15-i3-11e-gen-12-go.html', 'urlImage': 'https://www.tunisianet.com.tn/222682-home/pc-portable-acer-extensa-15-i3-11e-gen-12-go.jpg', 'designation': 'Pc Portable Acer EXTENSA 15 / i3 11è Gén / 12 Go', 'prix': '1638', 'processeur': 'Intel Core i3', 'ram': '12 Go', 'disqueDur': '1 To', 'CarteGraphique': 'Nvidia Geforce MX350, 2 Go de Mémoire Dédiée'}\n",
            "{'url': 'https://www.tunisianet.com.tn/pc-portable-tunisie/46900-pc-portable-hp-15-dw3017nk-i3-11e-gen-12-go-gris.html', 'urlImage': 'https://www.tunisianet.com.tn/189124-home/pc-portable-hp-15-dw3017nk-i3-11e-gen-12-go-gris.jpg', 'designation': 'Pc portable HP 15-dw3017nk / i3 11è Gén / 12 Go / Gris + Antivirus Bitdefender Internet Security Gratuit', 'prix': '1638', 'processeur': 'Intel Core i3', 'ram': '12 Go', 'disqueDur': '1 To', 'CarteGraphique': 'Intel UHD Graphics'}\n",
            "{'url': 'https://www.tunisianet.com.tn/pc-portable-tunisie/48972-pc-portable-hp-15-dw3018nk-i3-11e-gen-12-go-noir.html', 'urlImage': 'https://www.tunisianet.com.tn/199526-home/pc-portable-hp-15-dw3018nk-i3-11e-gen-12-go-noir.jpg', 'designation': 'Pc portable HP 15-dw3018nk / i3 11è Gén / 12 Go / Noir + Antivirus Bitdefender Internet Security Gratuit', 'prix': '1638', 'processeur': 'Intel Core i3', 'ram': '12 Go', 'disqueDur': '1 To', 'CarteGraphique': 'Intel UHD Graphics'}\n",
            "{'url': 'https://www.tunisianet.com.tn/pc-portable-tunisie/48062-pc-portable-hp-15-dw300nk-i3-11e-gen-12-go-silver.html', 'urlImage': 'https://www.tunisianet.com.tn/194607-home/pc-portable-hp-15-dw300nk-i3-11e-gen-12-go-silver.jpg', 'designation': 'Pc portable HP 15-dw300nk / i3 11è Gén / 12 Go / Silver + Antivirus Bitdefender Internet Security Gratuit', 'prix': '1658', 'processeur': 'Intel Core i3', 'ram': '12 Go', 'disqueDur': '1 To', 'CarteGraphique': 'Intel UHD Graphics'}\n",
            "{'url': 'https://www.tunisianet.com.tn/pc-portable-tunisie/46706-pc-portable-hp-15-dw3001nk-i3-11e-gen-12-go-silver.html', 'urlImage': 'https://www.tunisianet.com.tn/188280-home/pc-portable-hp-15-dw3001nk-i3-11e-gen-12-go-silver.jpg', 'designation': 'Pc portable HP 15-dw3001nk / i3 11è Gén / 12 Go / Silver + Antivirus Bitdefender Internet Security Gratuit', 'prix': '1658', 'processeur': 'Intel Core i3', 'ram': '12 Go', 'disqueDur': '256 Go SSD', 'CarteGraphique': 'Intel UHD Graphics'}\n",
            "{'url': 'https://www.tunisianet.com.tn/pc-portable-tunisie/46654-pc-portable-hp-15-dw3019nk-i3-11e-gen-12-go-noir.html', 'urlImage': 'https://www.tunisianet.com.tn/188031-home/pc-portable-hp-15-dw3019nk-i3-11e-gen-12-go-noir.jpg', 'designation': 'Pc portable HP 15-dw3019nk / i3 11è Gén / 12 Go / Noir + Antivirus Bitdefender Internet Security Gratuit', 'prix': '1658', 'processeur': 'Intel Core i3', 'ram': '12 Go', 'disqueDur': '256 Go SSD', 'CarteGraphique': 'Intel UHD Graphics'}\n",
            "{'url': 'https://www.tunisianet.com.tn/pc-portable-tunisie/48973-pc-portable-hp-15-dw3018nk-i3-11e-gen-16-go-noir.html', 'urlImage': 'https://www.tunisianet.com.tn/199532-home/pc-portable-hp-15-dw3018nk-i3-11e-gen-16-go-noir.jpg', 'designation': 'Pc portable HP 15-dw3018nk / i3 11è Gén / 16 Go / Noir + Antivirus Bitdefender Internet Security Gratuit', 'prix': '1673', 'processeur': 'Intel Core i3', 'ram': '16 Go', 'disqueDur': '1 To', 'CarteGraphique': 'Intel UHD Graphics'}\n",
            "{'url': 'https://www.tunisianet.com.tn/pc-portable-tunisie/46901-pc-portable-hp-15-dw3017nk-i3-11e-gen-16-go-gris.html', 'urlImage': 'https://www.tunisianet.com.tn/189130-home/pc-portable-hp-15-dw3017nk-i3-11e-gen-16-go-gris.jpg', 'designation': 'Pc portable HP 15-dw3017nk / i3 11è Gén / 16 Go / Gris + Antivirus Bitdefender Internet Security Gratuit', 'prix': '1673', 'processeur': 'Intel Core i3', 'ram': '16 Go', 'disqueDur': '1 To', 'CarteGraphique': 'Intel UHD Graphics'}\n",
            "{'url': 'https://www.tunisianet.com.tn/pc-portable-tunisie/52683-pc-portable-hp-15s-fq2002nk-i3-11e-gen-8-go-silver.html', 'urlImage': 'https://www.tunisianet.com.tn/223346-home/pc-portable-hp-15s-fq2002nk-i3-11e-gen-8-go-silver.jpg', 'designation': 'Pc Portable HP 15s-fq2002nk / i3 11è Gén / 8 Go / Silver + Antivirus Bitdefender Internet Security Gratuit', 'prix': '1689', 'processeur': 'Intel Core i3', 'ram': '8 Go', 'disqueDur': '256 Go SSD', 'CarteGraphique': 'Intel UHD Graphics'}\n",
            "{'url': 'https://www.tunisianet.com.tn/pc-portable-tunisie/49792-pc-portable-dell-vostro-3500-i3-11e-gen-24-go-noir.html', 'urlImage': 'https://www.tunisianet.com.tn/204332-home/pc-portable-dell-vostro-3500-i3-11e-gen-24-go-noir.jpg', 'designation': 'Pc Portable Dell Vostro 3500 / i3 11è Gén / 24 Go / Noir + Antivirus Bitdefender Internet Security Gratuit', 'prix': '1692', 'processeur': 'Intel Core i3', 'ram': '24 Go', 'disqueDur': '1 To', 'CarteGraphique': 'Intel HD Graphics'}\n",
            "{'url': 'https://www.tunisianet.com.tn/pc-portable-tunisie/50259-pc-portable-dell-vostro-3500-i3-11e-gen-24-go-1-to-noir.html', 'urlImage': 'https://www.tunisianet.com.tn/206993-home/pc-portable-dell-vostro-3500-i3-11e-gen-24-go-1-to-noir.jpg', 'designation': 'Pc Portable Dell Vostro 3500 / i3 11è Gén / 24 Go / 1 To / Noir + Antivirus Bitdefender Internet Security Gratuit', 'prix': '1692', 'processeur': 'Intel Core i3', 'ram': '24 Go', 'disqueDur': '1 To', 'CarteGraphique': 'Intel HD Graphics'}\n",
            "{'url': 'https://www.tunisianet.com.tn/pc-portable-tunisie/48063-pc-portable-hp-15-dw300nk-i3-11e-gen-16-go-silver.html', 'urlImage': 'https://www.tunisianet.com.tn/194609-home/pc-portable-hp-15-dw300nk-i3-11e-gen-16-go-silver.jpg', 'designation': 'Pc portable HP 15-dw300nk / i3 11è Gén / 16 Go / Silver + Antivirus Bitdefender Internet Security Gratuit', 'prix': '1693', 'processeur': 'Intel Core i3', 'ram': '16 Go', 'disqueDur': '1 To', 'CarteGraphique': 'Intel UHD Graphics'}\n",
            "{'url': 'https://www.tunisianet.com.tn/pc-portable-tunisie/46707-pc-portable-hp-15-dw3001nk-i3-11e-gen-16-go-silver.html', 'urlImage': 'https://www.tunisianet.com.tn/188282-home/pc-portable-hp-15-dw3001nk-i3-11e-gen-16-go-silver.jpg', 'designation': 'Pc portable HP 15-dw3001nk / i3 11è Gén / 16 Go / Silver + Antivirus Bitdefender Internet Security Gratuit', 'prix': '1693', 'processeur': 'Intel Core i3', 'ram': '16 Go', 'disqueDur': '256 Go SSD', 'CarteGraphique': 'Intel UHD Graphics'}\n",
            "{'url': 'https://www.tunisianet.com.tn/pc-portable-tunisie/46655-pc-portable-hp-15-dw3019nk-i3-11e-gen-16-go-noir.html', 'urlImage': 'https://www.tunisianet.com.tn/188037-home/pc-portable-hp-15-dw3019nk-i3-11e-gen-16-go-noir.jpg', 'designation': 'Pc portable HP 15-dw3019nk / i3 11è Gén / 16 Go / Noir + Antivirus Bitdefender Internet Security Gratuit', 'prix': '1693', 'processeur': 'Intel Core i3', 'ram': '16 Go', 'disqueDur': '256 Go SSD', 'CarteGraphique': 'Intel UHD Graphics'}\n",
            "{'url': 'https://www.tunisianet.com.tn/pc-portable-tunisie/51109-pc-portable-dynabook-satellite-pro-c40-g-11e-i3-10e-gen-8-go-bleu.html', 'urlImage': 'https://www.tunisianet.com.tn/213210-home/pc-portable-dynabook-satellite-pro-c40-g-11e-i3-10e-gen-8-go-bleu.jpg', 'designation': 'Pc Portable dynabook Satellite Pro C40-G-11E / i3 10é Gén / 8 Go / Bleu', 'prix': '1699', 'processeur': 'Intel Core i3', 'ram': '8 Go', 'disqueDur': '256 Go SSD', 'CarteGraphique': 'Intel UHD Graphics'}\n",
            "{'url': 'https://www.tunisianet.com.tn/pc-portable-tunisie/48974-pc-portable-hp-15-dw3018nk-i3-11e-gen-20-go-noir.html', 'urlImage': 'https://www.tunisianet.com.tn/199538-home/pc-portable-hp-15-dw3018nk-i3-11e-gen-20-go-noir.jpg', 'designation': 'Pc portable HP 15-dw3018nk / i3 11è Gén / 20 Go / Noir', 'prix': '1718', 'processeur': 'Intel Core i3', 'ram': '20 Go', 'disqueDur': '1 To', 'CarteGraphique': 'Intel UHD Graphics'}\n",
            "{'url': 'https://www.tunisianet.com.tn/pc-portable-tunisie/53122-pc-portable-msi-modern-b10mw-634x-i3-10e-gen-8-go-256-go-ssd-noir.html', 'urlImage': 'https://www.tunisianet.com.tn/226485-home/pc-portable-msi-modern-b10mw-634x-i3-10e-gen-8-go-256-go-ssd-noir.jpg', 'designation': 'Pc portable MSI Modern B10MW-634X / i3 10é Gen / 8 Go / 256 Go SSD / Noir', 'prix': '1719', 'processeur': 'Intel Core i3', 'ram': '8 Go', 'disqueDur': '256 Go SSD', 'CarteGraphique': 'Intel HD Graphics'}\n",
            "{'url': 'https://www.tunisianet.com.tn/pc-portable-tunisie/52684-pc-portable-hp-15s-fq2002nk-i3-11e-gen-12-go-silver.html', 'urlImage': 'https://www.tunisianet.com.tn/223350-home/pc-portable-hp-15s-fq2002nk-i3-11e-gen-12-go-silver.jpg', 'designation': 'Pc Portable HP 15s-fq2002nk / i3 11è Gén / 12 Go / Silver + Antivirus Bitdefender Internet Security Gratuit', 'prix': '1728', 'processeur': 'Intel Core i3', 'ram': '12 Go', 'disqueDur': '256 Go SSD', 'CarteGraphique': 'Intel UHD Graphics'}\n",
            "{'url': 'https://www.tunisianet.com.tn/pc-portable-tunisie/52240-pc-portable-lenovo-ideapad-l3-15iml05-i3-10e-gen-20-go-mx130-2g-bleu.html', 'urlImage': 'https://www.tunisianet.com.tn/220433-home/pc-portable-lenovo-ideapad-l3-15iml05-i3-10e-gen-20-go-mx130-2g-bleu.jpg', 'designation': 'Pc portable Lenovo Ideapad L3 15IML05 / i3 10é Gén / 20 Go / MX130 2G / Bleu', 'prix': '1728', 'processeur': 'Intel Core i3', 'ram': '20 Go', 'disqueDur': '1 To', 'CarteGraphique': 'NVIDIA GeForce MX130, 2 Go de mémoire GDDR5 dédiée'}\n",
            "{'url': 'https://www.tunisianet.com.tn/pc-portable-tunisie/52558-pc-portable-acer-extensa-15-i3-11e-gen-20-go.html', 'urlImage': 'https://www.tunisianet.com.tn/222686-home/pc-portable-acer-extensa-15-i3-11e-gen-20-go.jpg', 'designation': 'Pc Portable Acer EXTENSA 15 / i3 11è Gén / 20 Go', 'prix': '1728', 'processeur': 'Intel Core i3', 'ram': '20 Go', 'disqueDur': '1 To', 'CarteGraphique': 'Nvidia Geforce MX350, 2 Go de Mémoire Dédiée'}\n"
          ]
        },
        {
          "output_type": "stream",
          "name": "stderr",
          "text": [
            "ERROR:root:Internal Python error in the inspect module.\n",
            "Below is the traceback from this internal error.\n",
            "\n"
          ]
        },
        {
          "output_type": "stream",
          "name": "stdout",
          "text": [
            "Traceback (most recent call last):\n",
            "  File \"/usr/local/lib/python3.7/dist-packages/IPython/core/interactiveshell.py\", line 2882, in run_code\n",
            "    exec(code_obj, self.user_global_ns, self.user_ns)\n",
            "  File \"<ipython-input-9-7f512ebf811c>\", line 13, in <module>\n",
            "    element = getcharacteristics(element)\n",
            "  File \"<ipython-input-7-83554d70ce9a>\", line 3, in getcharacteristics\n",
            "    soup = BeautifulSoup(page.text,'html.parser')\n",
            "  File \"/usr/local/lib/python3.7/dist-packages/bs4/__init__.py\", line 282, in __init__\n",
            "    self._feed()\n",
            "  File \"/usr/local/lib/python3.7/dist-packages/bs4/__init__.py\", line 343, in _feed\n",
            "    self.builder.feed(self.markup)\n",
            "  File \"/usr/local/lib/python3.7/dist-packages/bs4/builder/_htmlparser.py\", line 247, in feed\n",
            "    parser.feed(markup)\n",
            "  File \"/usr/lib/python3.7/html/parser.py\", line 111, in feed\n",
            "    self.goahead(0)\n",
            "  File \"/usr/lib/python3.7/html/parser.py\", line 171, in goahead\n",
            "    k = self.parse_starttag(i)\n",
            "  File \"/usr/lib/python3.7/html/parser.py\", line 345, in parse_starttag\n",
            "    self.handle_starttag(tag, attrs)\n",
            "  File \"/usr/local/lib/python3.7/dist-packages/bs4/builder/_htmlparser.py\", line 102, in handle_starttag\n",
            "    tag = self.soup.handle_starttag(name, None, None, attr_dict)\n",
            "  File \"/usr/local/lib/python3.7/dist-packages/bs4/__init__.py\", line 520, in handle_starttag\n",
            "    self.currentTag, self._most_recent_element)\n",
            "  File \"/usr/local/lib/python3.7/dist-packages/bs4/element.py\", line 883, in __init__\n",
            "    self.parser_class = parser.__class__\n",
            "KeyboardInterrupt\n",
            "\n",
            "During handling of the above exception, another exception occurred:\n",
            "\n",
            "Traceback (most recent call last):\n",
            "  File \"/usr/local/lib/python3.7/dist-packages/IPython/core/interactiveshell.py\", line 1823, in showtraceback\n",
            "    stb = value._render_traceback_()\n",
            "AttributeError: 'KeyboardInterrupt' object has no attribute '_render_traceback_'\n",
            "\n",
            "During handling of the above exception, another exception occurred:\n",
            "\n",
            "Traceback (most recent call last):\n",
            "  File \"/usr/local/lib/python3.7/dist-packages/IPython/core/ultratb.py\", line 1132, in get_records\n",
            "    return _fixed_getinnerframes(etb, number_of_lines_of_context, tb_offset)\n",
            "  File \"/usr/local/lib/python3.7/dist-packages/IPython/core/ultratb.py\", line 313, in wrapped\n",
            "    return f(*args, **kwargs)\n",
            "  File \"/usr/local/lib/python3.7/dist-packages/IPython/core/ultratb.py\", line 358, in _fixed_getinnerframes\n",
            "    records = fix_frame_records_filenames(inspect.getinnerframes(etb, context))\n",
            "  File \"/usr/lib/python3.7/inspect.py\", line 1502, in getinnerframes\n",
            "    frameinfo = (tb.tb_frame,) + getframeinfo(tb, context)\n",
            "  File \"/usr/lib/python3.7/inspect.py\", line 1464, in getframeinfo\n",
            "    lines, lnum = findsource(frame)\n",
            "  File \"/usr/local/lib/python3.7/dist-packages/IPython/core/ultratb.py\", line 170, in findsource\n",
            "    file = getsourcefile(object) or getfile(object)\n",
            "  File \"/usr/lib/python3.7/inspect.py\", line 696, in getsourcefile\n",
            "    if getattr(getmodule(object, filename), '__loader__', None) is not None:\n",
            "  File \"/usr/lib/python3.7/inspect.py\", line 735, in getmodule\n",
            "    if f == _filesbymodname.get(modname, None):\n",
            "KeyboardInterrupt\n"
          ]
        },
        {
          "output_type": "error",
          "ename": "KeyboardInterrupt",
          "evalue": "ignored",
          "traceback": [
            "\u001b[0;31m---------------------------------------------------------------------------\u001b[0m"
          ]
        }
      ]
    },
    {
      "cell_type": "code",
      "metadata": {
        "id": "FtlYOsY5LZEG"
      },
      "source": [
        ""
      ],
      "execution_count": null,
      "outputs": []
    }
  ]
}