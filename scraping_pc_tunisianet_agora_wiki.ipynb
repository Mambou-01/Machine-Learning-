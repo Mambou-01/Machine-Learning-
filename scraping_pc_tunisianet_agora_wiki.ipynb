{
  "nbformat": 4,
  "nbformat_minor": 0,
  "metadata": {
    "accelerator": "GPU",
    "colab": {
      "name": "scraping_pc_tunisianet_agora_wiki.ipynb",
      "provenance": [],
      "authorship_tag": "ABX9TyOAbO9Ch5oSZa9z2+l8Lpou",
      "include_colab_link": true
    },
    "kernelspec": {
      "display_name": "Python 3",
      "name": "python3"
    },
    "language_info": {
      "name": "python"
    }
  },
  "cells": [
    {
      "cell_type": "markdown",
      "metadata": {
        "id": "view-in-github",
        "colab_type": "text"
      },
      "source": [
        "<a href=\"https://colab.research.google.com/github/Mambou-01/Machine-Learning-/blob/main/scraping_pc_tunisianet_agora_wiki.ipynb\" target=\"_parent\"><img src=\"https://colab.research.google.com/assets/colab-badge.svg\" alt=\"Open In Colab\"/></a>"
      ]
    },
    {
      "cell_type": "code",
      "metadata": {
        "id": "_dNTpM2dJ6qr"
      },
      "source": [
        "from bs4 import BeautifulSoup\n",
        "import requests\n",
        "import pandas as pd"
      ],
      "execution_count": 1,
      "outputs": []
    },
    {
      "cell_type": "code",
      "metadata": {
        "id": "KA9uSHCBLe9t"
      },
      "source": [
        "global articles \n",
        "articles = []"
      ],
      "execution_count": 2,
      "outputs": []
    },
    {
      "cell_type": "markdown",
      "metadata": {
        "id": "UFOs2duNE_L_"
      },
      "source": [
        "#wiki"
      ]
    },
    {
      "cell_type": "code",
      "metadata": {
        "id": "6eA_c51KKozF"
      },
      "source": [
        "def getDetails(element):\n",
        "    page = requests.get(element['url'])\n",
        "    soup = BeautifulSoup(page.text,'html.parser')\n",
        "    element['designation'] = soup.find(\"h1\",{\"class\" : \"h1\"}).text\n",
        "    element['prix'] = soup.find(\"div\",{\"class\" : \"current-price\"}).find(\"span\").attrs['content']\n",
        "    for t,d in zip(soup.find(\"dl\",{\"class\" : \"data-sheet\"}).find_all(\"dt\"),soup.find(\"dl\",{\"class\" : \"data-sheet\"}).find_all(\"dd\")):\n",
        "        if \"Système\" in  t.text.split():\n",
        "          element[\"systeme\"] = d.text\n",
        "        elif \"Processeur\" in  t.text.split():\n",
        "          element[\"processeur\"] = d.text\n",
        "        elif \"Mémoire\" in t.text.split():\n",
        "          element[\"ram\"] = d.text\n",
        "        elif \"Disque\" in t.text.split() :\n",
        "          element[\"disqueDur\"] = d.text\n",
        "        elif \"Graphique\" in t.text.split()  or \"Graphiques\" in t.text.split() :\n",
        "          element[\"CarteGraphique\"] = d.text\n",
        "    return element\n",
        "    \n",
        "    "
      ],
      "execution_count": 61,
      "outputs": []
    },
    {
      "cell_type": "code",
      "metadata": {
        "colab": {
          "base_uri": "https://localhost:8080/"
        },
        "id": "n547FT3_FCeO",
        "outputId": "4a685968-8c26-445e-e663-e4316c42c52c"
      },
      "source": [
        "url = 'https://spacenet.tn/categorie/74-pc-portable'\n",
        "page = requests.get(url)\n",
        "soup = BeautifulSoup(page.text,'html.parser')\n",
        "for article in soup.find_all(\"div\",{\"class\" : \"item col-xs-12 col-sm-6 col-md-6 col-lg-3\"}):\n",
        "  element = {}\n",
        "  element['url'] = article.find(\"a\",{\"class\" : \"thumbnail product-thumbnail\"}).attrs['href']\n",
        "  element['urlImage'] = article.find(\"img\",{\"class\" : \"img-responsive\"}).attrs['src']\n",
        "  print(getDetails(element))\n",
        "\n",
        "\n",
        " "
      ],
      "execution_count": 62,
      "outputs": [
        {
          "output_type": "stream",
          "name": "stdout",
          "text": [
            "{'url': 'https://spacenet.tn/pc-portable/44089-pc-portable-lenovo-ideapad-3-intel-celeron-4go-1to-gris-81wq004cfe.html', 'urlImage': 'https://spacenet.tn/73180-home_default/pc-portable-lenovo-ideapad-3-intel-celeron-4go-1to-gris-81wq004cfe.jpg', 'designation': 'Pc Portable Lenovo Ideapad 3 Intel Celeron 4Go 1To Gris (81WQ004CFE)', 'prix': '929', 'systeme': 'Free Dos', 'ram': ' 4 Go', 'CarteGraphique': 'Graphique Intégrée', 'processeur': 'Intel Celeron', 'disqueDur': '1 To'}\n",
            "{'url': 'https://spacenet.tn/pc-portable/44515-pc-portable-asus-vivobook-r12-intel-celeron-n3350-4go-64go-bleu-w202na-gj0094r.html', 'urlImage': 'https://spacenet.tn/75905-home_default/pc-portable-asus-vivobook-r12-intel-celeron-n3350-4go-64go-bleu-w202na-gj0094r.jpg', 'designation': 'Pc Portable Asus Vivobook R12 Intel Celeron N3350  4Go 64Go Bleu (W202NA-GJ0094R)', 'prix': '939', 'disqueDur': '64 Go eMMC', 'systeme': ' Windows 10 Pro', 'ram': ' 4 Go', 'CarteGraphique': 'Graphique Intégrée', 'processeur': 'Intel Celeron'}\n",
            "{'url': 'https://spacenet.tn/pc-portable/42353-pc-portable-asus-x543ma-dual-core-4go-500go-noir-x543ma-gqar21t.html', 'urlImage': 'https://spacenet.tn/64805-home_default/pc-portable-asus-x543ma-dual-core-4go-500go-noir-x543ma-gqar21t.jpg', 'designation': 'Pc Portable ASUS X543MA Dual Core 4Go 1To Noir (X543MA-GQAR21T)', 'prix': '969', 'disqueDur': '1 To', 'systeme': 'Windows 10 Home', 'ram': ' 4 Go', 'processeur': 'Intel Celeron'}\n",
            "{'url': 'https://spacenet.tn/pc-portable/42364-pc-portable-asus-x543ma-dual-core-4go-1to-gris-x543ma-gq1012t.html', 'urlImage': 'https://spacenet.tn/71350-home_default/pc-portable-asus-x543ma-dual-core-4go-1to-gris-x543ma-gq1012t.jpg', 'designation': 'Pc Portable ASUS X543MA Dual Core 4Go 1To Gris (X543MA-GQ1012T)', 'prix': '969', 'systeme': 'Windows 10 Home', 'ram': ' 4 Go', 'CarteGraphique': 'Graphique Intégrée', 'processeur': 'Intel Celeron', 'disqueDur': '1 To'}\n",
            "{'url': 'https://spacenet.tn/pc-portable/44102-pc-portable-hp-15-dw1001nk-dual-core-4-go-1-to-noir-280s8ea.html', 'urlImage': 'https://spacenet.tn/73275-home_default/pc-portable-hp-15-dw1001nk-dual-core-4-go-1-to-noir-280s8ea.jpg', 'designation': 'Pc Portable HP 15-DW1001NK Dual Core 4 Go 1 To Noir (280S8EA)', 'prix': '999', 'disqueDur': '1 To', 'systeme': 'Windows 10 Home', 'ram': ' 4 Go', 'CarteGraphique': 'Graphique Intégrée', 'processeur': 'Intel Celeron'}\n",
            "{'url': 'https://spacenet.tn/pc-portable/39132-pc-portable-hp15-dw1001nkintel-core-celeron-n40204-go1togris27z73ea.html', 'urlImage': 'https://spacenet.tn/50010-home_default/pc-portable-hp15-dw1001nkintel-core-celeron-n40204-go1togris27z73ea.jpg', 'designation': 'Pc Portable HP15-DW1001NK|Intel Core Celeron N4020|4 Go|1To|Gris(27Z73EA)', 'prix': '999', 'disqueDur': '1 To', 'systeme': 'Windows 10 Home', 'ram': ' 4 Go', 'CarteGraphique': 'Graphique Intégrée', 'processeur': 'Intel Celeron'}\n",
            "{'url': 'https://spacenet.tn/pc-portable/44513-pc-portable-asus-e410ma-intel-celeron-4go-128go-bleu-e410ma-bv1182t.html', 'urlImage': 'https://spacenet.tn/75891-home_default/pc-portable-asus-e410ma-intel-celeron-4go-128go-bleu-e410ma-bv1182t.jpg', 'designation': 'Pc Portable Asus E410MA Intel Celeron 4Go 128Go Bleu (E410MA-BV1182T)', 'prix': '1029', 'disqueDur': '128 Go eMMC ', 'systeme': 'Windows 10 Home', 'ram': ' 4 Go', 'CarteGraphique': 'Graphique Intégrée', 'processeur': 'Intel Celeron'}\n",
            "{'url': 'https://spacenet.tn/pc-portable/44214-pc-portable-asus-x543ua-i3-7gen-4go-1to-gris-x543ua-gq3392t.html', 'urlImage': 'https://spacenet.tn/74108-home_default/pc-portable-asus-x543ua-i3-7gen-4go-1to-gris-x543ua-gq3392t.jpg', 'designation': 'Pc Portable Asus X543UA i3 7Gén 4Go 1To Gris (X543UA-GQ3392T)', 'prix': '1239', 'disqueDur': '1 To', 'systeme': 'Windows 10 Home', 'ram': ' 4 Go', 'processeur': 'Intel Core i3'}\n",
            "{'url': 'https://spacenet.tn/pc-portable/44146-pc-portable-asus-vivobook-amd-ryzen-4go-1to-gris-d415da-bv873t.html', 'urlImage': 'https://spacenet.tn/73726-home_default/pc-portable-asus-vivobook-amd-ryzen-4go-1to-gris-d415da-bv873t.jpg', 'designation': 'Pc Portable Asus Vivobook AMD Ryzen 4Go 1To - Gris (D415DA-BV873T)', 'prix': '1259', 'disqueDur': '1 To', 'systeme': 'Windows 10 Home', 'ram': ' 4 Go', 'processeur': 'AMD Ryzen'}\n",
            "{'url': 'https://spacenet.tn/pc-portable/44091-pc-portable-lenovo-ideapad-l3-i3-10gen-4go-1to-noir-81we01axfe.html', 'urlImage': 'https://spacenet.tn/73193-home_default/pc-portable-lenovo-ideapad-l3-i3-10gen-4go-1to-noir-81we01axfe.jpg', 'designation': 'Pc Portable Lenovo Ideapad L3 i3 10Gén 4Go 1To Noir (81WE01AXFE)', 'prix': '1299', 'systeme': 'Windows 10 Home', 'ram': ' 4 Go', 'CarteGraphique': 'Graphique Intégrée', 'processeur': 'Intel Core i3', 'disqueDur': '1 To'}\n",
            "{'url': 'https://spacenet.tn/pc-portable/41798-pc-portable-hp-255-g8-ryzen3-3250u-4go-1to-32p03ea.html', 'urlImage': 'https://spacenet.tn/66884-home_default/pc-portable-hp-255-g8-ryzen3-3250u-4go-1to-32p03ea.jpg', 'designation': 'Pc Portable HP 255 G8 Ryzen3 3250U 4Go 1To (32P03EA)', 'prix': '1349', 'disqueDur': '1 To', 'systeme': 'Free Dos', 'ram': ' 4 Go', 'processeur': 'AMD Ryzen', 'CarteGraphique': 'Graphique Intégrée'}\n",
            "{'url': 'https://spacenet.tn/pc-portables-pro/42139-pc-portable-hp-250-g8-i3-10gen-4go-1to-noir-27k10ea.html', 'urlImage': 'https://spacenet.tn/67034-home_default/pc-portable-hp-250-g8-i3-10gen-4go-1to-noir-27k10ea.jpg', 'designation': 'Pc Portable HP 250 G8 i3 10Gén 4Go 1To Noir (27K10EA)', 'prix': '1349', 'systeme': 'Free Dos', 'ram': ' 4 Go', 'CarteGraphique': 'Graphique Intégrée', 'processeur': 'Intel Core i3', 'disqueDur': '1 To'}\n",
            "{'url': 'https://spacenet.tn/pc-portable/42907-pc-portable-asus-x409fa-i3-10gene-4go-1to-bleu-x409fa-bv596t.html', 'urlImage': 'https://spacenet.tn/67019-home_default/pc-portable-asus-x409fa-i3-10gene-4go-1to-bleu-x409fa-bv596t.jpg', 'designation': 'Pc Portable ASUS X409FA i3\\xa010Géne 4Go 1To Bleu (X409FA-BV596T)', 'prix': '1359', 'systeme': 'Windows 10 Home', 'ram': ' 4 Go', 'CarteGraphique': 'Graphique Intégrée', 'processeur': 'Intel Core i3', 'disqueDur': '1 To'}\n",
            "{'url': 'https://spacenet.tn/pc-portable/44211-pc-portable-asus-x409fa-i3-10gene-4go-1to-silver-x409fa-bv582t.html', 'urlImage': 'https://spacenet.tn/74100-home_default/pc-portable-asus-x409fa-i3-10gene-4go-1to-silver-x409fa-bv582t.jpg', 'designation': 'Pc Portable ASUS X409FA i3\\xa010Géne 4Go 1To Silver (X409FA-BV582T)', 'prix': '1359', 'systeme': 'Windows 10 Home', 'ram': ' 4 Go', 'CarteGraphique': 'Graphique Intégrée', 'processeur': 'Intel Core i3', 'disqueDur': '1 To'}\n",
            "{'url': 'https://spacenet.tn/pc-portable/42357-pc-portable-asus-x509fa-i3-10gen-4go-1to-silver-x509fa-br946t.html', 'urlImage': 'https://spacenet.tn/71352-home_default/pc-portable-asus-x509fa-i3-10gen-4go-1to-silver-x509fa-br946t.jpg', 'designation': 'Pc Portable ASUS X509FA i3 10Gén 4Go 1To - Silver (X509FA-BR946T)', 'prix': '1379', 'disqueDur': '1 To', 'systeme': 'Windows 10 Home', 'ram': ' 4 Go', 'processeur': 'Intel Core i3'}\n",
            "{'url': 'https://spacenet.tn/pc-portable/43268-pc-portable-asus-x509fa-i3-10gen-4go-1to-bleu-x509fa-br976t.html', 'urlImage': 'https://spacenet.tn/68787-home_default/pc-portable-asus-x509fa-i3-10gen-4go-1to-bleu-x509fa-br976t.jpg', 'designation': 'Pc Portable ASUS X509FA i3 10Gén 4Go 1To - Bleu (X509FA-BR976T)', 'prix': '1379', 'disqueDur': '1 To', 'systeme': 'Windows 10 Home', 'ram': ' 4 Go', 'processeur': 'Intel Core i3'}\n",
            "{'url': 'https://spacenet.tn/vente-ordinateur-portable-tunisie/42970-pc-portable-dell-vostro-3500-i3-11gen-4go-1-to-noir.html', 'urlImage': 'https://spacenet.tn/67310-home_default/pc-portable-dell-vostro-3500-i3-11gen-4go-1-to-noir.jpg', 'designation': 'Pc Portable Dell Vostro 3500 i3 11Gén 4Go 1 To Noir', 'prix': '1429', 'systeme': 'Free Dos', 'ram': ' 4 Go', 'CarteGraphique': 'Graphique Intégrée', 'processeur': 'Intel Core i3', 'disqueDur': '1 To'}\n",
            "{'url': 'https://spacenet.tn/pc-portable/43093-pc-portable-asus-x509fa-i3-10gen-8go-1to-silver-x509fa-br946t.html', 'urlImage': 'https://spacenet.tn/71353-home_default/pc-portable-asus-x509fa-i3-10gen-8go-1to-silver-x509fa-br946t.jpg', 'designation': 'Pc Portable ASUS X509FA i3 10Gén 8Go 1To - Silver (X509FA-BR946T)', 'prix': '1439', 'disqueDur': '1 To', 'systeme': 'Windows 10 Home', 'ram': ' 8 Go ', 'processeur': 'Intel Core i3'}\n",
            "{'url': 'https://spacenet.tn/pc-portable/43096-pc-portable-asus-x509fa-i3-10gen-8go-1to-bleu-x509fa-br976t.html', 'urlImage': 'https://spacenet.tn/71356-home_default/pc-portable-asus-x509fa-i3-10gen-8go-1to-bleu-x509fa-br976t.jpg', 'designation': 'Pc Portable ASUS X509FA i3 10Gén 8Go 1To - Bleu (X509FA-BR976T)', 'prix': '1439', 'disqueDur': '1 To', 'systeme': 'Windows 10 Home', 'ram': ' 8 Go ', 'processeur': 'Intel Core i3'}\n",
            "{'url': 'https://spacenet.tn/pc-portables-pro/44103-pc-portable-hp-250-g8-i3-10gen-8go-1to-noir-27k10ea.html', 'urlImage': 'https://spacenet.tn/73283-home_default/pc-portable-hp-250-g8-i3-10gen-8go-1to-noir-27k10ea.jpg', 'designation': 'Pc Portable HP 250 G8 i3 10Gén 8Go 1To Noir (27K10EA)', 'prix': '1429', 'systeme': 'Free Dos', 'ram': ' 8 Go ', 'CarteGraphique': 'Graphique Intégrée', 'processeur': 'Intel Core i3', 'disqueDur': '1 To'}\n"
          ]
        }
      ]
    },
    {
      "cell_type": "code",
      "metadata": {
        "id": "FjWcqNUxVDhI"
      },
      "source": [
        "dataset = pd.DataFrame(articles)\n",
        "dataset.to_csv(\"spacenet.csv\",index=False)"
      ],
      "execution_count": 63,
      "outputs": []
    },
    {
      "cell_type": "markdown",
      "metadata": {
        "id": "TbQfSICAbVLm"
      },
      "source": [
        "#Jumia"
      ]
    },
    {
      "cell_type": "code",
      "metadata": {
        "id": "2viLRUmvelcK"
      },
      "source": [
        "def getDetails(element):\n",
        "  try:\n",
        "    page = requests.get(element['url'])\n",
        "    article = BeautifulSoup(page.text,'html.parser')\n",
        "    element['designation'] = article.find(\"h1\",{\"class\" : \"-fs20 -pts -pbxs\"}).text\n",
        "    element['prix'] = article.find(\"span\",{\"class\" : \"-b -ltr -tal -fs24\"}).text\n",
        "    for t in article.find(\"div\",{\"class\" : \"markup -pam\"}).find_all(\"li\"):\n",
        "        \n",
        "          if \"Processeur\" in t.text.split():\n",
        "            element[\"processeur\"] = t.text\n",
        "          elif \"Mémoire\" == t.text.split()[0]:\n",
        "            element[\"ram\"] = t.text\n",
        "          elif \"Disque\" == t.text.split()[0]:\n",
        "            element[\"disqueDur\"] = t.text\n",
        "            print(element[\"disqueDur\"])\n",
        "  except AttributeError:\n",
        "      pass\n",
        "  except IndexError:\n",
        "    pass"
      ],
      "execution_count": 33,
      "outputs": []
    },
    {
      "cell_type": "code",
      "metadata": {
        "id": "sq7SVx1AbUXh",
        "colab": {
          "base_uri": "https://localhost:8080/"
        },
        "outputId": "8a272d4a-18c9-47dd-e115-6207a9478e9d"
      },
      "source": [
        "for i in range(2):\n",
        "  if i == 0 :\n",
        "    url_jumia = 'https://www.jumia.com.tn/ordinateurs-tablettes-ordinateurs-portables-traditionnels/'\n",
        "  else:\n",
        "    url_jumia = 'https://www.jumia.com.tn/ordinateurs-tablettes-ordinateurs-portables-traditionnels/?page=2#catalog-listing'\n",
        "\n",
        "  page_jumia = requests.get(url_jumia)\n",
        "  soup_jumia = BeautifulSoup(page_jumia.text,'html.parser')\n",
        "  for article in soup_jumia.find_all(\"article\",{\"class\" : \"prd _fb col c-prd\"}):\n",
        "      element = {}\n",
        "      element['url'] = \"https://www.jumia.com.tn\" + article.find(\"a\",{\"class\" : \"core\"}).attrs['href']\n",
        "      element['urlImage'] = article.find(\"img\",{\"class\" : \"img\"}).attrs['data-src']\n",
        "      getDetails(element)\n"
      ],
      "execution_count": 34,
      "outputs": [
        {
          "output_type": "stream",
          "name": "stdout",
          "text": [
            "Disque dur: 1000 Go\n",
            "Disque 1Tb\n",
            "Disque 1 To\n",
            "Disque dur: 256 Go SSD\n",
            "Disque 1Tb\n",
            "Disque dur: 1 To \n",
            "\n",
            "Disque 1 To - Intel HD Graphics \n",
            "\n",
            "\n",
            "Disque dur: 1 To \n",
            "\n",
            "Disque Dur : 1 To  \n",
            " Disque Dur: 1 To \n",
            "Disque dur: 1000 Go\n",
            "Disque Dur: 1 To 5400 tours/min  \n",
            "Disque dur: 1000 Go\n",
            "Disque Dur: 1 To 5 400 tr/min 2,5″\n",
            "Disque Dur: 1 To\n",
            "Disque dur: 1000 Go\n",
            "Disque dur: 256 SSD NVMe\n",
            "Disque 1 To \n",
            "Disque Dur: 1 To \n",
            "Disque Dur\t1 To\n",
            "Disque Dur:1To\n",
            "Disque 1Tb\n",
            "Disque 1Tb\n",
            " Disque dur: 1 To \n",
            "Disque dur 1 to HDD\n",
            "Disque 1 To\n",
            "Disque Dur: 1 To\n",
            "Disque Dur: 1 To \n",
            "Disque Dur: 256 Go\n",
            "Disque 1 To \n",
            "Disque 256 Go SSD \n",
            "Disque dur 1 to HDD\n",
            "Disque Dur: 1 To (5400 rpm)\n",
            "Disque 256 Go SSD\n",
            "Disque 256 Go SSD \n",
            "Disque Dur: 1 To \n",
            "Disque Dur: 1 To\n",
            "Disque dur: 256 SSD\n",
            "\n",
            "Disque dur: 1 To \n",
            "\n",
            "Disque dur: 256 SSD\n",
            "Disque Dur: 1To+256 Go SSD \n"
          ]
        }
      ]
    },
    {
      "cell_type": "markdown",
      "metadata": {
        "id": "2xq0cKdORYJh"
      },
      "source": [
        "#Agora"
      ]
    },
    {
      "cell_type": "code",
      "metadata": {
        "id": "1iXhVbeCTs3W"
      },
      "source": [
        "def getDetails(element):\n",
        "  page = requests.get(element['url'])\n",
        "  article = BeautifulSoup(page.text,'html.parser')\n",
        "  element['designation'] = article.find(\"h1\",{\"class\" : \"h1 namne_details\"}).text\n",
        "  element['prix'] = article.find(\"span\",{\"itemprop\" : \"price\"}).text\n",
        "  for t,d in zip(article.find(\"dl\",{\"class\" : \"data-sheet\"}).find_all(\"dt\"),article.find(\"dl\",{\"class\" : \"data-sheet\"}).find_all(\"dd\")):\n",
        "      if t.text == \"Systeme D'exploitation\":\n",
        "        element[\"systeme\"] = d.text\n",
        "      elif t.text == \"Processeur\":\n",
        "        element[\"processeur\"] = d.text\n",
        "      elif t.text == \"Memoire\":\n",
        "        element[\"ram\"] = d.text\n",
        "      elif t.text == \"Disque Dur\":\n",
        "        element[\"disqueDur\"] = d.text\n",
        "      elif t.text == \"Disque Dur\":\n",
        "        element[\"disqueDur\"] = d.text\n",
        "      elif t.text == \"Carte Graphique\":\n",
        "        element[\"CarteGraphique\"] = d.text\n",
        "  return element\n",
        "  "
      ],
      "execution_count": null,
      "outputs": []
    },
    {
      "cell_type": "code",
      "metadata": {
        "colab": {
          "base_uri": "https://localhost:8080/"
        },
        "id": "A32Qw2gORr5v",
        "outputId": "ce41a9c1-5139-4d06-c542-60a4a261590f"
      },
      "source": [
        "url_agora = \"https://agora.tn/fr/12-pc-portable?n=36\"\n",
        "agora = requests.get(url_agora)\n",
        "soup_agora = BeautifulSoup(agora.text,'html.parser')\n",
        "\n",
        "\n",
        "for article in soup_agora.find_all(\"div\",{\"class\" : \"item-product col-xs-12 col-sm-6 col-md-6 col-lg-4\"}):\n",
        "  element = {}\n",
        "  element['url'] = article.find('a',{\"class\" : \"thumbnail product-thumbnail\"}).attrs['href']\n",
        "  element['urlImage'] = article.find('img').attrs['src']\n",
        "  \n",
        "  element = getDetails(element)\n",
        "  print(element)\n",
        "  articles.append(element)\n"
      ],
      "execution_count": null,
      "outputs": [
        {
          "output_type": "stream",
          "name": "stdout",
          "text": [
            "{'url': 'https://agora.tn/fr/pc-portable/6484-pc-portable-vegabook-plus-14-quad-core-4go-64go-silver.html', 'urlImage': 'https://agora.tn/fr/31490-home_default/pc-portable-vegabook-plus-14-quad-core-4go-64go-silver.jpg', 'designation': 'PC Portable VEGABOOK Plus 14 Quad Core 4Go 64Go - Silver', 'prix': '475,000\\xa0TND', 'systeme': 'Windows ', 'processeur': 'Intel Atom', 'ram': '4 Go', 'disqueDur': '64 Go EMMC', 'CarteGraphique': 'Graphique Intégrée'}\n",
            "{'url': 'https://agora.tn/fr/pc-portable/9397-pc-portable-asus-x543ma-n4020-4go1to156w10-gris.html', 'urlImage': 'https://agora.tn/fr/32530-home_default/pc-portable-asus-x543ma-n4020-4go1to156w10-gris.jpg', 'designation': 'PC PORTABLE ASUS X543MA N4020 /4GO/1TO/15.6\"/W10 -Gris', 'prix': '975,000\\xa0TND', 'systeme': 'Windows ', 'processeur': 'Intel Celeron-Dual Core', 'ram': '4 Go', 'disqueDur': '1 To', 'CarteGraphique': 'Graphique Intégrée'}\n",
            "{'url': 'https://agora.tn/fr/pc-portable/9609-pc-portable-asus-x509fa-i3-10110u4g1towind10-156-silver.html', 'urlImage': 'https://agora.tn/fr/33660-home_default/pc-portable-asus-x509fa-i3-10110u4g1towind10-156-silver.jpg', 'designation': \"PC PORTABLE ASUS X509FA I3-10110U/4G/1TO/WIND10 / 15.6''  SILVER\", 'prix': '1\\xa0339,000\\xa0TND', 'systeme': 'Windows ', 'processeur': 'Intel Core i3', 'ram': '4 Go', 'disqueDur': '1 To', 'CarteGraphique': 'Graphique Intégrée'}\n",
            "{'url': 'https://agora.tn/fr/pc-portable/9394-pc-portable-asus-x509fa-i3-10gen-4g1twind10-bleu.html', 'urlImage': 'https://agora.tn/fr/33661-home_default/pc-portable-asus-x509fa-i3-10gen-4g1twind10-bleu.jpg', 'designation': 'PC PORTABLE ASUS X509FA I3-10Gén /4G/1T/WIND10 - BLEU', 'prix': '1\\xa0339,000\\xa0TND', 'systeme': 'Windows ', 'processeur': 'Intel Core i3', 'ram': '4 Go', 'disqueDur': '1 To', 'CarteGraphique': 'Graphique Intégrée'}\n",
            "{'url': 'https://agora.tn/fr/pc-portable/9393-pc-portable-asus-x509fa-i3-10gen-4g1twind10-gris.html', 'urlImage': 'https://agora.tn/fr/33662-home_default/pc-portable-asus-x509fa-i3-10gen-4g1twind10-gris.jpg', 'designation': 'PC PORTABLE ASUS X509FA I3-10Gén /4G/1T/WIND10 - GRIS', 'prix': '1\\xa0339,000\\xa0TND', 'systeme': 'Windows ', 'processeur': 'Intel Core i3', 'ram': '4 Go', 'disqueDur': '1 To', 'CarteGraphique': 'Graphique Intégrée'}\n",
            "{'url': 'https://agora.tn/fr/pc-portable/9454-pc-portable-hp-250-g8-i3-10gen-4gb-1to-156-sacoche-hp.html', 'urlImage': 'https://agora.tn/fr/32080-home_default/pc-portable-hp-250-g8-i3-10gen-4gb-1to-156-sacoche-hp.jpg', 'designation': \"PC PORTABLE  HP 255 G8 Ryzen3 3250U/4G/1TR/15.6''/FD  + Sacoche\", 'prix': '1\\xa0389,000\\xa0TND', 'systeme': 'FreeDos', 'processeur': 'AMD RYZEN', 'ram': '4 Go', 'disqueDur': '1 To', 'CarteGraphique': 'Graphique Intégrée'}\n",
            "{'url': 'https://agora.tn/fr/pc-portable/7989-pc-portable-asus-s509ja-i3-1005-4g-1to-w10-156-silver.html', 'urlImage': 'https://agora.tn/fr/32561-home_default/pc-portable-asus-s509ja-i3-1005-4g-1to-w10-156-silver.jpg', 'designation': 'PC PORTABLE ASUS S509JA I3-1005 - 4G - 1To - W10 - 15.6 SILVER', 'prix': '1\\xa0395,000\\xa0TND', 'systeme': 'Windows ', 'processeur': 'Intel Core i3', 'ram': '4 Go', 'disqueDur': '1 To', 'CarteGraphique': 'Graphique Intégrée'}\n",
            "{'url': 'https://agora.tn/fr/pc-portable/9287-pc-portable-asus-x515ja-i3-1005g1-4g1twin10-silver.html', 'urlImage': 'https://agora.tn/fr/32547-home_default/pc-portable-asus-x515ja-i3-1005g1-4g1twin10-silver.jpg', 'designation': 'PC PORTABLE ASUS X515JA i3-1005G1 4G / 1T / WIN10 SILVER', 'prix': '1\\xa0399,000\\xa0TND', 'systeme': 'Windows ', 'processeur': 'Intel Core i3', 'ram': '4 Go', 'disqueDur': '1 To', 'CarteGraphique': 'Graphique Intégrée'}\n",
            "{'url': 'https://agora.tn/fr/pc-portable/9139-pc-portable-hp-15-dw3000nk-i3-1115g44g1twin10156-argent.html', 'urlImage': 'https://agora.tn/fr/30919-home_default/pc-portable-hp-15-dw3000nk-i3-1115g44g1twin10156-argent.jpg', 'designation': \"PC PORTABLE HP 15-dw3000nk I3-1115G4/4G/1T/WIN10/15.6'' ARGENT + Souris\", 'prix': '1\\xa0399,000\\xa0TND', 'systeme': 'Windows ', 'processeur': 'Intel Core i3', 'ram': '4 Go', 'disqueDur': '1 To', 'CarteGraphique': 'Graphique Intégrée'}\n",
            "{'url': 'https://agora.tn/fr/pc-portable/9399-pc-portable-hp-250-g8-i3-10gen-4gb-1to-156-sacoche-hp.html', 'urlImage': 'https://agora.tn/fr/32524-home_default/pc-portable-hp-250-g8-i3-10gen-4gb-1to-156-sacoche-hp.jpg', 'designation': 'PC PORTABLE HP 250 G8 i3-10Gén /4GB /1TO/ 15.6\"+ SACOCHE HP', 'prix': '1\\xa0425,000\\xa0TND', 'systeme': 'Windows ', 'processeur': 'Intel Core i3', 'ram': '4 Go', 'disqueDur': '1 To', 'CarteGraphique': 'Graphique Intégrée'}\n",
            "{'url': 'https://agora.tn/fr/pc-portable/9487-chaise-new-confort-mesh.html', 'urlImage': 'https://agora.tn/fr/32177-home_default/chaise-new-confort-mesh.jpg', 'designation': \"PC PORTABLE DELL VOSTRO 3500 i3-1115G4 / 4Go / 1To /15.6''\", 'prix': '1\\xa0449,000\\xa0TND', 'systeme': 'Ubuntu', 'processeur': 'Intel Core i3', 'ram': '4 Go', 'disqueDur': '1 To', 'CarteGraphique': 'Graphique Intégrée'}\n",
            "{'url': 'https://agora.tn/fr/pc-portable/9716-pc-portable-acer-extensa-i3-1115-4go1tocg-2go-mx350-156-.html', 'urlImage': 'https://agora.tn/fr/33067-home_default/pc-portable-acer-extensa-i3-1115-4go1tocg-2go-mx350-156-.jpg', 'designation': \"PC PORTABLE ACER EXTENSA I3-1115 4Go/1To/CG 2Go MX350 / 15.6''\", 'prix': '1\\xa0499,000\\xa0TND', 'systeme': 'FreeDos', 'processeur': 'Intel Core i3', 'ram': '4 Go', 'disqueDur': '1 To', 'CarteGraphique': 'Nvidia GeForce'}\n",
            "{'url': 'https://agora.tn/fr/pc-portable/9140-pc-portable-hp-15-dw3018nk-i3-1115g44g1twin10156-noir-souris.html', 'urlImage': 'https://agora.tn/fr/32551-home_default/pc-portable-hp-15-dw3018nk-i3-1115g44g1twin10156-noir-souris.jpg', 'designation': \"PC PORTABLE HP 15-dw3018nk I3-1115G4/4G/1T/WIN10/15.6'' NOIR + Souris\", 'prix': '1\\xa0529,000\\xa0TND', 'systeme': 'Windows ', 'processeur': 'Intel Core i3', 'ram': '4 Go', 'disqueDur': '1 To', 'CarteGraphique': 'Graphique Intégrée'}\n",
            "{'url': 'https://agora.tn/fr/pc-portable/9488-pc-portable-hp-255-g8-ryzen-5-4go-1to-gris-32p04ea-sac-a-dos-.html', 'urlImage': 'https://agora.tn/fr/32507-home_default/pc-portable-hp-255-g8-ryzen-5-4go-1to-gris-32p04ea-sac-a-dos-.jpg', 'designation': 'PC PORTABLE HP 255 G8 RYZEN 5 4GO 1TO - GRIS (32P04EA) + sac a dos', 'prix': '1\\xa0549,000\\xa0TND', 'systeme': 'FreeDos', 'processeur': 'AMD RYZEN', 'ram': '4 Go', 'disqueDur': '1 To', 'CarteGraphique': 'Graphique Intégrée'}\n",
            "{'url': 'https://agora.tn/fr/pc-portable/9722-pc-portable-hp-15-dw3019nk-i3-1115g44g256ssdwin10156-silver.html', 'urlImage': 'https://agora.tn/fr/33109-home_default/pc-portable-hp-15-dw3019nk-i3-1115g44g256ssdwin10156-silver.jpg', 'designation': \"PC PORTABLE HP 15-dw3019nk I3-1115G4/4G/256SSD/WIN10/15.6'' SILVER\", 'prix': '1\\xa0590,000\\xa0TND', 'systeme': 'Windows ', 'processeur': 'Intel Core i3', 'ram': '4 Go', 'disqueDur': '256 Go SSD', 'CarteGraphique': 'Graphique Intégrée'}\n",
            "{'url': 'https://agora.tn/fr/pc-portable/9142-pc-portable-hp-15-dw3000nk-i3-1115g44g1twin10156-argent.html', 'urlImage': 'https://agora.tn/fr/30939-home_default/pc-portable-hp-15-dw3000nk-i3-1115g44g1twin10156-argent.jpg', 'designation': \"PC PORTABLE HP 15-dw3020nk I3-1115G4/4G/256SSD/WIN10/15.6'' BLACK\", 'prix': '1\\xa0590,000\\xa0TND', 'systeme': 'Windows ', 'processeur': 'Intel Core i3', 'ram': '4 Go', 'disqueDur': '256 Go SSD', 'CarteGraphique': 'Graphique Intégrée'}\n",
            "{'url': 'https://agora.tn/fr/pc-portable/9735-pc-portable-acer-extensa-i5-1135g7-8go1tocg-2go-mx350-156-.html', 'urlImage': 'https://agora.tn/fr/33225-home_default/pc-portable-acer-extensa-i5-1135g7-8go1tocg-2go-mx350-156-.jpg', 'designation': \"PC PORTABLE ACER  EXTENSA I5-1135G7 8Go/1To/CG 2Go MX350 / 15.6''\", 'prix': '1\\xa0878,000\\xa0TND', 'systeme': 'FreeDos', 'processeur': 'Intel Core i5', 'ram': '8 Go', 'disqueDur': '1 To', 'CarteGraphique': 'Nvidia GeForce'}\n",
            "{'url': 'https://agora.tn/fr/pc-portable/9489-pc-portable-hp-250-g8-i5-10gen-4go-1to-noir-2x7j6ea.html', 'urlImage': 'https://agora.tn/fr/32502-home_default/pc-portable-hp-250-g8-i5-10gen-4go-1to-noir-2x7j6ea.jpg', 'designation': 'PC PORTABLE HP 250 G8 I5 10GÉN 4GO 1TO - NOIR (2X7J6EA) + Housse', 'prix': '1\\xa0879,000\\xa0TND', 'systeme': 'FreeDos', 'processeur': 'Intel Core i5', 'ram': '4 Go', 'disqueDur': '1 To', 'CarteGraphique': 'Graphique Intégrée'}\n",
            "{'url': 'https://agora.tn/fr/pc-portable/9250-pc-portable-hp-15-dw3015nk-i5-11e-gen-8go-256go-ssd-gris-2r0m7ea.html', 'urlImage': 'https://agora.tn/fr/31328-home_default/pc-portable-hp-15-dw3015nk-i5-11e-gen-8go-256go-ssd-gris-2r0m7ea.jpg', 'designation': 'PC PORTABLE HP 15-DW3015NK I5 11È GÉN 8GO 256GO SSD - GRIS (2R0M7EA)', 'prix': '1\\xa0939,000\\xa0TND', 'systeme': 'Windows ', 'processeur': 'Intel Core i5', 'ram': '8 Go', 'disqueDur': '256 Go SSD', 'CarteGraphique': 'Graphique Intégrée'}\n",
            "{'url': 'https://agora.tn/fr/pc-portable/8866-pc-portable-hp-15-dw3013nk-i5-11e-gen-8go-1to-win10-noir.html', 'urlImage': 'https://agora.tn/fr/30099-home_default/pc-portable-hp-15-dw3013nk-i5-11e-gen-8go-1to-win10-noir.jpg', 'designation': 'PC PORTABLE HP 15-DW3013NK I5 11É GÉN 8GO 1TO WIN10 NOIR', 'prix': '1\\xa0939,000\\xa0TND', 'systeme': 'Windows ', 'processeur': 'Intel Core i5', 'ram': '8 Go', 'disqueDur': '1 To', 'CarteGraphique': 'Graphique Intégrée'}\n",
            "{'url': 'https://agora.tn/fr/pc-portable/8865-pc-portable-hp-15-dw3013nk-i5-11e-gen-8go-1to-win10-gris.html', 'urlImage': 'https://agora.tn/fr/30095-home_default/pc-portable-hp-15-dw3013nk-i5-11e-gen-8go-1to-win10-gris.jpg', 'designation': 'PC PORTABLE HP 15-DW3013NK I5 11É GÉN 8GO 1TO WIN10 GRIS', 'prix': '1\\xa0939,000\\xa0TND', 'systeme': 'Windows ', 'processeur': 'Intel Core i5', 'ram': '8 Go', 'disqueDur': '1 To', 'CarteGraphique': 'Graphique Intégrée'}\n",
            "{'url': 'https://agora.tn/fr/vente-tv/9882-televiseur-samsung-tu7000-55-uhd-4k-smart.html', 'urlImage': 'https://agora.tn/fr/33672-home_default/televiseur-samsung-tu7000-55-uhd-4k-smart.jpg', 'designation': 'PC PORTABLE LENOVO L3 I5-1135G7 8GO/1TO/15.6\"/GREY', 'prix': '1\\xa0959,000\\xa0TND', 'processeur': 'Intel Core i5', 'ram': '8 Go', 'disqueDur': '1 To', 'CarteGraphique': 'Graphique Intégrée'}\n",
            "{'url': 'https://agora.tn/fr/pc-portable/9610-pc-portable-dell-vostro-3500-i5-1135g7-4go1to-cg-2go-mx330156-.html', 'urlImage': 'https://agora.tn/fr/32669-home_default/pc-portable-dell-vostro-3500-i5-1135g7-4go1to-cg-2go-mx330156-.jpg', 'designation': \"PC PORTABLE DELL VOSTRO 3500 i5-1135G7 /4GO/1TO /CG 2Go MX330/15.6''\", 'prix': '1\\xa0999,000\\xa0TND', 'systeme': 'FreeDos', 'processeur': 'Intel Core i5', 'ram': '4 Go', 'disqueDur': '1 To', 'CarteGraphique': 'Nvidia GeForce'}\n",
            "{'url': 'https://agora.tn/fr/pc-portable/9277-pc-portable-hp-15-dw3009nk-i5-11gen-8go-1tb-gris.html', 'urlImage': 'https://agora.tn/fr/31452-home_default/pc-portable-hp-15-dw3009nk-i5-11gen-8go-1tb-gris.jpg', 'designation': 'PC PORTABLE HP 15-dw3009nk I5-11GÉN 8GO 1TB Gris', 'prix': '1\\xa0999,000\\xa0TND', 'systeme': 'Windows ', 'processeur': 'Intel Core i5', 'ram': '8 Go', 'disqueDur': '1 To', 'CarteGraphique': 'Graphique Intégrée'}\n",
            "{'url': 'https://agora.tn/fr/pc-portable/9057-pc-portable-dell-vostro-3500-i5-1135g78go256go-cg-2go-mx330.html', 'urlImage': 'https://agora.tn/fr/32560-home_default/pc-portable-dell-vostro-3500-i5-1135g78go256go-cg-2go-mx330.jpg', 'designation': 'PC PORTABLE DELL VOSTRO 3500 i5-1135G7 / 8Go / 256Go CG 2Go MX330', 'prix': '2\\xa0139,000\\xa0TND', 'systeme': 'FreeDos', 'processeur': 'Intel Core i5', 'ram': '8 Go', 'disqueDur': '256 Go SSD', 'CarteGraphique': 'Nvidia GeForce'}\n",
            "{'url': 'https://agora.tn/fr/pc-portable/9715-pc-portable-acer-extensa-i7-1165-8go1tocg-2go-mx350-156-.html', 'urlImage': 'https://agora.tn/fr/33070-home_default/pc-portable-acer-extensa-i7-1165-8go1tocg-2go-mx350-156-.jpg', 'designation': \"PC PORTABLE ACER EXTENSA I7-1165 8Go/1To/CG 2Go MX350 / 15.6''\", 'prix': '2\\xa0175,000\\xa0TND', 'systeme': 'FreeDos', 'processeur': 'Intel Core i7', 'ram': '8 Go', 'disqueDur': '1 To', 'CarteGraphique': 'Nvidia GeForce'}\n",
            "{'url': 'https://agora.tn/fr/pc-portable/9594-pc-portable-hp-15-dw3007nk-i5-1135-8go1to-128g-ssdcg-2gow10-silver.html', 'urlImage': 'https://agora.tn/fr/32633-home_default/pc-portable-hp-15-dw3007nk-i5-1135-8go1to-128g-ssdcg-2gow10-silver.jpg', 'designation': 'PC PORTABLE HP 15-DW3006NK I5-1135 8GO/1To +128G SSD/CG 2GO/W10 SILVER', 'prix': '2\\xa0199,000\\xa0TND', 'systeme': 'Windows ', 'processeur': 'Intel Core i5', 'ram': '8 Go', 'disqueDur': '1 To', 'CarteGraphique': 'Nvidia GeForce'}\n",
            "{'url': 'https://agora.tn/fr/pc-portable/9736-pc-portable-acer-extensa-i7-1165g7-12go1tocg-2go-mx350-156-.html', 'urlImage': 'https://agora.tn/fr/33231-home_default/pc-portable-acer-extensa-i7-1165g7-12go1tocg-2go-mx350-156-.jpg', 'designation': \"PC PORTABLE ACER EXTENSA I7-1165G7 12Go/1To/CG 2Go MX350 / 15.6''\", 'prix': '2\\xa0229,000\\xa0TND', 'systeme': 'FreeDos', 'processeur': 'Intel Core i7', 'ram': '12 Go', 'disqueDur': '1 To', 'CarteGraphique': 'Nvidia GeForce'}\n",
            "{'url': 'https://agora.tn/fr/pc-portable/9834-pc-portable-asus-x515ep-i5-1135g78go512g-ssdcg-mx330-2gwin10156-grey.html', 'urlImage': 'https://agora.tn/fr/33373-home_default/pc-portable-asus-x515ep-i5-1135g78go512g-ssdcg-mx330-2gwin10156-grey.jpg', 'designation': \"PC PORTABLE ASUS X515EP I5-1135G7/8GO/512G SSD/CG MX330 2G/WIN10/15.6'' SILVER\", 'prix': '2\\xa0299,000\\xa0TND', 'systeme': 'Windows ', 'processeur': 'Intel Core i5', 'ram': '8 Go', 'disqueDur': '512 Go SSD', 'CarteGraphique': 'Nvidia GeForce'}\n",
            "{'url': 'https://agora.tn/fr/pc-portable/9833-pc-portable-asus-x515ep-i5-1135g78go512g-ssdcg-mx330-2gwin10156-grey.html', 'urlImage': 'https://agora.tn/fr/33367-home_default/pc-portable-asus-x515ep-i5-1135g78go512g-ssdcg-mx330-2gwin10156-grey.jpg', 'designation': \"PC PORTABLE ASUS X515EP I5-1135G7/8GO/512G SSD/CG MX330 2G/WIN10/15.6'' GREY\", 'prix': '2\\xa0299,000\\xa0TND', 'systeme': 'Windows ', 'processeur': 'Intel Core i5', 'ram': '8 Go', 'disqueDur': '512 Go SSD', 'CarteGraphique': 'Nvidia GeForce'}\n",
            "{'url': 'https://agora.tn/fr/pc-portable-gamer/9867-pc-portable-asus-tuf506-i5-11gen-8go512g-ssdrtx3050-win10.html', 'urlImage': 'https://agora.tn/fr/33530-home_default/pc-portable-asus-tuf506-i5-11gen-8go512g-ssdrtx3050-win10.jpg', 'designation': 'PC PORTABLE ASUS G513IH R7-4800H 8GO/512G SSD/GTX1650 4G/W10/15.6\"', 'prix': '2\\xa0979,000\\xa0TND', 'systeme': 'Windows ', 'processeur': 'AMD RYZEN', 'ram': '8 Go', 'disqueDur': '512 Go SSD', 'CarteGraphique': 'Nvidia GeForce'}\n",
            "{'url': 'https://agora.tn/fr/accueil/9868-pc-portable-asus-tuf506-i5-11gen-8go512g-ssdrtx3050-win10.html', 'urlImage': 'https://agora.tn/fr/33536-home_default/pc-portable-asus-tuf506-i5-11gen-8go512g-ssdrtx3050-win10.jpg', 'designation': 'PC PORTABLE ASUS UM425UG R7-5700U 16GO/512G SSD/MX450 2G/W10/14\"FHD', 'prix': '3\\xa0299,000\\xa0TND', 'systeme': 'Windows ', 'processeur': 'AMD RYZEN', 'ram': '16 Go', 'disqueDur': '512 Go SSD', 'CarteGraphique': 'Nvidia GeForce'}\n",
            "{'url': 'https://agora.tn/fr/pc-portable-gamer/9860-pc-portable-asus-tuf506-i5-11gen-8go512g-ssdrtx3050-win10.html', 'urlImage': 'https://agora.tn/fr/33495-home_default/pc-portable-asus-tuf506-i5-11gen-8go512g-ssdrtx3050-win10.jpg', 'designation': 'PC PORTABLE ASUS TUF506 I5-11400H 8GO/512G SSD/RTX3050 TI 4G/W10/15.6\"', 'prix': '3\\xa0399,000\\xa0TND', 'systeme': 'Windows ', 'processeur': 'Intel Core i5', 'ram': '8 Go', 'disqueDur': '512 Go SSD', 'CarteGraphique': 'Nvidia GeForce'}\n",
            "{'url': 'https://agora.tn/fr/pc-portable-gamer/9865-pc-portable-asus-tuf506-i5-11gen-8go512g-ssdrtx3050-win10.html', 'urlImage': 'https://agora.tn/fr/33519-home_default/pc-portable-asus-tuf506-i5-11gen-8go512g-ssdrtx3050-win10.jpg', 'designation': 'PC PORTABLE ASUS G513QE R9-5900HX 8GO/512G SSD/RTX3050 TI 4G/W10/15.6\"', 'prix': '3\\xa0619,000\\xa0TND', 'systeme': 'Windows ', 'processeur': 'AMD RYZEN', 'ram': '8 Go', 'disqueDur': '512 Go SSD', 'CarteGraphique': 'Nvidia GeForce'}\n",
            "{'url': 'https://agora.tn/fr/pc-portable-gamer/9866-pc-portable-asus-tuf506-i5-11gen-8go512g-ssdrtx3050-win10.html', 'urlImage': 'https://agora.tn/fr/33525-home_default/pc-portable-asus-tuf506-i5-11gen-8go512g-ssdrtx3050-win10.jpg', 'designation': 'PC PORTABLE ASUS FX516PE I7-11370H 16GO/512G SSD/RTX3050 TI 4G/W10/15.6\"', 'prix': '4\\xa0065,000\\xa0TND', 'systeme': 'Windows ', 'processeur': 'Intel Core i7', 'ram': '16 Go', 'disqueDur': '512 Go SSD', 'CarteGraphique': 'Nvidia GeForce'}\n",
            "{'url': 'https://agora.tn/fr/accueil/9869-pc-portable-asus-tuf506-i5-11gen-8go512g-ssdrtx3050-win10.html', 'urlImage': 'https://agora.tn/fr/33544-home_default/pc-portable-asus-tuf506-i5-11gen-8go512g-ssdrtx3050-win10.jpg', 'designation': 'PC PORTABLE ASUS FLIP UX363EA I7-1165 16GO/512G SSD/W10/OLED 13.3\" TOUCH', 'prix': '4\\xa0090,000\\xa0TND', 'systeme': 'Windows ', 'processeur': 'Intel Core i7', 'ram': '16 Go', 'disqueDur': '512 Go SSD', 'CarteGraphique': 'Graphique Intégrée'}\n"
          ]
        }
      ]
    },
    {
      "cell_type": "code",
      "metadata": {
        "id": "g7qkGEocYW6W"
      },
      "source": [
        "dataset = pd.DataFrame(articles)\n",
        "dataset.to_csv(\"agora.csv\",index=False)"
      ],
      "execution_count": null,
      "outputs": []
    },
    {
      "cell_type": "markdown",
      "metadata": {
        "id": "KQ3PyJpiRPvR"
      },
      "source": [
        "#Tunisianet\n"
      ]
    },
    {
      "cell_type": "code",
      "metadata": {
        "id": "G6lk33jBNDQl"
      },
      "source": [
        "def getcharacteristics(element):\n",
        "  page = requests.get(element['url'])\n",
        "  soup = BeautifulSoup(page.text,'html.parser')\n",
        "  element[\"designation\"] = soup.find(\"h1\",{\"class\" : \"h1\"}).text\n",
        "  element[\"prix\"] = soup.find(\"span\",{\"itemprop\" : \"price\"}).attrs['content']\n",
        "  for t,d in zip(soup.find(\"dl\",{\"class\" : \"data-sheet\"}).find_all(\"dt\"),soup.find(\"dl\",{\"class\" : \"data-sheet\"}).find_all(\"dd\")):\n",
        "      if t.text == \"Système D'exploitation\":\n",
        "        element[\"systeme\"] = d.text\n",
        "      elif t.text == \"Processeur\":\n",
        "        element[\"processeur\"] = d.text\n",
        "      elif t.text == \"Mémoire\":\n",
        "        element[\"ram\"] = d.text\n",
        "      elif t.text == \"Disque Dur\":\n",
        "        element[\"disqueDur\"] = d.text\n",
        "      elif t.text == \"Disque Dur\":\n",
        "        element[\"disqueDur\"] = d.text\n",
        "      elif t.text == \"Réf Carte graphique\":\n",
        "        element[\"CarteGraphique\"] = d.text\n",
        "  return element"
      ],
      "execution_count": null,
      "outputs": []
    },
    {
      "cell_type": "code",
      "metadata": {
        "colab": {
          "base_uri": "https://localhost:8080/",
          "height": 231
        },
        "id": "M5_0yxkFK_yX",
        "outputId": "0b2bdeff-5578-4d5e-ad6d-3c1ae69f3f67"
      },
      "source": [
        "for i in range(19):\n",
        "  if i == 0 :\n",
        "    url = \"https://www.tunisianet.com.tn/301-pc-portable-tunisie\"\n",
        "  else:\n",
        "    url = \"https://www.tunisianet.com.tn/301-pc-portable-tunisie?page=\"+str(i)\n",
        "  page = requests.get(url)\n",
        "  soup = BeautifulSoup(page.text,'html.parser')\n",
        "  \n",
        "  for article in soup.find_all(\"article\",{\"class\" : \"product-miniature js-product-miniature col-xs-12 propadding\"}):\n",
        "    element = {}\n",
        "    element[\"url\"] = article.find(\"a\",{\"class\" : \"thumbnail product-thumbnail first-img\"}).attrs['href']\n",
        "    element[\"urlImage\"] = article.find(\"img\",{\"class\" : \"center-block img-responsive\"}).attrs['src']\n",
        "    element = getcharacteristics(element)\n",
        "    articles.append( element)\n",
        "dataset = pd.DataFrame(articles)\n",
        "dataset.to_csv(\"tunisianet.csv\",index=False)\n"
      ],
      "execution_count": null,
      "outputs": [
        {
          "output_type": "error",
          "ename": "NameError",
          "evalue": "ignored",
          "traceback": [
            "\u001b[0;31m---------------------------------------------------------------------------\u001b[0m",
            "\u001b[0;31mNameError\u001b[0m                                 Traceback (most recent call last)",
            "\u001b[0;32m<ipython-input-1-da8f98cbec96>\u001b[0m in \u001b[0;36m<module>\u001b[0;34m()\u001b[0m\n\u001b[1;32m      4\u001b[0m   \u001b[0;32melse\u001b[0m\u001b[0;34m:\u001b[0m\u001b[0;34m\u001b[0m\u001b[0;34m\u001b[0m\u001b[0m\n\u001b[1;32m      5\u001b[0m     \u001b[0murl\u001b[0m \u001b[0;34m=\u001b[0m \u001b[0;34m\"https://www.tunisianet.com.tn/301-pc-portable-tunisie?page=\"\u001b[0m\u001b[0;34m+\u001b[0m\u001b[0mstr\u001b[0m\u001b[0;34m(\u001b[0m\u001b[0mi\u001b[0m\u001b[0;34m)\u001b[0m\u001b[0;34m\u001b[0m\u001b[0;34m\u001b[0m\u001b[0m\n\u001b[0;32m----> 6\u001b[0;31m   \u001b[0mpage\u001b[0m \u001b[0;34m=\u001b[0m \u001b[0mrequests\u001b[0m\u001b[0;34m.\u001b[0m\u001b[0mget\u001b[0m\u001b[0;34m(\u001b[0m\u001b[0murl\u001b[0m\u001b[0;34m)\u001b[0m\u001b[0;34m\u001b[0m\u001b[0;34m\u001b[0m\u001b[0m\n\u001b[0m\u001b[1;32m      7\u001b[0m   \u001b[0msoup\u001b[0m \u001b[0;34m=\u001b[0m \u001b[0mBeautifulSoup\u001b[0m\u001b[0;34m(\u001b[0m\u001b[0mpage\u001b[0m\u001b[0;34m.\u001b[0m\u001b[0mtext\u001b[0m\u001b[0;34m,\u001b[0m\u001b[0;34m'html.parser'\u001b[0m\u001b[0;34m)\u001b[0m\u001b[0;34m\u001b[0m\u001b[0;34m\u001b[0m\u001b[0m\n\u001b[1;32m      8\u001b[0m \u001b[0;34m\u001b[0m\u001b[0m\n",
            "\u001b[0;31mNameError\u001b[0m: name 'requests' is not defined"
          ]
        }
      ]
    },
    {
      "cell_type": "code",
      "metadata": {
        "id": "FtlYOsY5LZEG"
      },
      "source": [
        ""
      ],
      "execution_count": null,
      "outputs": []
    }
  ]
}